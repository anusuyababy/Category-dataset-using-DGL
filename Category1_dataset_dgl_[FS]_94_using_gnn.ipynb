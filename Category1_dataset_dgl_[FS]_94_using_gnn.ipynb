{
  "cells": [
    {
      "cell_type": "markdown",
      "metadata": {
        "id": "zicTH6Fi8rIf"
      },
      "source": [
        "# FAKE REVIEW NODE EMBEDDING"
      ]
    },
    {
      "cell_type": "code",
      "source": [
        "# importing all necessary libraries\n",
        "import networkx as nx\n",
        "import pandas as pd\n",
        "import numpy as np\n",
        "import matplotlib.pyplot as plt\n",
        "import seaborn as sns\n",
        "import string\n",
        "import os\n",
        "import networkx as nx\n",
        "from sklearn import preprocessing, model_selection\n",
        "from IPython.display import display, HTML\n",
        "import matplotlib.pyplot as plt\n",
        "from sklearn.decomposition import PCA\n",
        "#from node2vec import Node2Vec as n2v\n",
        "sns.set()\n",
        "\n",
        "%matplotlib inline"
      ],
      "metadata": {
        "id": "QnCy6AgP5iwy"
      },
      "execution_count": 1,
      "outputs": []
    },
    {
      "cell_type": "code",
      "source": [
        "import os, sys\n",
        "from copy import deepcopy\n",
        "import numpy as np\n",
        "import pandas as pd\n",
        "\n",
        "import torch as th\n",
        "import torch.nn as nn\n",
        "from torch import optim\n",
        "import torch.nn.functional as F\n",
        "\n",
        "import matplotlib.pyplot as plt\n",
        "%matplotlib inline"
      ],
      "metadata": {
        "id": "KTxBYEEjBBc4"
      },
      "execution_count": 2,
      "outputs": []
    },
    {
      "cell_type": "code",
      "source": [
        "print(f\"Torch version: {th.__version__}.  CUDA version: {th.version.cuda}\")"
      ],
      "metadata": {
        "colab": {
          "base_uri": "https://localhost:8080/"
        },
        "id": "WfZg4oZpBD4X",
        "outputId": "b210a41d-08fc-44ac-9c6a-7da8877b4a44"
      },
      "execution_count": 3,
      "outputs": [
        {
          "output_type": "stream",
          "name": "stdout",
          "text": [
            "Torch version: 1.12.1+cu113.  CUDA version: 11.3\n"
          ]
        }
      ]
    },
    {
      "cell_type": "code",
      "source": [
        "dgl_version = f\"dgl-cu{th.version.cuda.replace('.', '')}==0.7.2\"\n",
        "dgl_version"
      ],
      "metadata": {
        "colab": {
          "base_uri": "https://localhost:8080/",
          "height": 36
        },
        "id": "twxQrYR2BD7P",
        "outputId": "179969f0-177e-4cc8-e431-5016258eceb4"
      },
      "execution_count": 4,
      "outputs": [
        {
          "output_type": "execute_result",
          "data": {
            "text/plain": [
              "'dgl-cu113==0.7.2'"
            ],
            "application/vnd.google.colaboratory.intrinsic+json": {
              "type": "string"
            }
          },
          "metadata": {},
          "execution_count": 4
        }
      ]
    },
    {
      "cell_type": "code",
      "source": [
        "# Follow instructions at https://www.dgl.ai/pages/start.html\n",
        "!{sys.executable} -m pip install {dgl_version} -f https://data.dgl.ai/wheels/repo.html"
      ],
      "metadata": {
        "colab": {
          "base_uri": "https://localhost:8080/"
        },
        "id": "yMMKD4XJBD-A",
        "outputId": "beebba07-4340-405b-f514-d99f6cf97f4a"
      },
      "execution_count": 5,
      "outputs": [
        {
          "output_type": "stream",
          "name": "stdout",
          "text": [
            "Looking in indexes: https://pypi.org/simple, https://us-python.pkg.dev/colab-wheels/public/simple/\n",
            "Looking in links: https://data.dgl.ai/wheels/repo.html\n",
            "Collecting dgl-cu113==0.7.2\n",
            "  Downloading https://data.dgl.ai/wheels/dgl_cu113-0.7.2-cp37-cp37m-manylinux1_x86_64.whl (152.9 MB)\n",
            "\u001b[K     |████████████████████████████████| 152.9 MB 35 kB/s \n",
            "\u001b[?25hRequirement already satisfied: numpy>=1.14.0 in /usr/local/lib/python3.7/dist-packages (from dgl-cu113==0.7.2) (1.21.6)\n",
            "Requirement already satisfied: requests>=2.19.0 in /usr/local/lib/python3.7/dist-packages (from dgl-cu113==0.7.2) (2.23.0)\n",
            "Requirement already satisfied: scipy>=1.1.0 in /usr/local/lib/python3.7/dist-packages (from dgl-cu113==0.7.2) (1.7.3)\n",
            "Requirement already satisfied: networkx>=2.1 in /usr/local/lib/python3.7/dist-packages (from dgl-cu113==0.7.2) (2.6.3)\n",
            "Requirement already satisfied: chardet<4,>=3.0.2 in /usr/local/lib/python3.7/dist-packages (from requests>=2.19.0->dgl-cu113==0.7.2) (3.0.4)\n",
            "Requirement already satisfied: urllib3!=1.25.0,!=1.25.1,<1.26,>=1.21.1 in /usr/local/lib/python3.7/dist-packages (from requests>=2.19.0->dgl-cu113==0.7.2) (1.24.3)\n",
            "Requirement already satisfied: idna<3,>=2.5 in /usr/local/lib/python3.7/dist-packages (from requests>=2.19.0->dgl-cu113==0.7.2) (2.10)\n",
            "Requirement already satisfied: certifi>=2017.4.17 in /usr/local/lib/python3.7/dist-packages (from requests>=2.19.0->dgl-cu113==0.7.2) (2022.9.24)\n",
            "Installing collected packages: dgl-cu113\n",
            "Successfully installed dgl-cu113-0.7.2\n"
          ]
        }
      ]
    },
    {
      "cell_type": "code",
      "source": [
        "os.environ['DGLBACKEND'] = 'pytorch'\n",
        "import dgl\n",
        "from dgl import function as fn"
      ],
      "metadata": {
        "id": "XtlC3DSzBM1X",
        "colab": {
          "base_uri": "https://localhost:8080/"
        },
        "outputId": "63976e91-2cd7-4b6a-9450-4be45419630b"
      },
      "execution_count": 6,
      "outputs": [
        {
          "output_type": "stream",
          "name": "stderr",
          "text": [
            "Using backend: pytorch\n"
          ]
        }
      ]
    },
    {
      "cell_type": "code",
      "source": [
        "dgl.__version__"
      ],
      "metadata": {
        "colab": {
          "base_uri": "https://localhost:8080/",
          "height": 36
        },
        "id": "lI7WmNtIBO4v",
        "outputId": "e468fac1-a56a-440d-d424-7b3044f52f26"
      },
      "execution_count": 7,
      "outputs": [
        {
          "output_type": "execute_result",
          "data": {
            "text/plain": [
              "'0.7.2'"
            ],
            "application/vnd.google.colaboratory.intrinsic+json": {
              "type": "string"
            }
          },
          "metadata": {},
          "execution_count": 7
        }
      ]
    },
    {
      "cell_type": "code",
      "source": [
        "from dgl.dataloading.pytorch import NodeDataLoader\n",
        "device = th.device('cuda' if th.cuda.is_available() else 'cpu')\n",
        "device"
      ],
      "metadata": {
        "colab": {
          "base_uri": "https://localhost:8080/"
        },
        "id": "KdAM2bOfBPlP",
        "outputId": "0b77a399-428f-4ef7-9516-b8f499111c07"
      },
      "execution_count": 8,
      "outputs": [
        {
          "output_type": "execute_result",
          "data": {
            "text/plain": [
              "device(type='cpu')"
            ]
          },
          "metadata": {},
          "execution_count": 8
        }
      ]
    },
    {
      "cell_type": "code",
      "source": [
        "import torch\n",
        "import torch.nn as nn\n",
        "from sklearn.linear_model import LogisticRegression\n",
        "from torch.utils.data import DataLoader\n",
        "import argparse\n",
        "\n",
        "from dgl.sampling import node2vec_random_walk"
      ],
      "metadata": {
        "id": "uP4cYiv4BgRa"
      },
      "execution_count": 9,
      "outputs": []
    },
    {
      "cell_type": "code",
      "source": [
        "#importing libraries\n",
        "import numpy as np\n",
        "import pandas as pd\n",
        "import nltk\n",
        "import matplotlib.pyplot as plt\n",
        "import statistics\n",
        "import math\n",
        "import os\n",
        "from sklearn.model_selection import KFold, StratifiedKFold, cross_val_score\n",
        "from sklearn.metrics import confusion_matrix\n",
        "nltk.download('stopwords')\n",
        "nltk.download('punkt')\n",
        "nltk.download('wordnet')\n",
        "nltk.download('omw-1.4')\n",
        "#nltk.download('all')\n",
        "import re\n",
        "pd.set_option('max_colwidth', 800)\n",
        "\n",
        "\n",
        "#importing Libraies\n",
        "import networkx as nx\n",
        "import matplotlib.pyplot as plt\n",
        "from numpy import genfromtxt\n",
        "import collections\n",
        "from collections import OrderedDict\n",
        "\n",
        "import matplotlib.pyplot as plt\n",
        "%matplotlib inline\n",
        "from sklearn.model_selection import train_test_split\n",
        "from sklearn.model_selection import KFold\n",
        "from sklearn.model_selection import cross_val_score\n",
        "from sklearn.tree import DecisionTreeClassifier\n",
        "from sklearn.feature_selection import SelectFromModel\n",
        "from sklearn.svm import SVC\n",
        "from sklearn.preprocessing import StandardScaler,MinMaxScaler\n",
        "from sklearn.linear_model import LinearRegression,LogisticRegression, RidgeClassifier\n",
        "from sklearn.discriminant_analysis import LinearDiscriminantAnalysis, QuadraticDiscriminantAnalysis\n",
        "from sklearn.ensemble import RandomForestClassifier, GradientBoostingClassifier, AdaBoostClassifier\n",
        "from sklearn.preprocessing import LabelEncoder\n",
        "from sklearn.metrics import classification_report,accuracy_score"
      ],
      "metadata": {
        "colab": {
          "base_uri": "https://localhost:8080/"
        },
        "id": "zvMyzp-I1CU6",
        "outputId": "e8c45227-070f-4f2b-f4f2-d5cb247e0f55"
      },
      "execution_count": 10,
      "outputs": [
        {
          "output_type": "stream",
          "name": "stderr",
          "text": [
            "[nltk_data] Downloading package stopwords to /root/nltk_data...\n",
            "[nltk_data]   Unzipping corpora/stopwords.zip.\n",
            "[nltk_data] Downloading package punkt to /root/nltk_data...\n",
            "[nltk_data]   Unzipping tokenizers/punkt.zip.\n",
            "[nltk_data] Downloading package wordnet to /root/nltk_data...\n",
            "[nltk_data] Downloading package omw-1.4 to /root/nltk_data...\n"
          ]
        }
      ]
    },
    {
      "cell_type": "code",
      "source": [
        "#loading dataset\n",
        "df=pd.read_csv('/content/category 1.csv')\n",
        "df.head()"
      ],
      "metadata": {
        "colab": {
          "base_uri": "https://localhost:8080/",
          "height": 206
        },
        "id": "56yBSCmN1CSB",
        "outputId": "bf23e193-f61b-4855-d5ee-d23da3d6630a"
      },
      "execution_count": 11,
      "outputs": [
        {
          "output_type": "execute_result",
          "data": {
            "text/plain": [
              "             category  rating label  \\\n",
              "0  Home_and_Kitchen_5     5.0    CG   \n",
              "1  Home_and_Kitchen_5     5.0    CG   \n",
              "2  Home_and_Kitchen_5     5.0    CG   \n",
              "3  Home_and_Kitchen_5     1.0    CG   \n",
              "4  Home_and_Kitchen_5     5.0    CG   \n",
              "\n",
              "                                                                                   text_  \n",
              "0            Love this!  Well made, sturdy, and very comfortable.  I love it!Very pretty  \n",
              "1       love it, a great upgrade from the original.  I've had mine for a couple of years  \n",
              "2                    This pillow saved my back. I love the look and feel of this pillow.  \n",
              "3      Missing information on how to use it, but it is a great product for the price!  I  \n",
              "4  Very nice set. Good quality. We have had the set for two months now and have not been  "
            ],
            "text/html": [
              "\n",
              "  <div id=\"df-321394ea-7e11-46eb-93eb-233210353568\">\n",
              "    <div class=\"colab-df-container\">\n",
              "      <div>\n",
              "<style scoped>\n",
              "    .dataframe tbody tr th:only-of-type {\n",
              "        vertical-align: middle;\n",
              "    }\n",
              "\n",
              "    .dataframe tbody tr th {\n",
              "        vertical-align: top;\n",
              "    }\n",
              "\n",
              "    .dataframe thead th {\n",
              "        text-align: right;\n",
              "    }\n",
              "</style>\n",
              "<table border=\"1\" class=\"dataframe\">\n",
              "  <thead>\n",
              "    <tr style=\"text-align: right;\">\n",
              "      <th></th>\n",
              "      <th>category</th>\n",
              "      <th>rating</th>\n",
              "      <th>label</th>\n",
              "      <th>text_</th>\n",
              "    </tr>\n",
              "  </thead>\n",
              "  <tbody>\n",
              "    <tr>\n",
              "      <th>0</th>\n",
              "      <td>Home_and_Kitchen_5</td>\n",
              "      <td>5.0</td>\n",
              "      <td>CG</td>\n",
              "      <td>Love this!  Well made, sturdy, and very comfortable.  I love it!Very pretty</td>\n",
              "    </tr>\n",
              "    <tr>\n",
              "      <th>1</th>\n",
              "      <td>Home_and_Kitchen_5</td>\n",
              "      <td>5.0</td>\n",
              "      <td>CG</td>\n",
              "      <td>love it, a great upgrade from the original.  I've had mine for a couple of years</td>\n",
              "    </tr>\n",
              "    <tr>\n",
              "      <th>2</th>\n",
              "      <td>Home_and_Kitchen_5</td>\n",
              "      <td>5.0</td>\n",
              "      <td>CG</td>\n",
              "      <td>This pillow saved my back. I love the look and feel of this pillow.</td>\n",
              "    </tr>\n",
              "    <tr>\n",
              "      <th>3</th>\n",
              "      <td>Home_and_Kitchen_5</td>\n",
              "      <td>1.0</td>\n",
              "      <td>CG</td>\n",
              "      <td>Missing information on how to use it, but it is a great product for the price!  I</td>\n",
              "    </tr>\n",
              "    <tr>\n",
              "      <th>4</th>\n",
              "      <td>Home_and_Kitchen_5</td>\n",
              "      <td>5.0</td>\n",
              "      <td>CG</td>\n",
              "      <td>Very nice set. Good quality. We have had the set for two months now and have not been</td>\n",
              "    </tr>\n",
              "  </tbody>\n",
              "</table>\n",
              "</div>\n",
              "      <button class=\"colab-df-convert\" onclick=\"convertToInteractive('df-321394ea-7e11-46eb-93eb-233210353568')\"\n",
              "              title=\"Convert this dataframe to an interactive table.\"\n",
              "              style=\"display:none;\">\n",
              "        \n",
              "  <svg xmlns=\"http://www.w3.org/2000/svg\" height=\"24px\"viewBox=\"0 0 24 24\"\n",
              "       width=\"24px\">\n",
              "    <path d=\"M0 0h24v24H0V0z\" fill=\"none\"/>\n",
              "    <path d=\"M18.56 5.44l.94 2.06.94-2.06 2.06-.94-2.06-.94-.94-2.06-.94 2.06-2.06.94zm-11 1L8.5 8.5l.94-2.06 2.06-.94-2.06-.94L8.5 2.5l-.94 2.06-2.06.94zm10 10l.94 2.06.94-2.06 2.06-.94-2.06-.94-.94-2.06-.94 2.06-2.06.94z\"/><path d=\"M17.41 7.96l-1.37-1.37c-.4-.4-.92-.59-1.43-.59-.52 0-1.04.2-1.43.59L10.3 9.45l-7.72 7.72c-.78.78-.78 2.05 0 2.83L4 21.41c.39.39.9.59 1.41.59.51 0 1.02-.2 1.41-.59l7.78-7.78 2.81-2.81c.8-.78.8-2.07 0-2.86zM5.41 20L4 18.59l7.72-7.72 1.47 1.35L5.41 20z\"/>\n",
              "  </svg>\n",
              "      </button>\n",
              "      \n",
              "  <style>\n",
              "    .colab-df-container {\n",
              "      display:flex;\n",
              "      flex-wrap:wrap;\n",
              "      gap: 12px;\n",
              "    }\n",
              "\n",
              "    .colab-df-convert {\n",
              "      background-color: #E8F0FE;\n",
              "      border: none;\n",
              "      border-radius: 50%;\n",
              "      cursor: pointer;\n",
              "      display: none;\n",
              "      fill: #1967D2;\n",
              "      height: 32px;\n",
              "      padding: 0 0 0 0;\n",
              "      width: 32px;\n",
              "    }\n",
              "\n",
              "    .colab-df-convert:hover {\n",
              "      background-color: #E2EBFA;\n",
              "      box-shadow: 0px 1px 2px rgba(60, 64, 67, 0.3), 0px 1px 3px 1px rgba(60, 64, 67, 0.15);\n",
              "      fill: #174EA6;\n",
              "    }\n",
              "\n",
              "    [theme=dark] .colab-df-convert {\n",
              "      background-color: #3B4455;\n",
              "      fill: #D2E3FC;\n",
              "    }\n",
              "\n",
              "    [theme=dark] .colab-df-convert:hover {\n",
              "      background-color: #434B5C;\n",
              "      box-shadow: 0px 1px 3px 1px rgba(0, 0, 0, 0.15);\n",
              "      filter: drop-shadow(0px 1px 2px rgba(0, 0, 0, 0.3));\n",
              "      fill: #FFFFFF;\n",
              "    }\n",
              "  </style>\n",
              "\n",
              "      <script>\n",
              "        const buttonEl =\n",
              "          document.querySelector('#df-321394ea-7e11-46eb-93eb-233210353568 button.colab-df-convert');\n",
              "        buttonEl.style.display =\n",
              "          google.colab.kernel.accessAllowed ? 'block' : 'none';\n",
              "\n",
              "        async function convertToInteractive(key) {\n",
              "          const element = document.querySelector('#df-321394ea-7e11-46eb-93eb-233210353568');\n",
              "          const dataTable =\n",
              "            await google.colab.kernel.invokeFunction('convertToInteractive',\n",
              "                                                     [key], {});\n",
              "          if (!dataTable) return;\n",
              "\n",
              "          const docLinkHtml = 'Like what you see? Visit the ' +\n",
              "            '<a target=\"_blank\" href=https://colab.research.google.com/notebooks/data_table.ipynb>data table notebook</a>'\n",
              "            + ' to learn more about interactive tables.';\n",
              "          element.innerHTML = '';\n",
              "          dataTable['output_type'] = 'display_data';\n",
              "          await google.colab.output.renderOutput(dataTable, element);\n",
              "          const docLink = document.createElement('div');\n",
              "          docLink.innerHTML = docLinkHtml;\n",
              "          element.appendChild(docLink);\n",
              "        }\n",
              "      </script>\n",
              "    </div>\n",
              "  </div>\n",
              "  "
            ]
          },
          "metadata": {},
          "execution_count": 11
        }
      ]
    },
    {
      "cell_type": "code",
      "source": [
        "#df = df.sample(frac=1, random_state=42).reset_index(drop=True)"
      ],
      "metadata": {
        "id": "ydjQBjajXhta"
      },
      "execution_count": 12,
      "outputs": []
    },
    {
      "cell_type": "code",
      "source": [
        "df.shape"
      ],
      "metadata": {
        "colab": {
          "base_uri": "https://localhost:8080/"
        },
        "id": "fhz_MORRXlrS",
        "outputId": "e1169de7-fa2d-46f0-e752-5ab4ab25ad69"
      },
      "execution_count": 13,
      "outputs": [
        {
          "output_type": "execute_result",
          "data": {
            "text/plain": [
              "(4056, 4)"
            ]
          },
          "metadata": {},
          "execution_count": 13
        }
      ]
    },
    {
      "cell_type": "code",
      "source": [
        "df['label'].value_counts()"
      ],
      "metadata": {
        "colab": {
          "base_uri": "https://localhost:8080/"
        },
        "id": "gIqg1tqk1CL5",
        "outputId": "a5bdf950-874a-420c-90e0-65e31364f964"
      },
      "execution_count": 14,
      "outputs": [
        {
          "output_type": "execute_result",
          "data": {
            "text/plain": [
              "CG    2028\n",
              "OR    2028\n",
              "Name: label, dtype: int64"
            ]
          },
          "metadata": {},
          "execution_count": 14
        }
      ]
    },
    {
      "cell_type": "code",
      "source": [
        "# dropping unnecessary columns. \n",
        "df.drop(['category', 'rating'], axis = 1, inplace=True)\n",
        "df.head()"
      ],
      "metadata": {
        "colab": {
          "base_uri": "https://localhost:8080/",
          "height": 206
        },
        "id": "PCAf1wlZ1CI5",
        "outputId": "ed74a081-b584-4cb7-dcd6-dc941efbb1f8"
      },
      "execution_count": 15,
      "outputs": [
        {
          "output_type": "execute_result",
          "data": {
            "text/plain": [
              "  label  \\\n",
              "0    CG   \n",
              "1    CG   \n",
              "2    CG   \n",
              "3    CG   \n",
              "4    CG   \n",
              "\n",
              "                                                                                   text_  \n",
              "0            Love this!  Well made, sturdy, and very comfortable.  I love it!Very pretty  \n",
              "1       love it, a great upgrade from the original.  I've had mine for a couple of years  \n",
              "2                    This pillow saved my back. I love the look and feel of this pillow.  \n",
              "3      Missing information on how to use it, but it is a great product for the price!  I  \n",
              "4  Very nice set. Good quality. We have had the set for two months now and have not been  "
            ],
            "text/html": [
              "\n",
              "  <div id=\"df-f5977a2b-071a-40df-8b42-28f89b3f85e1\">\n",
              "    <div class=\"colab-df-container\">\n",
              "      <div>\n",
              "<style scoped>\n",
              "    .dataframe tbody tr th:only-of-type {\n",
              "        vertical-align: middle;\n",
              "    }\n",
              "\n",
              "    .dataframe tbody tr th {\n",
              "        vertical-align: top;\n",
              "    }\n",
              "\n",
              "    .dataframe thead th {\n",
              "        text-align: right;\n",
              "    }\n",
              "</style>\n",
              "<table border=\"1\" class=\"dataframe\">\n",
              "  <thead>\n",
              "    <tr style=\"text-align: right;\">\n",
              "      <th></th>\n",
              "      <th>label</th>\n",
              "      <th>text_</th>\n",
              "    </tr>\n",
              "  </thead>\n",
              "  <tbody>\n",
              "    <tr>\n",
              "      <th>0</th>\n",
              "      <td>CG</td>\n",
              "      <td>Love this!  Well made, sturdy, and very comfortable.  I love it!Very pretty</td>\n",
              "    </tr>\n",
              "    <tr>\n",
              "      <th>1</th>\n",
              "      <td>CG</td>\n",
              "      <td>love it, a great upgrade from the original.  I've had mine for a couple of years</td>\n",
              "    </tr>\n",
              "    <tr>\n",
              "      <th>2</th>\n",
              "      <td>CG</td>\n",
              "      <td>This pillow saved my back. I love the look and feel of this pillow.</td>\n",
              "    </tr>\n",
              "    <tr>\n",
              "      <th>3</th>\n",
              "      <td>CG</td>\n",
              "      <td>Missing information on how to use it, but it is a great product for the price!  I</td>\n",
              "    </tr>\n",
              "    <tr>\n",
              "      <th>4</th>\n",
              "      <td>CG</td>\n",
              "      <td>Very nice set. Good quality. We have had the set for two months now and have not been</td>\n",
              "    </tr>\n",
              "  </tbody>\n",
              "</table>\n",
              "</div>\n",
              "      <button class=\"colab-df-convert\" onclick=\"convertToInteractive('df-f5977a2b-071a-40df-8b42-28f89b3f85e1')\"\n",
              "              title=\"Convert this dataframe to an interactive table.\"\n",
              "              style=\"display:none;\">\n",
              "        \n",
              "  <svg xmlns=\"http://www.w3.org/2000/svg\" height=\"24px\"viewBox=\"0 0 24 24\"\n",
              "       width=\"24px\">\n",
              "    <path d=\"M0 0h24v24H0V0z\" fill=\"none\"/>\n",
              "    <path d=\"M18.56 5.44l.94 2.06.94-2.06 2.06-.94-2.06-.94-.94-2.06-.94 2.06-2.06.94zm-11 1L8.5 8.5l.94-2.06 2.06-.94-2.06-.94L8.5 2.5l-.94 2.06-2.06.94zm10 10l.94 2.06.94-2.06 2.06-.94-2.06-.94-.94-2.06-.94 2.06-2.06.94z\"/><path d=\"M17.41 7.96l-1.37-1.37c-.4-.4-.92-.59-1.43-.59-.52 0-1.04.2-1.43.59L10.3 9.45l-7.72 7.72c-.78.78-.78 2.05 0 2.83L4 21.41c.39.39.9.59 1.41.59.51 0 1.02-.2 1.41-.59l7.78-7.78 2.81-2.81c.8-.78.8-2.07 0-2.86zM5.41 20L4 18.59l7.72-7.72 1.47 1.35L5.41 20z\"/>\n",
              "  </svg>\n",
              "      </button>\n",
              "      \n",
              "  <style>\n",
              "    .colab-df-container {\n",
              "      display:flex;\n",
              "      flex-wrap:wrap;\n",
              "      gap: 12px;\n",
              "    }\n",
              "\n",
              "    .colab-df-convert {\n",
              "      background-color: #E8F0FE;\n",
              "      border: none;\n",
              "      border-radius: 50%;\n",
              "      cursor: pointer;\n",
              "      display: none;\n",
              "      fill: #1967D2;\n",
              "      height: 32px;\n",
              "      padding: 0 0 0 0;\n",
              "      width: 32px;\n",
              "    }\n",
              "\n",
              "    .colab-df-convert:hover {\n",
              "      background-color: #E2EBFA;\n",
              "      box-shadow: 0px 1px 2px rgba(60, 64, 67, 0.3), 0px 1px 3px 1px rgba(60, 64, 67, 0.15);\n",
              "      fill: #174EA6;\n",
              "    }\n",
              "\n",
              "    [theme=dark] .colab-df-convert {\n",
              "      background-color: #3B4455;\n",
              "      fill: #D2E3FC;\n",
              "    }\n",
              "\n",
              "    [theme=dark] .colab-df-convert:hover {\n",
              "      background-color: #434B5C;\n",
              "      box-shadow: 0px 1px 3px 1px rgba(0, 0, 0, 0.15);\n",
              "      filter: drop-shadow(0px 1px 2px rgba(0, 0, 0, 0.3));\n",
              "      fill: #FFFFFF;\n",
              "    }\n",
              "  </style>\n",
              "\n",
              "      <script>\n",
              "        const buttonEl =\n",
              "          document.querySelector('#df-f5977a2b-071a-40df-8b42-28f89b3f85e1 button.colab-df-convert');\n",
              "        buttonEl.style.display =\n",
              "          google.colab.kernel.accessAllowed ? 'block' : 'none';\n",
              "\n",
              "        async function convertToInteractive(key) {\n",
              "          const element = document.querySelector('#df-f5977a2b-071a-40df-8b42-28f89b3f85e1');\n",
              "          const dataTable =\n",
              "            await google.colab.kernel.invokeFunction('convertToInteractive',\n",
              "                                                     [key], {});\n",
              "          if (!dataTable) return;\n",
              "\n",
              "          const docLinkHtml = 'Like what you see? Visit the ' +\n",
              "            '<a target=\"_blank\" href=https://colab.research.google.com/notebooks/data_table.ipynb>data table notebook</a>'\n",
              "            + ' to learn more about interactive tables.';\n",
              "          element.innerHTML = '';\n",
              "          dataTable['output_type'] = 'display_data';\n",
              "          await google.colab.output.renderOutput(dataTable, element);\n",
              "          const docLink = document.createElement('div');\n",
              "          docLink.innerHTML = docLinkHtml;\n",
              "          element.appendChild(docLink);\n",
              "        }\n",
              "      </script>\n",
              "    </div>\n",
              "  </div>\n",
              "  "
            ]
          },
          "metadata": {},
          "execution_count": 15
        }
      ]
    },
    {
      "cell_type": "code",
      "source": [
        "z = {'OR' : 1, 'CG' : 0}  # 1 for original reviews and 0 for computer generated reviews\n",
        "df['label'] = df['label'].map(z)"
      ],
      "metadata": {
        "id": "B0h624FFRCAf"
      },
      "execution_count": 16,
      "outputs": []
    },
    {
      "cell_type": "code",
      "source": [
        "# Cleaning Raw tweets\n",
        "def clean_text(text):\n",
        "    \n",
        "    #remove emails\n",
        "    text = ' '.join([i for i in text.split() if '@' not in i])\n",
        "    \n",
        "    #remove web address\n",
        "    text = re.sub('http[s]?://\\S+', '', text)\n",
        "\n",
        "    #remove brackets and parantheses (and removing the text inside the brackets and parantheses)\n",
        "    text = re.sub(\"[\\(\\[].*?[\\)\\]]\", \"\", text)\n",
        "\n",
        "    #remove punctuations\n",
        "    text = re.sub(r'[^\\w\\s]', ' ', text)\n",
        "    \n",
        "    #Filter to allow only alphabets and numbers\n",
        "    text = re.sub(r'[^a-zA-Z\\']', ' ', text)\n",
        "    \n",
        "    #Remove Unicode characters\n",
        "    text = re.sub(r'[^\\x00-\\x7F]+', '', text)\n",
        "\n",
        "    #remove double spaces \n",
        "    text = re.sub('\\s+', ' ', text)\n",
        "    \n",
        "    return text"
      ],
      "metadata": {
        "id": "iFvbHYi_1CFx"
      },
      "execution_count": 17,
      "outputs": []
    },
    {
      "cell_type": "code",
      "source": [
        "# applying that into function.\n",
        "df[\"clean_text\"] = df['text_'].apply(lambda x: clean_text(x))\n",
        "df.head(10)"
      ],
      "metadata": {
        "colab": {
          "base_uri": "https://localhost:8080/",
          "height": 363
        },
        "id": "v6Mp22wd1CCr",
        "outputId": "19e7dac8-2926-40c9-df43-3b0fa3845bc1"
      },
      "execution_count": 18,
      "outputs": [
        {
          "output_type": "execute_result",
          "data": {
            "text/plain": [
              "   label  \\\n",
              "0      0   \n",
              "1      0   \n",
              "2      0   \n",
              "3      0   \n",
              "4      0   \n",
              "5      0   \n",
              "6      0   \n",
              "7      0   \n",
              "8      0   \n",
              "9      0   \n",
              "\n",
              "                                                                                       text_  \\\n",
              "0                Love this!  Well made, sturdy, and very comfortable.  I love it!Very pretty   \n",
              "1           love it, a great upgrade from the original.  I've had mine for a couple of years   \n",
              "2                        This pillow saved my back. I love the look and feel of this pillow.   \n",
              "3          Missing information on how to use it, but it is a great product for the price!  I   \n",
              "4      Very nice set. Good quality. We have had the set for two months now and have not been   \n",
              "5                                               I WANTED DIFFERENT FLAVORS BUT THEY ARE NOT.   \n",
              "6  They are the perfect touch for me and the only thing I wish they had a little more space.   \n",
              "7      These done fit well and look great.  I love the smoothness of the edges and the extra   \n",
              "8          Great big numbers & easy to read, the only thing I didn't like is the size of the   \n",
              "9                 My son loves this comforter and it is very well made.  We also have a baby   \n",
              "\n",
              "                                                                                  clean_text  \n",
              "0                      Love this Well made sturdy and very comfortable I love it Very pretty  \n",
              "1              love it a great upgrade from the original I ve had mine for a couple of years  \n",
              "2                         This pillow saved my back I love the look and feel of this pillow   \n",
              "3             Missing information on how to use it but it is a great product for the price I  \n",
              "4        Very nice set Good quality We have had the set for two months now and have not been  \n",
              "5                                               I WANTED DIFFERENT FLAVORS BUT THEY ARE NOT   \n",
              "6  They are the perfect touch for me and the only thing I wish they had a little more space   \n",
              "7        These done fit well and look great I love the smoothness of the edges and the extra  \n",
              "8             Great big numbers easy to read the only thing I didn t like is the size of the  \n",
              "9                   My son loves this comforter and it is very well made We also have a baby  "
            ],
            "text/html": [
              "\n",
              "  <div id=\"df-c7e02bbf-7ae2-4947-9bca-34053c3a3cd7\">\n",
              "    <div class=\"colab-df-container\">\n",
              "      <div>\n",
              "<style scoped>\n",
              "    .dataframe tbody tr th:only-of-type {\n",
              "        vertical-align: middle;\n",
              "    }\n",
              "\n",
              "    .dataframe tbody tr th {\n",
              "        vertical-align: top;\n",
              "    }\n",
              "\n",
              "    .dataframe thead th {\n",
              "        text-align: right;\n",
              "    }\n",
              "</style>\n",
              "<table border=\"1\" class=\"dataframe\">\n",
              "  <thead>\n",
              "    <tr style=\"text-align: right;\">\n",
              "      <th></th>\n",
              "      <th>label</th>\n",
              "      <th>text_</th>\n",
              "      <th>clean_text</th>\n",
              "    </tr>\n",
              "  </thead>\n",
              "  <tbody>\n",
              "    <tr>\n",
              "      <th>0</th>\n",
              "      <td>0</td>\n",
              "      <td>Love this!  Well made, sturdy, and very comfortable.  I love it!Very pretty</td>\n",
              "      <td>Love this Well made sturdy and very comfortable I love it Very pretty</td>\n",
              "    </tr>\n",
              "    <tr>\n",
              "      <th>1</th>\n",
              "      <td>0</td>\n",
              "      <td>love it, a great upgrade from the original.  I've had mine for a couple of years</td>\n",
              "      <td>love it a great upgrade from the original I ve had mine for a couple of years</td>\n",
              "    </tr>\n",
              "    <tr>\n",
              "      <th>2</th>\n",
              "      <td>0</td>\n",
              "      <td>This pillow saved my back. I love the look and feel of this pillow.</td>\n",
              "      <td>This pillow saved my back I love the look and feel of this pillow</td>\n",
              "    </tr>\n",
              "    <tr>\n",
              "      <th>3</th>\n",
              "      <td>0</td>\n",
              "      <td>Missing information on how to use it, but it is a great product for the price!  I</td>\n",
              "      <td>Missing information on how to use it but it is a great product for the price I</td>\n",
              "    </tr>\n",
              "    <tr>\n",
              "      <th>4</th>\n",
              "      <td>0</td>\n",
              "      <td>Very nice set. Good quality. We have had the set for two months now and have not been</td>\n",
              "      <td>Very nice set Good quality We have had the set for two months now and have not been</td>\n",
              "    </tr>\n",
              "    <tr>\n",
              "      <th>5</th>\n",
              "      <td>0</td>\n",
              "      <td>I WANTED DIFFERENT FLAVORS BUT THEY ARE NOT.</td>\n",
              "      <td>I WANTED DIFFERENT FLAVORS BUT THEY ARE NOT</td>\n",
              "    </tr>\n",
              "    <tr>\n",
              "      <th>6</th>\n",
              "      <td>0</td>\n",
              "      <td>They are the perfect touch for me and the only thing I wish they had a little more space.</td>\n",
              "      <td>They are the perfect touch for me and the only thing I wish they had a little more space</td>\n",
              "    </tr>\n",
              "    <tr>\n",
              "      <th>7</th>\n",
              "      <td>0</td>\n",
              "      <td>These done fit well and look great.  I love the smoothness of the edges and the extra</td>\n",
              "      <td>These done fit well and look great I love the smoothness of the edges and the extra</td>\n",
              "    </tr>\n",
              "    <tr>\n",
              "      <th>8</th>\n",
              "      <td>0</td>\n",
              "      <td>Great big numbers &amp; easy to read, the only thing I didn't like is the size of the</td>\n",
              "      <td>Great big numbers easy to read the only thing I didn t like is the size of the</td>\n",
              "    </tr>\n",
              "    <tr>\n",
              "      <th>9</th>\n",
              "      <td>0</td>\n",
              "      <td>My son loves this comforter and it is very well made.  We also have a baby</td>\n",
              "      <td>My son loves this comforter and it is very well made We also have a baby</td>\n",
              "    </tr>\n",
              "  </tbody>\n",
              "</table>\n",
              "</div>\n",
              "      <button class=\"colab-df-convert\" onclick=\"convertToInteractive('df-c7e02bbf-7ae2-4947-9bca-34053c3a3cd7')\"\n",
              "              title=\"Convert this dataframe to an interactive table.\"\n",
              "              style=\"display:none;\">\n",
              "        \n",
              "  <svg xmlns=\"http://www.w3.org/2000/svg\" height=\"24px\"viewBox=\"0 0 24 24\"\n",
              "       width=\"24px\">\n",
              "    <path d=\"M0 0h24v24H0V0z\" fill=\"none\"/>\n",
              "    <path d=\"M18.56 5.44l.94 2.06.94-2.06 2.06-.94-2.06-.94-.94-2.06-.94 2.06-2.06.94zm-11 1L8.5 8.5l.94-2.06 2.06-.94-2.06-.94L8.5 2.5l-.94 2.06-2.06.94zm10 10l.94 2.06.94-2.06 2.06-.94-2.06-.94-.94-2.06-.94 2.06-2.06.94z\"/><path d=\"M17.41 7.96l-1.37-1.37c-.4-.4-.92-.59-1.43-.59-.52 0-1.04.2-1.43.59L10.3 9.45l-7.72 7.72c-.78.78-.78 2.05 0 2.83L4 21.41c.39.39.9.59 1.41.59.51 0 1.02-.2 1.41-.59l7.78-7.78 2.81-2.81c.8-.78.8-2.07 0-2.86zM5.41 20L4 18.59l7.72-7.72 1.47 1.35L5.41 20z\"/>\n",
              "  </svg>\n",
              "      </button>\n",
              "      \n",
              "  <style>\n",
              "    .colab-df-container {\n",
              "      display:flex;\n",
              "      flex-wrap:wrap;\n",
              "      gap: 12px;\n",
              "    }\n",
              "\n",
              "    .colab-df-convert {\n",
              "      background-color: #E8F0FE;\n",
              "      border: none;\n",
              "      border-radius: 50%;\n",
              "      cursor: pointer;\n",
              "      display: none;\n",
              "      fill: #1967D2;\n",
              "      height: 32px;\n",
              "      padding: 0 0 0 0;\n",
              "      width: 32px;\n",
              "    }\n",
              "\n",
              "    .colab-df-convert:hover {\n",
              "      background-color: #E2EBFA;\n",
              "      box-shadow: 0px 1px 2px rgba(60, 64, 67, 0.3), 0px 1px 3px 1px rgba(60, 64, 67, 0.15);\n",
              "      fill: #174EA6;\n",
              "    }\n",
              "\n",
              "    [theme=dark] .colab-df-convert {\n",
              "      background-color: #3B4455;\n",
              "      fill: #D2E3FC;\n",
              "    }\n",
              "\n",
              "    [theme=dark] .colab-df-convert:hover {\n",
              "      background-color: #434B5C;\n",
              "      box-shadow: 0px 1px 3px 1px rgba(0, 0, 0, 0.15);\n",
              "      filter: drop-shadow(0px 1px 2px rgba(0, 0, 0, 0.3));\n",
              "      fill: #FFFFFF;\n",
              "    }\n",
              "  </style>\n",
              "\n",
              "      <script>\n",
              "        const buttonEl =\n",
              "          document.querySelector('#df-c7e02bbf-7ae2-4947-9bca-34053c3a3cd7 button.colab-df-convert');\n",
              "        buttonEl.style.display =\n",
              "          google.colab.kernel.accessAllowed ? 'block' : 'none';\n",
              "\n",
              "        async function convertToInteractive(key) {\n",
              "          const element = document.querySelector('#df-c7e02bbf-7ae2-4947-9bca-34053c3a3cd7');\n",
              "          const dataTable =\n",
              "            await google.colab.kernel.invokeFunction('convertToInteractive',\n",
              "                                                     [key], {});\n",
              "          if (!dataTable) return;\n",
              "\n",
              "          const docLinkHtml = 'Like what you see? Visit the ' +\n",
              "            '<a target=\"_blank\" href=https://colab.research.google.com/notebooks/data_table.ipynb>data table notebook</a>'\n",
              "            + ' to learn more about interactive tables.';\n",
              "          element.innerHTML = '';\n",
              "          dataTable['output_type'] = 'display_data';\n",
              "          await google.colab.output.renderOutput(dataTable, element);\n",
              "          const docLink = document.createElement('div');\n",
              "          docLink.innerHTML = docLinkHtml;\n",
              "          element.appendChild(docLink);\n",
              "        }\n",
              "      </script>\n",
              "    </div>\n",
              "  </div>\n",
              "  "
            ]
          },
          "metadata": {},
          "execution_count": 18
        }
      ]
    },
    {
      "cell_type": "code",
      "source": [
        "# dropping the uncleaned text column \"text\"\n",
        "df = df.drop(['text_'], axis=1)"
      ],
      "metadata": {
        "id": "8Z23FwIO1B_Z"
      },
      "execution_count": 19,
      "outputs": []
    },
    {
      "cell_type": "code",
      "source": [
        "# renaming the column\n",
        "df.rename(columns = {'clean_text':'text', 'label': 'Class'}, inplace = True)\n",
        "df.head()"
      ],
      "metadata": {
        "colab": {
          "base_uri": "https://localhost:8080/",
          "height": 206
        },
        "id": "PA6IV9PC1B8B",
        "outputId": "817d19f0-9f4e-4ede-bbe0-f4ea31ba0b03"
      },
      "execution_count": 20,
      "outputs": [
        {
          "output_type": "execute_result",
          "data": {
            "text/plain": [
              "   Class  \\\n",
              "0      0   \n",
              "1      0   \n",
              "2      0   \n",
              "3      0   \n",
              "4      0   \n",
              "\n",
              "                                                                                  text  \n",
              "0                Love this Well made sturdy and very comfortable I love it Very pretty  \n",
              "1        love it a great upgrade from the original I ve had mine for a couple of years  \n",
              "2                   This pillow saved my back I love the look and feel of this pillow   \n",
              "3       Missing information on how to use it but it is a great product for the price I  \n",
              "4  Very nice set Good quality We have had the set for two months now and have not been  "
            ],
            "text/html": [
              "\n",
              "  <div id=\"df-ca39a1f3-f6c7-4f12-b289-7abf0a41b31f\">\n",
              "    <div class=\"colab-df-container\">\n",
              "      <div>\n",
              "<style scoped>\n",
              "    .dataframe tbody tr th:only-of-type {\n",
              "        vertical-align: middle;\n",
              "    }\n",
              "\n",
              "    .dataframe tbody tr th {\n",
              "        vertical-align: top;\n",
              "    }\n",
              "\n",
              "    .dataframe thead th {\n",
              "        text-align: right;\n",
              "    }\n",
              "</style>\n",
              "<table border=\"1\" class=\"dataframe\">\n",
              "  <thead>\n",
              "    <tr style=\"text-align: right;\">\n",
              "      <th></th>\n",
              "      <th>Class</th>\n",
              "      <th>text</th>\n",
              "    </tr>\n",
              "  </thead>\n",
              "  <tbody>\n",
              "    <tr>\n",
              "      <th>0</th>\n",
              "      <td>0</td>\n",
              "      <td>Love this Well made sturdy and very comfortable I love it Very pretty</td>\n",
              "    </tr>\n",
              "    <tr>\n",
              "      <th>1</th>\n",
              "      <td>0</td>\n",
              "      <td>love it a great upgrade from the original I ve had mine for a couple of years</td>\n",
              "    </tr>\n",
              "    <tr>\n",
              "      <th>2</th>\n",
              "      <td>0</td>\n",
              "      <td>This pillow saved my back I love the look and feel of this pillow</td>\n",
              "    </tr>\n",
              "    <tr>\n",
              "      <th>3</th>\n",
              "      <td>0</td>\n",
              "      <td>Missing information on how to use it but it is a great product for the price I</td>\n",
              "    </tr>\n",
              "    <tr>\n",
              "      <th>4</th>\n",
              "      <td>0</td>\n",
              "      <td>Very nice set Good quality We have had the set for two months now and have not been</td>\n",
              "    </tr>\n",
              "  </tbody>\n",
              "</table>\n",
              "</div>\n",
              "      <button class=\"colab-df-convert\" onclick=\"convertToInteractive('df-ca39a1f3-f6c7-4f12-b289-7abf0a41b31f')\"\n",
              "              title=\"Convert this dataframe to an interactive table.\"\n",
              "              style=\"display:none;\">\n",
              "        \n",
              "  <svg xmlns=\"http://www.w3.org/2000/svg\" height=\"24px\"viewBox=\"0 0 24 24\"\n",
              "       width=\"24px\">\n",
              "    <path d=\"M0 0h24v24H0V0z\" fill=\"none\"/>\n",
              "    <path d=\"M18.56 5.44l.94 2.06.94-2.06 2.06-.94-2.06-.94-.94-2.06-.94 2.06-2.06.94zm-11 1L8.5 8.5l.94-2.06 2.06-.94-2.06-.94L8.5 2.5l-.94 2.06-2.06.94zm10 10l.94 2.06.94-2.06 2.06-.94-2.06-.94-.94-2.06-.94 2.06-2.06.94z\"/><path d=\"M17.41 7.96l-1.37-1.37c-.4-.4-.92-.59-1.43-.59-.52 0-1.04.2-1.43.59L10.3 9.45l-7.72 7.72c-.78.78-.78 2.05 0 2.83L4 21.41c.39.39.9.59 1.41.59.51 0 1.02-.2 1.41-.59l7.78-7.78 2.81-2.81c.8-.78.8-2.07 0-2.86zM5.41 20L4 18.59l7.72-7.72 1.47 1.35L5.41 20z\"/>\n",
              "  </svg>\n",
              "      </button>\n",
              "      \n",
              "  <style>\n",
              "    .colab-df-container {\n",
              "      display:flex;\n",
              "      flex-wrap:wrap;\n",
              "      gap: 12px;\n",
              "    }\n",
              "\n",
              "    .colab-df-convert {\n",
              "      background-color: #E8F0FE;\n",
              "      border: none;\n",
              "      border-radius: 50%;\n",
              "      cursor: pointer;\n",
              "      display: none;\n",
              "      fill: #1967D2;\n",
              "      height: 32px;\n",
              "      padding: 0 0 0 0;\n",
              "      width: 32px;\n",
              "    }\n",
              "\n",
              "    .colab-df-convert:hover {\n",
              "      background-color: #E2EBFA;\n",
              "      box-shadow: 0px 1px 2px rgba(60, 64, 67, 0.3), 0px 1px 3px 1px rgba(60, 64, 67, 0.15);\n",
              "      fill: #174EA6;\n",
              "    }\n",
              "\n",
              "    [theme=dark] .colab-df-convert {\n",
              "      background-color: #3B4455;\n",
              "      fill: #D2E3FC;\n",
              "    }\n",
              "\n",
              "    [theme=dark] .colab-df-convert:hover {\n",
              "      background-color: #434B5C;\n",
              "      box-shadow: 0px 1px 3px 1px rgba(0, 0, 0, 0.15);\n",
              "      filter: drop-shadow(0px 1px 2px rgba(0, 0, 0, 0.3));\n",
              "      fill: #FFFFFF;\n",
              "    }\n",
              "  </style>\n",
              "\n",
              "      <script>\n",
              "        const buttonEl =\n",
              "          document.querySelector('#df-ca39a1f3-f6c7-4f12-b289-7abf0a41b31f button.colab-df-convert');\n",
              "        buttonEl.style.display =\n",
              "          google.colab.kernel.accessAllowed ? 'block' : 'none';\n",
              "\n",
              "        async function convertToInteractive(key) {\n",
              "          const element = document.querySelector('#df-ca39a1f3-f6c7-4f12-b289-7abf0a41b31f');\n",
              "          const dataTable =\n",
              "            await google.colab.kernel.invokeFunction('convertToInteractive',\n",
              "                                                     [key], {});\n",
              "          if (!dataTable) return;\n",
              "\n",
              "          const docLinkHtml = 'Like what you see? Visit the ' +\n",
              "            '<a target=\"_blank\" href=https://colab.research.google.com/notebooks/data_table.ipynb>data table notebook</a>'\n",
              "            + ' to learn more about interactive tables.';\n",
              "          element.innerHTML = '';\n",
              "          dataTable['output_type'] = 'display_data';\n",
              "          await google.colab.output.renderOutput(dataTable, element);\n",
              "          const docLink = document.createElement('div');\n",
              "          docLink.innerHTML = docLinkHtml;\n",
              "          element.appendChild(docLink);\n",
              "        }\n",
              "      </script>\n",
              "    </div>\n",
              "  </div>\n",
              "  "
            ]
          },
          "metadata": {},
          "execution_count": 20
        }
      ]
    },
    {
      "cell_type": "code",
      "source": [
        "import spacy\n",
        "#loading the english language small model of spacy\n",
        "en = spacy.load('en_core_web_sm')\n",
        "sw_spacy = en.Defaults.stop_words\n",
        "print(sw_spacy)"
      ],
      "metadata": {
        "colab": {
          "base_uri": "https://localhost:8080/"
        },
        "id": "TS03aaDy1B4p",
        "outputId": "418ecbc4-6e5c-4710-d26f-2355bec3b280"
      },
      "execution_count": 21,
      "outputs": [
        {
          "output_type": "stream",
          "name": "stdout",
          "text": [
            "{'’m', '‘d', 'why', 'off', 'this', 'one', 'enough', 'these', 'could', 'fifteen', 'yourself', 'ten', 'move', 'whom', 'seems', 'mostly', 'almost', 'when', 'its', 'rather', 'before', 'wherein', 'or', 'somewhere', 'therein', 'twenty', 'me', '’d', 'except', 'were', 'either', 'anyhow', 'most', 'whence', 'moreover', 'she', 'everywhere', 'her', 'throughout', 'alone', 'latterly', 'six', 'sometime', 'against', 'hers', 'top', 'after', 'as', 'above', 'besides', 'put', 'seemed', 'via', 'side', \"n't\", 'your', 'without', 'whatever', 'whose', 'ca', 'yours', '‘s', 'very', 'regarding', 'already', 'whither', 'is', 'wherever', 'fifty', 'others', 'more', 'behind', 'thru', 'was', 'now', 'where', 'few', 'along', 'once', 'thence', 'forty', 'he', 'whereby', '’s', '‘ve', 'it', 'three', 'and', 'get', 'would', 'both', 'own', 'hereupon', 'herself', 'made', 'us', 'else', 'if', 'around', 'seeming', 'used', '’ve', 'even', 'myself', 'n’t', 'an', 'otherwise', 'the', 'then', 'upon', 'something', 'than', 'least', 'only', 'yet', 'anyway', 'our', 'formerly', 'neither', 'whoever', 'itself', 'nowhere', 'thereby', 'towards', 'whole', 'former', 'thereafter', 'per', 'from', 'two', \"'re\", '‘re', 'am', 'however', 'them', 'across', 'to', 'all', 'have', 'give', 'really', 'with', 'while', 'back', 'indeed', \"'ll\", 'for', 'four', 'they', 'until', 'keep', 'together', 'since', 'over', 'several', 'cannot', '‘ll', 'of', 'what', 'five', 'yourselves', 'became', 'may', 'into', 'within', 'being', 'sixty', 'we', 'though', \"'d\", 'show', 'never', 'beside', 'thereupon', 'ourselves', \"'s\", 'him', 'you', 'among', 'anything', 'no', \"'ve\", 'noone', 'but', 'whereupon', 'anywhere', 'under', 'someone', 'must', 'that', 'becoming', 'say', 'eleven', '’ll', 'often', 'next', 'those', 'hereby', 'well', 'part', 'each', 'elsewhere', 'many', 'becomes', 'twelve', 'up', 'eight', 'due', 'by', 'below', 'become', 'everyone', 'i', 'make', 'perhaps', 'some', 'might', 'does', 'did', 'also', 'again', 'do', 'will', 'go', 'amongst', '’re', 're', 'anyone', 'unless', 'whether', 'hence', 'whereas', 'whenever', 'every', 'thus', 'sometimes', 'be', 'various', 'because', 'nine', 'themselves', 'see', 'another', 'amount', 'between', 'same', 'other', 'whereafter', '‘m', 'just', 'how', 'through', 'somehow', 'during', 'none', 'doing', 'first', 'seem', 'his', 'has', 'can', 'here', 'a', 'who', 'front', 'onto', 'nobody', 'should', 'nevertheless', 'hundred', 'last', 'about', 'less', 'too', 'ours', 'n‘t', 'at', 'ever', 'still', 'meanwhile', 'take', 'always', 'bottom', 'in', 'therefore', 'not', 'nothing', 'my', 'herein', 'although', 'toward', 'which', 'mine', 'out', 'beforehand', 'namely', 'so', 'had', 'quite', 'been', 'are', 'down', 'there', 'name', 'empty', 'afterwards', \"'m\", 'call', 'nor', 'latter', 'third', 'done', 'further', 'their', 'any', 'full', 'on', 'using', 'much', 'beyond', 'everything', 'himself', 'such', 'serious', 'please', 'hereafter'}\n"
          ]
        }
      ]
    },
    {
      "cell_type": "code",
      "source": [
        "import nltk\n",
        "from nltk.corpus import stopwords\n",
        "sw_nltk = stopwords.words('english')\n",
        "print(sw_nltk)"
      ],
      "metadata": {
        "colab": {
          "base_uri": "https://localhost:8080/"
        },
        "id": "HQ43oOMR1B1N",
        "outputId": "e5de1550-0c27-461c-a415-160d3066a561"
      },
      "execution_count": 22,
      "outputs": [
        {
          "output_type": "stream",
          "name": "stdout",
          "text": [
            "['i', 'me', 'my', 'myself', 'we', 'our', 'ours', 'ourselves', 'you', \"you're\", \"you've\", \"you'll\", \"you'd\", 'your', 'yours', 'yourself', 'yourselves', 'he', 'him', 'his', 'himself', 'she', \"she's\", 'her', 'hers', 'herself', 'it', \"it's\", 'its', 'itself', 'they', 'them', 'their', 'theirs', 'themselves', 'what', 'which', 'who', 'whom', 'this', 'that', \"that'll\", 'these', 'those', 'am', 'is', 'are', 'was', 'were', 'be', 'been', 'being', 'have', 'has', 'had', 'having', 'do', 'does', 'did', 'doing', 'a', 'an', 'the', 'and', 'but', 'if', 'or', 'because', 'as', 'until', 'while', 'of', 'at', 'by', 'for', 'with', 'about', 'against', 'between', 'into', 'through', 'during', 'before', 'after', 'above', 'below', 'to', 'from', 'up', 'down', 'in', 'out', 'on', 'off', 'over', 'under', 'again', 'further', 'then', 'once', 'here', 'there', 'when', 'where', 'why', 'how', 'all', 'any', 'both', 'each', 'few', 'more', 'most', 'other', 'some', 'such', 'no', 'nor', 'not', 'only', 'own', 'same', 'so', 'than', 'too', 'very', 's', 't', 'can', 'will', 'just', 'don', \"don't\", 'should', \"should've\", 'now', 'd', 'll', 'm', 'o', 're', 've', 'y', 'ain', 'aren', \"aren't\", 'couldn', \"couldn't\", 'didn', \"didn't\", 'doesn', \"doesn't\", 'hadn', \"hadn't\", 'hasn', \"hasn't\", 'haven', \"haven't\", 'isn', \"isn't\", 'ma', 'mightn', \"mightn't\", 'mustn', \"mustn't\", 'needn', \"needn't\", 'shan', \"shan't\", 'shouldn', \"shouldn't\", 'wasn', \"wasn't\", 'weren', \"weren't\", 'won', \"won't\", 'wouldn', \"wouldn't\"]\n"
          ]
        }
      ]
    },
    {
      "cell_type": "code",
      "source": [
        "sw_nltk.extend(['th','stay'])\n",
        "print(len(sw_nltk))"
      ],
      "metadata": {
        "colab": {
          "base_uri": "https://localhost:8080/"
        },
        "id": "OedFNhJ01BxZ",
        "outputId": "fa3edb50-c407-4356-a288-de21da2742d4"
      },
      "execution_count": 23,
      "outputs": [
        {
          "output_type": "stream",
          "name": "stdout",
          "text": [
            "181\n"
          ]
        }
      ]
    },
    {
      "cell_type": "code",
      "source": [
        "# preprocessing the data (removing stopwords, convert the sentence to lower case, and also applying lemmatization to get meaningful words )\n",
        "from nltk.corpus import stopwords\n",
        "from nltk.stem import WordNetLemmatizer, PorterStemmer\n",
        "#stop_words = set(stopwords.words('english'))\n",
        "ps=PorterStemmer()\n",
        "wnl=WordNetLemmatizer()\n",
        "def clean_lemma(review):\n",
        "    review = review.lower()\n",
        "    review = review.split()\n",
        "    review = [wnl.lemmatize(word) for word in review if word not in sw_nltk]\n",
        "    review = [wnl.lemmatize(word) for word in review if word not in sw_spacy]\n",
        "    review = ' '.join(review)\n",
        "    return review"
      ],
      "metadata": {
        "id": "NllSe3Fh1Bt7"
      },
      "execution_count": 24,
      "outputs": []
    },
    {
      "cell_type": "code",
      "source": [
        "# using lemmatization\n",
        "df['text']=df['text'].apply(clean_lemma)\n",
        "df.head()"
      ],
      "metadata": {
        "colab": {
          "base_uri": "https://localhost:8080/",
          "height": 206
        },
        "id": "JYZt0NMn1Bqx",
        "outputId": "1d1cacfd-9b93-4e8e-ee9a-6212d11257c0"
      },
      "execution_count": 25,
      "outputs": [
        {
          "output_type": "execute_result",
          "data": {
            "text/plain": [
              "   Class                                         text\n",
              "0      0          love sturdy comfortable love pretty\n",
              "1      0      love great upgrade original couple year\n",
              "2      0           pillow saved love look feel pillow\n",
              "3      0  missing information use great product price\n",
              "4      0              nice set good quality set month"
            ],
            "text/html": [
              "\n",
              "  <div id=\"df-f09bc0bf-ff35-4ded-9d2d-83bf06b18e82\">\n",
              "    <div class=\"colab-df-container\">\n",
              "      <div>\n",
              "<style scoped>\n",
              "    .dataframe tbody tr th:only-of-type {\n",
              "        vertical-align: middle;\n",
              "    }\n",
              "\n",
              "    .dataframe tbody tr th {\n",
              "        vertical-align: top;\n",
              "    }\n",
              "\n",
              "    .dataframe thead th {\n",
              "        text-align: right;\n",
              "    }\n",
              "</style>\n",
              "<table border=\"1\" class=\"dataframe\">\n",
              "  <thead>\n",
              "    <tr style=\"text-align: right;\">\n",
              "      <th></th>\n",
              "      <th>Class</th>\n",
              "      <th>text</th>\n",
              "    </tr>\n",
              "  </thead>\n",
              "  <tbody>\n",
              "    <tr>\n",
              "      <th>0</th>\n",
              "      <td>0</td>\n",
              "      <td>love sturdy comfortable love pretty</td>\n",
              "    </tr>\n",
              "    <tr>\n",
              "      <th>1</th>\n",
              "      <td>0</td>\n",
              "      <td>love great upgrade original couple year</td>\n",
              "    </tr>\n",
              "    <tr>\n",
              "      <th>2</th>\n",
              "      <td>0</td>\n",
              "      <td>pillow saved love look feel pillow</td>\n",
              "    </tr>\n",
              "    <tr>\n",
              "      <th>3</th>\n",
              "      <td>0</td>\n",
              "      <td>missing information use great product price</td>\n",
              "    </tr>\n",
              "    <tr>\n",
              "      <th>4</th>\n",
              "      <td>0</td>\n",
              "      <td>nice set good quality set month</td>\n",
              "    </tr>\n",
              "  </tbody>\n",
              "</table>\n",
              "</div>\n",
              "      <button class=\"colab-df-convert\" onclick=\"convertToInteractive('df-f09bc0bf-ff35-4ded-9d2d-83bf06b18e82')\"\n",
              "              title=\"Convert this dataframe to an interactive table.\"\n",
              "              style=\"display:none;\">\n",
              "        \n",
              "  <svg xmlns=\"http://www.w3.org/2000/svg\" height=\"24px\"viewBox=\"0 0 24 24\"\n",
              "       width=\"24px\">\n",
              "    <path d=\"M0 0h24v24H0V0z\" fill=\"none\"/>\n",
              "    <path d=\"M18.56 5.44l.94 2.06.94-2.06 2.06-.94-2.06-.94-.94-2.06-.94 2.06-2.06.94zm-11 1L8.5 8.5l.94-2.06 2.06-.94-2.06-.94L8.5 2.5l-.94 2.06-2.06.94zm10 10l.94 2.06.94-2.06 2.06-.94-2.06-.94-.94-2.06-.94 2.06-2.06.94z\"/><path d=\"M17.41 7.96l-1.37-1.37c-.4-.4-.92-.59-1.43-.59-.52 0-1.04.2-1.43.59L10.3 9.45l-7.72 7.72c-.78.78-.78 2.05 0 2.83L4 21.41c.39.39.9.59 1.41.59.51 0 1.02-.2 1.41-.59l7.78-7.78 2.81-2.81c.8-.78.8-2.07 0-2.86zM5.41 20L4 18.59l7.72-7.72 1.47 1.35L5.41 20z\"/>\n",
              "  </svg>\n",
              "      </button>\n",
              "      \n",
              "  <style>\n",
              "    .colab-df-container {\n",
              "      display:flex;\n",
              "      flex-wrap:wrap;\n",
              "      gap: 12px;\n",
              "    }\n",
              "\n",
              "    .colab-df-convert {\n",
              "      background-color: #E8F0FE;\n",
              "      border: none;\n",
              "      border-radius: 50%;\n",
              "      cursor: pointer;\n",
              "      display: none;\n",
              "      fill: #1967D2;\n",
              "      height: 32px;\n",
              "      padding: 0 0 0 0;\n",
              "      width: 32px;\n",
              "    }\n",
              "\n",
              "    .colab-df-convert:hover {\n",
              "      background-color: #E2EBFA;\n",
              "      box-shadow: 0px 1px 2px rgba(60, 64, 67, 0.3), 0px 1px 3px 1px rgba(60, 64, 67, 0.15);\n",
              "      fill: #174EA6;\n",
              "    }\n",
              "\n",
              "    [theme=dark] .colab-df-convert {\n",
              "      background-color: #3B4455;\n",
              "      fill: #D2E3FC;\n",
              "    }\n",
              "\n",
              "    [theme=dark] .colab-df-convert:hover {\n",
              "      background-color: #434B5C;\n",
              "      box-shadow: 0px 1px 3px 1px rgba(0, 0, 0, 0.15);\n",
              "      filter: drop-shadow(0px 1px 2px rgba(0, 0, 0, 0.3));\n",
              "      fill: #FFFFFF;\n",
              "    }\n",
              "  </style>\n",
              "\n",
              "      <script>\n",
              "        const buttonEl =\n",
              "          document.querySelector('#df-f09bc0bf-ff35-4ded-9d2d-83bf06b18e82 button.colab-df-convert');\n",
              "        buttonEl.style.display =\n",
              "          google.colab.kernel.accessAllowed ? 'block' : 'none';\n",
              "\n",
              "        async function convertToInteractive(key) {\n",
              "          const element = document.querySelector('#df-f09bc0bf-ff35-4ded-9d2d-83bf06b18e82');\n",
              "          const dataTable =\n",
              "            await google.colab.kernel.invokeFunction('convertToInteractive',\n",
              "                                                     [key], {});\n",
              "          if (!dataTable) return;\n",
              "\n",
              "          const docLinkHtml = 'Like what you see? Visit the ' +\n",
              "            '<a target=\"_blank\" href=https://colab.research.google.com/notebooks/data_table.ipynb>data table notebook</a>'\n",
              "            + ' to learn more about interactive tables.';\n",
              "          element.innerHTML = '';\n",
              "          dataTable['output_type'] = 'display_data';\n",
              "          await google.colab.output.renderOutput(dataTable, element);\n",
              "          const docLink = document.createElement('div');\n",
              "          docLink.innerHTML = docLinkHtml;\n",
              "          element.appendChild(docLink);\n",
              "        }\n",
              "      </script>\n",
              "    </div>\n",
              "  </div>\n",
              "  "
            ]
          },
          "metadata": {},
          "execution_count": 25
        }
      ]
    },
    {
      "cell_type": "markdown",
      "source": [
        "### FEATURE EXTRACTION"
      ],
      "metadata": {
        "id": "016Fipdd4nou"
      }
    },
    {
      "cell_type": "code",
      "source": [
        "x = df['text']\n",
        "y = df['Class']"
      ],
      "metadata": {
        "id": "dxOXDi2I1Bnh"
      },
      "execution_count": 26,
      "outputs": []
    },
    {
      "cell_type": "code",
      "source": [
        "from sklearn.feature_extraction.text import TfidfVectorizer, CountVectorizer \n",
        "from sklearn.feature_extraction.text import TfidfVectorizer\n",
        "cv=TfidfVectorizer()\n",
        "corpii=cv.fit_transform(x) "
      ],
      "metadata": {
        "id": "SVvh5gy31Bkh"
      },
      "execution_count": 27,
      "outputs": []
    },
    {
      "cell_type": "code",
      "source": [
        "feature_names = cv.get_feature_names()\n",
        "#feature_names"
      ],
      "metadata": {
        "colab": {
          "base_uri": "https://localhost:8080/"
        },
        "id": "y40il7AW1Bhr",
        "outputId": "4fd7f506-5b06-49a6-8461-8104433f3c43"
      },
      "execution_count": 28,
      "outputs": [
        {
          "output_type": "stream",
          "name": "stderr",
          "text": [
            "/usr/local/lib/python3.7/dist-packages/sklearn/utils/deprecation.py:87: FutureWarning: Function get_feature_names is deprecated; get_feature_names is deprecated in 1.0 and will be removed in 1.2. Please use get_feature_names_out instead.\n",
            "  warnings.warn(msg, category=FutureWarning)\n"
          ]
        }
      ]
    },
    {
      "cell_type": "code",
      "source": [
        "len(feature_names)"
      ],
      "metadata": {
        "colab": {
          "base_uri": "https://localhost:8080/"
        },
        "id": "-zsmP-Z61BfD",
        "outputId": "e5ddd8f3-89c6-46fc-9416-3de46124c7c0"
      },
      "execution_count": 29,
      "outputs": [
        {
          "output_type": "execute_result",
          "data": {
            "text/plain": [
              "7007"
            ]
          },
          "metadata": {},
          "execution_count": 29
        }
      ]
    },
    {
      "cell_type": "code",
      "source": [
        "u1 = pd.DataFrame(corpii.toarray(), columns=feature_names)\n",
        "u1.head()"
      ],
      "metadata": {
        "colab": {
          "base_uri": "https://localhost:8080/",
          "height": 235
        },
        "id": "WXXwZCVq1BcM",
        "outputId": "b645f3e4-3053-43c1-c3c6-4f563ee44487"
      },
      "execution_count": 30,
      "outputs": [
        {
          "output_type": "execute_result",
          "data": {
            "text/plain": [
              "    aa  aaa   ab  abbey  ability  able  abruptly  absolute  absolutely  \\\n",
              "0  0.0  0.0  0.0    0.0      0.0   0.0       0.0       0.0         0.0   \n",
              "1  0.0  0.0  0.0    0.0      0.0   0.0       0.0       0.0         0.0   \n",
              "2  0.0  0.0  0.0    0.0      0.0   0.0       0.0       0.0         0.0   \n",
              "3  0.0  0.0  0.0    0.0      0.0   0.0       0.0       0.0         0.0   \n",
              "4  0.0  0.0  0.0    0.0      0.0   0.0       0.0       0.0         0.0   \n",
              "\n",
              "   absorb  ...  zip  ziploc  zipper  ziti  zojirushi  zoo  zoodles  zucchini  \\\n",
              "0     0.0  ...  0.0     0.0     0.0   0.0        0.0  0.0      0.0       0.0   \n",
              "1     0.0  ...  0.0     0.0     0.0   0.0        0.0  0.0      0.0       0.0   \n",
              "2     0.0  ...  0.0     0.0     0.0   0.0        0.0  0.0      0.0       0.0   \n",
              "3     0.0  ...  0.0     0.0     0.0   0.0        0.0  0.0      0.0       0.0   \n",
              "4     0.0  ...  0.0     0.0     0.0   0.0        0.0  0.0      0.0       0.0   \n",
              "\n",
              "   zuchinni  zyliss  \n",
              "0       0.0     0.0  \n",
              "1       0.0     0.0  \n",
              "2       0.0     0.0  \n",
              "3       0.0     0.0  \n",
              "4       0.0     0.0  \n",
              "\n",
              "[5 rows x 7007 columns]"
            ],
            "text/html": [
              "\n",
              "  <div id=\"df-207b31ef-ab4b-4be2-9f5c-7c6c91e2a0da\">\n",
              "    <div class=\"colab-df-container\">\n",
              "      <div>\n",
              "<style scoped>\n",
              "    .dataframe tbody tr th:only-of-type {\n",
              "        vertical-align: middle;\n",
              "    }\n",
              "\n",
              "    .dataframe tbody tr th {\n",
              "        vertical-align: top;\n",
              "    }\n",
              "\n",
              "    .dataframe thead th {\n",
              "        text-align: right;\n",
              "    }\n",
              "</style>\n",
              "<table border=\"1\" class=\"dataframe\">\n",
              "  <thead>\n",
              "    <tr style=\"text-align: right;\">\n",
              "      <th></th>\n",
              "      <th>aa</th>\n",
              "      <th>aaa</th>\n",
              "      <th>ab</th>\n",
              "      <th>abbey</th>\n",
              "      <th>ability</th>\n",
              "      <th>able</th>\n",
              "      <th>abruptly</th>\n",
              "      <th>absolute</th>\n",
              "      <th>absolutely</th>\n",
              "      <th>absorb</th>\n",
              "      <th>...</th>\n",
              "      <th>zip</th>\n",
              "      <th>ziploc</th>\n",
              "      <th>zipper</th>\n",
              "      <th>ziti</th>\n",
              "      <th>zojirushi</th>\n",
              "      <th>zoo</th>\n",
              "      <th>zoodles</th>\n",
              "      <th>zucchini</th>\n",
              "      <th>zuchinni</th>\n",
              "      <th>zyliss</th>\n",
              "    </tr>\n",
              "  </thead>\n",
              "  <tbody>\n",
              "    <tr>\n",
              "      <th>0</th>\n",
              "      <td>0.0</td>\n",
              "      <td>0.0</td>\n",
              "      <td>0.0</td>\n",
              "      <td>0.0</td>\n",
              "      <td>0.0</td>\n",
              "      <td>0.0</td>\n",
              "      <td>0.0</td>\n",
              "      <td>0.0</td>\n",
              "      <td>0.0</td>\n",
              "      <td>0.0</td>\n",
              "      <td>...</td>\n",
              "      <td>0.0</td>\n",
              "      <td>0.0</td>\n",
              "      <td>0.0</td>\n",
              "      <td>0.0</td>\n",
              "      <td>0.0</td>\n",
              "      <td>0.0</td>\n",
              "      <td>0.0</td>\n",
              "      <td>0.0</td>\n",
              "      <td>0.0</td>\n",
              "      <td>0.0</td>\n",
              "    </tr>\n",
              "    <tr>\n",
              "      <th>1</th>\n",
              "      <td>0.0</td>\n",
              "      <td>0.0</td>\n",
              "      <td>0.0</td>\n",
              "      <td>0.0</td>\n",
              "      <td>0.0</td>\n",
              "      <td>0.0</td>\n",
              "      <td>0.0</td>\n",
              "      <td>0.0</td>\n",
              "      <td>0.0</td>\n",
              "      <td>0.0</td>\n",
              "      <td>...</td>\n",
              "      <td>0.0</td>\n",
              "      <td>0.0</td>\n",
              "      <td>0.0</td>\n",
              "      <td>0.0</td>\n",
              "      <td>0.0</td>\n",
              "      <td>0.0</td>\n",
              "      <td>0.0</td>\n",
              "      <td>0.0</td>\n",
              "      <td>0.0</td>\n",
              "      <td>0.0</td>\n",
              "    </tr>\n",
              "    <tr>\n",
              "      <th>2</th>\n",
              "      <td>0.0</td>\n",
              "      <td>0.0</td>\n",
              "      <td>0.0</td>\n",
              "      <td>0.0</td>\n",
              "      <td>0.0</td>\n",
              "      <td>0.0</td>\n",
              "      <td>0.0</td>\n",
              "      <td>0.0</td>\n",
              "      <td>0.0</td>\n",
              "      <td>0.0</td>\n",
              "      <td>...</td>\n",
              "      <td>0.0</td>\n",
              "      <td>0.0</td>\n",
              "      <td>0.0</td>\n",
              "      <td>0.0</td>\n",
              "      <td>0.0</td>\n",
              "      <td>0.0</td>\n",
              "      <td>0.0</td>\n",
              "      <td>0.0</td>\n",
              "      <td>0.0</td>\n",
              "      <td>0.0</td>\n",
              "    </tr>\n",
              "    <tr>\n",
              "      <th>3</th>\n",
              "      <td>0.0</td>\n",
              "      <td>0.0</td>\n",
              "      <td>0.0</td>\n",
              "      <td>0.0</td>\n",
              "      <td>0.0</td>\n",
              "      <td>0.0</td>\n",
              "      <td>0.0</td>\n",
              "      <td>0.0</td>\n",
              "      <td>0.0</td>\n",
              "      <td>0.0</td>\n",
              "      <td>...</td>\n",
              "      <td>0.0</td>\n",
              "      <td>0.0</td>\n",
              "      <td>0.0</td>\n",
              "      <td>0.0</td>\n",
              "      <td>0.0</td>\n",
              "      <td>0.0</td>\n",
              "      <td>0.0</td>\n",
              "      <td>0.0</td>\n",
              "      <td>0.0</td>\n",
              "      <td>0.0</td>\n",
              "    </tr>\n",
              "    <tr>\n",
              "      <th>4</th>\n",
              "      <td>0.0</td>\n",
              "      <td>0.0</td>\n",
              "      <td>0.0</td>\n",
              "      <td>0.0</td>\n",
              "      <td>0.0</td>\n",
              "      <td>0.0</td>\n",
              "      <td>0.0</td>\n",
              "      <td>0.0</td>\n",
              "      <td>0.0</td>\n",
              "      <td>0.0</td>\n",
              "      <td>...</td>\n",
              "      <td>0.0</td>\n",
              "      <td>0.0</td>\n",
              "      <td>0.0</td>\n",
              "      <td>0.0</td>\n",
              "      <td>0.0</td>\n",
              "      <td>0.0</td>\n",
              "      <td>0.0</td>\n",
              "      <td>0.0</td>\n",
              "      <td>0.0</td>\n",
              "      <td>0.0</td>\n",
              "    </tr>\n",
              "  </tbody>\n",
              "</table>\n",
              "<p>5 rows × 7007 columns</p>\n",
              "</div>\n",
              "      <button class=\"colab-df-convert\" onclick=\"convertToInteractive('df-207b31ef-ab4b-4be2-9f5c-7c6c91e2a0da')\"\n",
              "              title=\"Convert this dataframe to an interactive table.\"\n",
              "              style=\"display:none;\">\n",
              "        \n",
              "  <svg xmlns=\"http://www.w3.org/2000/svg\" height=\"24px\"viewBox=\"0 0 24 24\"\n",
              "       width=\"24px\">\n",
              "    <path d=\"M0 0h24v24H0V0z\" fill=\"none\"/>\n",
              "    <path d=\"M18.56 5.44l.94 2.06.94-2.06 2.06-.94-2.06-.94-.94-2.06-.94 2.06-2.06.94zm-11 1L8.5 8.5l.94-2.06 2.06-.94-2.06-.94L8.5 2.5l-.94 2.06-2.06.94zm10 10l.94 2.06.94-2.06 2.06-.94-2.06-.94-.94-2.06-.94 2.06-2.06.94z\"/><path d=\"M17.41 7.96l-1.37-1.37c-.4-.4-.92-.59-1.43-.59-.52 0-1.04.2-1.43.59L10.3 9.45l-7.72 7.72c-.78.78-.78 2.05 0 2.83L4 21.41c.39.39.9.59 1.41.59.51 0 1.02-.2 1.41-.59l7.78-7.78 2.81-2.81c.8-.78.8-2.07 0-2.86zM5.41 20L4 18.59l7.72-7.72 1.47 1.35L5.41 20z\"/>\n",
              "  </svg>\n",
              "      </button>\n",
              "      \n",
              "  <style>\n",
              "    .colab-df-container {\n",
              "      display:flex;\n",
              "      flex-wrap:wrap;\n",
              "      gap: 12px;\n",
              "    }\n",
              "\n",
              "    .colab-df-convert {\n",
              "      background-color: #E8F0FE;\n",
              "      border: none;\n",
              "      border-radius: 50%;\n",
              "      cursor: pointer;\n",
              "      display: none;\n",
              "      fill: #1967D2;\n",
              "      height: 32px;\n",
              "      padding: 0 0 0 0;\n",
              "      width: 32px;\n",
              "    }\n",
              "\n",
              "    .colab-df-convert:hover {\n",
              "      background-color: #E2EBFA;\n",
              "      box-shadow: 0px 1px 2px rgba(60, 64, 67, 0.3), 0px 1px 3px 1px rgba(60, 64, 67, 0.15);\n",
              "      fill: #174EA6;\n",
              "    }\n",
              "\n",
              "    [theme=dark] .colab-df-convert {\n",
              "      background-color: #3B4455;\n",
              "      fill: #D2E3FC;\n",
              "    }\n",
              "\n",
              "    [theme=dark] .colab-df-convert:hover {\n",
              "      background-color: #434B5C;\n",
              "      box-shadow: 0px 1px 3px 1px rgba(0, 0, 0, 0.15);\n",
              "      filter: drop-shadow(0px 1px 2px rgba(0, 0, 0, 0.3));\n",
              "      fill: #FFFFFF;\n",
              "    }\n",
              "  </style>\n",
              "\n",
              "      <script>\n",
              "        const buttonEl =\n",
              "          document.querySelector('#df-207b31ef-ab4b-4be2-9f5c-7c6c91e2a0da button.colab-df-convert');\n",
              "        buttonEl.style.display =\n",
              "          google.colab.kernel.accessAllowed ? 'block' : 'none';\n",
              "\n",
              "        async function convertToInteractive(key) {\n",
              "          const element = document.querySelector('#df-207b31ef-ab4b-4be2-9f5c-7c6c91e2a0da');\n",
              "          const dataTable =\n",
              "            await google.colab.kernel.invokeFunction('convertToInteractive',\n",
              "                                                     [key], {});\n",
              "          if (!dataTable) return;\n",
              "\n",
              "          const docLinkHtml = 'Like what you see? Visit the ' +\n",
              "            '<a target=\"_blank\" href=https://colab.research.google.com/notebooks/data_table.ipynb>data table notebook</a>'\n",
              "            + ' to learn more about interactive tables.';\n",
              "          element.innerHTML = '';\n",
              "          dataTable['output_type'] = 'display_data';\n",
              "          await google.colab.output.renderOutput(dataTable, element);\n",
              "          const docLink = document.createElement('div');\n",
              "          docLink.innerHTML = docLinkHtml;\n",
              "          element.appendChild(docLink);\n",
              "        }\n",
              "      </script>\n",
              "    </div>\n",
              "  </div>\n",
              "  "
            ]
          },
          "metadata": {},
          "execution_count": 30
        }
      ]
    },
    {
      "cell_type": "markdown",
      "source": [
        "### FEATURE SELECTION"
      ],
      "metadata": {
        "id": "pwLqgt4w4rXn"
      }
    },
    {
      "cell_type": "code",
      "source": [
        "from sklearn.feature_selection import SelectKBest\n",
        "from sklearn.feature_selection import chi2\n",
        "# Two features with highest chi-squared statistics are selected\n",
        "chi2_features = SelectKBest(chi2, k = 800)\n",
        "X_kbest_features = chi2_features.fit_transform(u1, y)"
      ],
      "metadata": {
        "id": "g_l7FvT3kn1Q"
      },
      "execution_count": 32,
      "outputs": []
    },
    {
      "cell_type": "code",
      "source": [
        "chi_support = chi2_features.get_support()"
      ],
      "metadata": {
        "id": "Dj7T8ZJUkoaY"
      },
      "execution_count": 33,
      "outputs": []
    },
    {
      "cell_type": "code",
      "source": [
        "chi_feature = u1.loc[:,chi_support].columns.tolist()"
      ],
      "metadata": {
        "id": "ogBa4MS7koeK"
      },
      "execution_count": 34,
      "outputs": []
    },
    {
      "cell_type": "code",
      "source": [
        "chi_feature"
      ],
      "metadata": {
        "colab": {
          "base_uri": "https://localhost:8080/"
        },
        "id": "XjhAwG8Dkohi",
        "outputId": "60db556c-25cb-4c26-eaec-28c816def69b"
      },
      "execution_count": 35,
      "outputs": [
        {
          "output_type": "execute_result",
          "data": {
            "text/plain": [
              "['absorbent',\n",
              " 'accent',\n",
              " 'access',\n",
              " 'actually',\n",
              " 'add',\n",
              " 'added',\n",
              " 'addition',\n",
              " 'adjustable',\n",
              " 'admit',\n",
              " 'ago',\n",
              " 'air',\n",
              " 'allow',\n",
              " 'amazon',\n",
              " 'america',\n",
              " 'american',\n",
              " 'anticipated',\n",
              " 'anymore',\n",
              " 'apart',\n",
              " 'appear',\n",
              " 'appearance',\n",
              " 'applied',\n",
              " 'apply',\n",
              " 'appreciate',\n",
              " 'area',\n",
              " 'arm',\n",
              " 'arthritic',\n",
              " 'asap',\n",
              " 'ask',\n",
              " 'assembled',\n",
              " 'assembly',\n",
              " 'attached',\n",
              " 'attachment',\n",
              " 'attention',\n",
              " 'available',\n",
              " 'avid',\n",
              " 'avoid',\n",
              " 'away',\n",
              " 'bacon',\n",
              " 'bad',\n",
              " 'balloon',\n",
              " 'band',\n",
              " 'bar',\n",
              " 'bare',\n",
              " 'barely',\n",
              " 'based',\n",
              " 'basement',\n",
              " 'basically',\n",
              " 'bath',\n",
              " 'bathroom',\n",
              " 'battery',\n",
              " 'bean',\n",
              " 'beat',\n",
              " 'beater',\n",
              " 'beautifully',\n",
              " 'bed',\n",
              " 'beer',\n",
              " 'begin',\n",
              " 'believe',\n",
              " 'believer',\n",
              " 'belt',\n",
              " 'bent',\n",
              " 'best',\n",
              " 'big',\n",
              " 'bit',\n",
              " 'black',\n",
              " 'blade',\n",
              " 'blanket',\n",
              " 'blowing',\n",
              " 'blue',\n",
              " 'board',\n",
              " 'body',\n",
              " 'boiling',\n",
              " 'bold',\n",
              " 'bolt',\n",
              " 'booklet',\n",
              " 'bother',\n",
              " 'bottle',\n",
              " 'bought',\n",
              " 'bracket',\n",
              " 'brand',\n",
              " 'breville',\n",
              " 'brew',\n",
              " 'bride',\n",
              " 'bright',\n",
              " 'broken',\n",
              " 'brush',\n",
              " 'bubble',\n",
              " 'build',\n",
              " 'bulb',\n",
              " 'burn',\n",
              " 'butter',\n",
              " 'button',\n",
              " 'cabinet',\n",
              " 'cable',\n",
              " 'called',\n",
              " 'came',\n",
              " 'canister',\n",
              " 'canning',\n",
              " 'cap',\n",
              " 'carafe',\n",
              " 'card',\n",
              " 'carefully',\n",
              " 'carpet',\n",
              " 'carrot',\n",
              " 'cart',\n",
              " 'carton',\n",
              " 'cartridge',\n",
              " 'carving',\n",
              " 'cat',\n",
              " 'catch',\n",
              " 'cause',\n",
              " 'ceiling',\n",
              " 'ceramic',\n",
              " 'certain',\n",
              " 'certainly',\n",
              " 'chair',\n",
              " 'changed',\n",
              " 'charge',\n",
              " 'cheap',\n",
              " 'check',\n",
              " 'chemical',\n",
              " 'chill',\n",
              " 'chilled',\n",
              " 'chipped',\n",
              " 'chop',\n",
              " 'chose',\n",
              " 'clad',\n",
              " 'clean',\n",
              " 'clear',\n",
              " 'closet',\n",
              " 'cocktail',\n",
              " 'cocoa',\n",
              " 'color',\n",
              " 'colour',\n",
              " 'come',\n",
              " 'comfort',\n",
              " 'comfortable',\n",
              " 'coming',\n",
              " 'comment',\n",
              " 'commercial',\n",
              " 'company',\n",
              " 'compared',\n",
              " 'compartment',\n",
              " 'complete',\n",
              " 'completely',\n",
              " 'compliment',\n",
              " 'condition',\n",
              " 'cone',\n",
              " 'connected',\n",
              " 'consider',\n",
              " 'container',\n",
              " 'convenient',\n",
              " 'cooked',\n",
              " 'cooker',\n",
              " 'cooking',\n",
              " 'cooky',\n",
              " 'cool',\n",
              " 'cooling',\n",
              " 'copper',\n",
              " 'cord',\n",
              " 'corkscrew',\n",
              " 'cost',\n",
              " 'couch',\n",
              " 'count',\n",
              " 'countertop',\n",
              " 'couple',\n",
              " 'course',\n",
              " 'cover',\n",
              " 'craft',\n",
              " 'crap',\n",
              " 'crepe',\n",
              " 'crevice',\n",
              " 'cruise',\n",
              " 'cup',\n",
              " 'curtain',\n",
              " 'curve',\n",
              " 'customer',\n",
              " 'cut',\n",
              " 'cutter',\n",
              " 'cutting',\n",
              " 'cycle',\n",
              " 'darker',\n",
              " 'date',\n",
              " 'daughter',\n",
              " 'day',\n",
              " 'deal',\n",
              " 'debris',\n",
              " 'decide',\n",
              " 'decided',\n",
              " 'decker',\n",
              " 'decoration',\n",
              " 'definitely',\n",
              " 'delicious',\n",
              " 'delivered',\n",
              " 'delivery',\n",
              " 'dented',\n",
              " 'depth',\n",
              " 'describe',\n",
              " 'description',\n",
              " 'design',\n",
              " 'despite',\n",
              " 'dial',\n",
              " 'diet',\n",
              " 'difficult',\n",
              " 'dimension',\n",
              " 'dimmable',\n",
              " 'dip',\n",
              " 'direction',\n",
              " 'directly',\n",
              " 'dirt',\n",
              " 'dirty',\n",
              " 'dish',\n",
              " 'dishwasher',\n",
              " 'display',\n",
              " 'door',\n",
              " 'double',\n",
              " 'dough',\n",
              " 'downside',\n",
              " 'drawer',\n",
              " 'dried',\n",
              " 'drinking',\n",
              " 'drip',\n",
              " 'dripping',\n",
              " 'drive',\n",
              " 'dropped',\n",
              " 'dry',\n",
              " 'dust',\n",
              " 'duvet',\n",
              " 'earlier',\n",
              " 'ease',\n",
              " 'easily',\n",
              " 'easy',\n",
              " 'effective',\n",
              " 'em',\n",
              " 'end',\n",
              " 'equipment',\n",
              " 'etc',\n",
              " 'everyday',\n",
              " 'exact',\n",
              " 'extended',\n",
              " 'extra',\n",
              " 'extremely',\n",
              " 'fact',\n",
              " 'fair',\n",
              " 'fairly',\n",
              " 'fall',\n",
              " 'fan',\n",
              " 'fancy',\n",
              " 'far',\n",
              " 'fast',\n",
              " 'faster',\n",
              " 'fault',\n",
              " 'feel',\n",
              " 'feeling',\n",
              " 'fiberglass',\n",
              " 'fill',\n",
              " 'filled',\n",
              " 'filling',\n",
              " 'filter',\n",
              " 'finally',\n",
              " 'finish',\n",
              " 'finished',\n",
              " 'firm',\n",
              " 'fish',\n",
              " 'flat',\n",
              " 'flatten',\n",
              " 'flatware',\n",
              " 'floor',\n",
              " 'flour',\n",
              " 'foam',\n",
              " 'fold',\n",
              " 'folding',\n",
              " 'folk',\n",
              " 'fork',\n",
              " 'found',\n",
              " 'free',\n",
              " 'freeze',\n",
              " 'french',\n",
              " 'frequent',\n",
              " 'friend',\n",
              " 'fry',\n",
              " 'fully',\n",
              " 'fun',\n",
              " 'function',\n",
              " 'functional',\n",
              " 'future',\n",
              " 'gag',\n",
              " 'gallon',\n",
              " 'game',\n",
              " 'gap',\n",
              " 'garage',\n",
              " 'garbage',\n",
              " 'garlic',\n",
              " 'gas',\n",
              " 'gave',\n",
              " 'gel',\n",
              " 'giant',\n",
              " 'glance',\n",
              " 'glove',\n",
              " 'glue',\n",
              " 'gold',\n",
              " 'good',\n",
              " 'goodness',\n",
              " 'gotten',\n",
              " 'gram',\n",
              " 'grand',\n",
              " 'granddaughter',\n",
              " 'grease',\n",
              " 'great',\n",
              " 'grind',\n",
              " 'grinding',\n",
              " 'ground',\n",
              " 'guard',\n",
              " 'guess',\n",
              " 'guest',\n",
              " 'hair',\n",
              " 'half',\n",
              " 'hamper',\n",
              " 'hand',\n",
              " 'handle',\n",
              " 'handy',\n",
              " 'happen',\n",
              " 'happier',\n",
              " 'happy',\n",
              " 'hard',\n",
              " 'hardly',\n",
              " 'hat',\n",
              " 'head',\n",
              " 'hear',\n",
              " 'heart',\n",
              " 'heat',\n",
              " 'heater',\n",
              " 'heavier',\n",
              " 'help',\n",
              " 'helpful',\n",
              " 'hesitate',\n",
              " 'hide',\n",
              " 'high',\n",
              " 'highly',\n",
              " 'hint',\n",
              " 'hit',\n",
              " 'hold',\n",
              " 'home',\n",
              " 'honestly',\n",
              " 'honey',\n",
              " 'hook',\n",
              " 'hopefully',\n",
              " 'horrible',\n",
              " 'hose',\n",
              " 'hubby',\n",
              " 'human',\n",
              " 'hung',\n",
              " 'imagined',\n",
              " 'improvement',\n",
              " 'inch',\n",
              " 'included',\n",
              " 'including',\n",
              " 'induction',\n",
              " 'ingredient',\n",
              " 'inner',\n",
              " 'insert',\n",
              " 'inside',\n",
              " 'instant',\n",
              " 'instead',\n",
              " 'instruction',\n",
              " 'insulated',\n",
              " 'iron',\n",
              " 'ironing',\n",
              " 'juice',\n",
              " 'juicing',\n",
              " 'junk',\n",
              " 'justice',\n",
              " 'kid',\n",
              " 'kind',\n",
              " 'kitchen',\n",
              " 'knew',\n",
              " 'know',\n",
              " 'knowing',\n",
              " 'lack',\n",
              " 'laid',\n",
              " 'large',\n",
              " 'later',\n",
              " 'lay',\n",
              " 'layer',\n",
              " 'lb',\n",
              " 'le',\n",
              " 'leaf',\n",
              " 'leak',\n",
              " 'learn',\n",
              " 'leather',\n",
              " 'leave',\n",
              " 'left',\n",
              " 'lemon',\n",
              " 'length',\n",
              " 'let',\n",
              " 'letter',\n",
              " 'lid',\n",
              " 'life',\n",
              " 'lightweight',\n",
              " 'liking',\n",
              " 'limited',\n",
              " 'line',\n",
              " 'linen',\n",
              " 'link',\n",
              " 'lint',\n",
              " 'lit',\n",
              " 'little',\n",
              " 'live',\n",
              " 'loaded',\n",
              " 'lock',\n",
              " 'long',\n",
              " 'look',\n",
              " 'looked',\n",
              " 'lose',\n",
              " 'lost',\n",
              " 'lot',\n",
              " 'love',\n",
              " 'loving',\n",
              " 'low',\n",
              " 'lower',\n",
              " 'lucky',\n",
              " 'lunch',\n",
              " 'major',\n",
              " 'maker',\n",
              " 'makeup',\n",
              " 'marking',\n",
              " 'mason',\n",
              " 'mat',\n",
              " 'match',\n",
              " 'matched',\n",
              " 'material',\n",
              " 'maybe',\n",
              " 'meal',\n",
              " 'mean',\n",
              " 'meant',\n",
              " 'measure',\n",
              " 'meat',\n",
              " 'memory',\n",
              " 'mess',\n",
              " 'milk',\n",
              " 'minute',\n",
              " 'miss',\n",
              " 'mix',\n",
              " 'moisture',\n",
              " 'molded',\n",
              " 'month',\n",
              " 'mop',\n",
              " 'morning',\n",
              " 'motorhome',\n",
              " 'mount',\n",
              " 'muffin',\n",
              " 'nail',\n",
              " 'natural',\n",
              " 'nearly',\n",
              " 'neat',\n",
              " 'needing',\n",
              " 'nest',\n",
              " 'new',\n",
              " 'nice',\n",
              " 'nicely',\n",
              " 'nicer',\n",
              " 'nickel',\n",
              " 'night',\n",
              " 'noise',\n",
              " 'noisy',\n",
              " 'noodle',\n",
              " 'normal',\n",
              " 'note',\n",
              " 'noticeable',\n",
              " 'nut',\n",
              " 'obsessed',\n",
              " 'obviously',\n",
              " 'occasionally',\n",
              " 'offer',\n",
              " 'office',\n",
              " 'oh',\n",
              " 'oil',\n",
              " 'okay',\n",
              " 'old',\n",
              " 'opinion',\n",
              " 'organized',\n",
              " 'organizer',\n",
              " 'organizing',\n",
              " 'originally',\n",
              " 'ornament',\n",
              " 'ounce',\n",
              " 'outside',\n",
              " 'outstanding',\n",
              " 'overall',\n",
              " 'owl',\n",
              " 'pack',\n",
              " 'packet',\n",
              " 'paid',\n",
              " 'pair',\n",
              " 'pancake',\n",
              " 'pant',\n",
              " 'paper',\n",
              " 'parrot',\n",
              " 'partially',\n",
              " 'pay',\n",
              " 'peeling',\n",
              " 'pen',\n",
              " 'pepper',\n",
              " 'perfect',\n",
              " 'perfectly',\n",
              " 'period',\n",
              " 'personal',\n",
              " 'personally',\n",
              " 'pet',\n",
              " 'photo',\n",
              " 'pick',\n",
              " 'picked',\n",
              " 'piece',\n",
              " 'pillow',\n",
              " 'pint',\n",
              " 'pitcher',\n",
              " 'place',\n",
              " 'placing',\n",
              " 'plain',\n",
              " 'plant',\n",
              " 'plastic',\n",
              " 'player',\n",
              " 'pleased',\n",
              " 'plenty',\n",
              " 'plus',\n",
              " 'pocket',\n",
              " 'point',\n",
              " 'poor',\n",
              " 'portion',\n",
              " 'positive',\n",
              " 'potato',\n",
              " 'pouring',\n",
              " 'power',\n",
              " 'practical',\n",
              " 'pre',\n",
              " 'prep',\n",
              " 'press',\n",
              " 'pressure',\n",
              " 'pretty',\n",
              " 'prevent',\n",
              " 'price',\n",
              " 'priced',\n",
              " 'printer',\n",
              " 'privacy',\n",
              " 'problem',\n",
              " 'process',\n",
              " 'product',\n",
              " 'professional',\n",
              " 'promptly',\n",
              " 'proof',\n",
              " 'proper',\n",
              " 'protection',\n",
              " 'protector',\n",
              " 'provide',\n",
              " 'pull',\n",
              " 'pulled',\n",
              " 'pulp',\n",
              " 'punch',\n",
              " 'purchase',\n",
              " 'purchasing',\n",
              " 'purse',\n",
              " 'push',\n",
              " 'quality',\n",
              " 'question',\n",
              " 'quickly',\n",
              " 'quiet',\n",
              " 'quit',\n",
              " 'rail',\n",
              " 'raw',\n",
              " 'reach',\n",
              " 'ready',\n",
              " 'reason',\n",
              " 'reasonably',\n",
              " 'recent',\n",
              " 'recipe',\n",
              " 'recommend',\n",
              " 'recommended',\n",
              " 'reference',\n",
              " 'refund',\n",
              " 'regularly',\n",
              " 'relatively',\n",
              " 'remember',\n",
              " 'remote',\n",
              " 'removable',\n",
              " 'replace',\n",
              " 'required',\n",
              " 'rest',\n",
              " 'restaurant',\n",
              " 'retro',\n",
              " 'return',\n",
              " 'returned',\n",
              " 'reusable',\n",
              " 'rim',\n",
              " 'ring',\n",
              " 'rip',\n",
              " 'roast',\n",
              " 'rock',\n",
              " 'rolled',\n",
              " 'roomy',\n",
              " 'rounded',\n",
              " 'rubber',\n",
              " 'ruler',\n",
              " 'run',\n",
              " 'rusted',\n",
              " 'salt',\n",
              " 'satin',\n",
              " 'satisfied',\n",
              " 'saving',\n",
              " 'scissors',\n",
              " 'scratched',\n",
              " 'screen',\n",
              " 'season',\n",
              " 'seasoned',\n",
              " 'seat',\n",
              " 'sell',\n",
              " 'sense',\n",
              " 'sent',\n",
              " 'serf',\n",
              " 'serve',\n",
              " 'service',\n",
              " 'set',\n",
              " 'setting',\n",
              " 'shake',\n",
              " 'shallow',\n",
              " 'shaped',\n",
              " 'sharpened',\n",
              " 'shed',\n",
              " 'shell',\n",
              " 'ship',\n",
              " 'shipping',\n",
              " 'shoe',\n",
              " 'shopping',\n",
              " 'shot',\n",
              " 'shoulder',\n",
              " 'shut',\n",
              " 'sign',\n",
              " 'silicone',\n",
              " 'silky',\n",
              " 'silverware',\n",
              " 'similar',\n",
              " 'simply',\n",
              " 'sink',\n",
              " 'sister',\n",
              " 'sits',\n",
              " 'sitting',\n",
              " 'size',\n",
              " 'skin',\n",
              " 'sleep',\n",
              " 'slide',\n",
              " 'slowly',\n",
              " 'small',\n",
              " 'smaller',\n",
              " 'smallest',\n",
              " 'smell',\n",
              " 'smoothie',\n",
              " 'snack',\n",
              " 'snap',\n",
              " 'sock',\n",
              " 'soft',\n",
              " 'soften',\n",
              " 'sold',\n",
              " 'solid',\n",
              " 'solidly',\n",
              " 'somewhat',\n",
              " 'soooo',\n",
              " 'sorry',\n",
              " 'sort',\n",
              " 'sound',\n",
              " 'spent',\n",
              " 'spin',\n",
              " 'spout',\n",
              " 'spray',\n",
              " 'spread',\n",
              " 'spring',\n",
              " 'stair',\n",
              " 'stand',\n",
              " 'star',\n",
              " 'start',\n",
              " 'steamer',\n",
              " 'step',\n",
              " 'stink',\n",
              " 'stock',\n",
              " 'stone',\n",
              " 'stop',\n",
              " 'store',\n",
              " 'strainer',\n",
              " 'strong',\n",
              " 'stronger',\n",
              " 'sturdy',\n",
              " 'style',\n",
              " 'suction',\n",
              " 'sugar',\n",
              " 'suggested',\n",
              " 'suitcase',\n",
              " 'support',\n",
              " 'suppose',\n",
              " 'sure',\n",
              " 'sweat',\n",
              " 'sweet',\n",
              " 'switch',\n",
              " 'table',\n",
              " 'taken',\n",
              " 'taking',\n",
              " 'tall',\n",
              " 'tank',\n",
              " 'target',\n",
              " 'tasty',\n",
              " 'temp',\n",
              " 'temperature',\n",
              " 'test',\n",
              " 'tested',\n",
              " 'thank',\n",
              " 'thanks',\n",
              " 'theme',\n",
              " 'thermometer',\n",
              " 'thick',\n",
              " 'thin',\n",
              " 'thinking',\n",
              " 'tho',\n",
              " 'thought',\n",
              " 'tie',\n",
              " 'tied',\n",
              " 'tier',\n",
              " 'tight',\n",
              " 'tighten',\n",
              " 'tightly',\n",
              " 'till',\n",
              " 'timer',\n",
              " 'tip',\n",
              " 'tissue',\n",
              " 'toast',\n",
              " 'today',\n",
              " 'toilet',\n",
              " 'took',\n",
              " 'totally',\n",
              " 'touching',\n",
              " 'track',\n",
              " 'traffic',\n",
              " 'trailer',\n",
              " 'trap',\n",
              " 'tray',\n",
              " 'tree',\n",
              " 'trick',\n",
              " 'trip',\n",
              " 'trying',\n",
              " 'tumbler',\n",
              " 'turkey',\n",
              " 'turned',\n",
              " 'turning',\n",
              " 'tv',\n",
              " 'twist',\n",
              " 'underneath',\n",
              " 'unevenly',\n",
              " 'unit',\n",
              " 'unlike',\n",
              " 'usable',\n",
              " 'use',\n",
              " 'useless',\n",
              " 'usually',\n",
              " 'utensil',\n",
              " 'vac',\n",
              " 'vacuum',\n",
              " 'vacuumed',\n",
              " 'value',\n",
              " 'variety',\n",
              " 'vegetable',\n",
              " 'vibrant',\n",
              " 'vinegar',\n",
              " 'wait',\n",
              " 'waiting',\n",
              " 'wake',\n",
              " 'wanted',\n",
              " 'warm',\n",
              " 'warped',\n",
              " 'washable',\n",
              " 'washed',\n",
              " 'washer',\n",
              " 'washing',\n",
              " 'waste',\n",
              " 'watch',\n",
              " 'water',\n",
              " 'wax',\n",
              " 'weave',\n",
              " 'website',\n",
              " 'week',\n",
              " 'went',\n",
              " 'whim',\n",
              " 'wide',\n",
              " 'window',\n",
              " 'wish',\n",
              " 'wobble',\n",
              " 'woman',\n",
              " 'wonder',\n",
              " 'wooden',\n",
              " 'working',\n",
              " 'wrap',\n",
              " 'wrinkle',\n",
              " 'write',\n",
              " 'year',\n",
              " 'zero']"
            ]
          },
          "metadata": {},
          "execution_count": 35
        }
      ]
    },
    {
      "cell_type": "code",
      "source": [
        "X_kbest_features"
      ],
      "metadata": {
        "colab": {
          "base_uri": "https://localhost:8080/"
        },
        "id": "VDuFA-T1koke",
        "outputId": "0f69ff05-9541-4918-e5e1-3d97859bf723"
      },
      "execution_count": 36,
      "outputs": [
        {
          "output_type": "execute_result",
          "data": {
            "text/plain": [
              "array([[0.        , 0.        , 0.        , ..., 0.        , 0.        ,\n",
              "        0.        ],\n",
              "       [0.        , 0.        , 0.        , ..., 0.        , 0.29540252,\n",
              "        0.        ],\n",
              "       [0.        , 0.        , 0.        , ..., 0.        , 0.        ,\n",
              "        0.        ],\n",
              "       ...,\n",
              "       [0.        , 0.        , 0.        , ..., 0.        , 0.        ,\n",
              "        0.        ],\n",
              "       [0.        , 0.        , 0.        , ..., 0.        , 0.13240486,\n",
              "        0.        ],\n",
              "       [0.        , 0.        , 0.        , ..., 0.        , 0.08588805,\n",
              "        0.        ]])"
            ]
          },
          "metadata": {},
          "execution_count": 36
        }
      ]
    },
    {
      "cell_type": "code",
      "source": [
        "u3 = pd.DataFrame(X_kbest_features, columns = chi_feature)\n",
        "u3.head()"
      ],
      "metadata": {
        "colab": {
          "base_uri": "https://localhost:8080/",
          "height": 235
        },
        "id": "059iYhdmkooB",
        "outputId": "9c3b995e-410b-4b0d-cd9a-2630f3170dbf"
      },
      "execution_count": 37,
      "outputs": [
        {
          "output_type": "execute_result",
          "data": {
            "text/plain": [
              "   absorbent  accent  access  actually  add  added  addition  adjustable  \\\n",
              "0        0.0     0.0     0.0       0.0  0.0    0.0       0.0         0.0   \n",
              "1        0.0     0.0     0.0       0.0  0.0    0.0       0.0         0.0   \n",
              "2        0.0     0.0     0.0       0.0  0.0    0.0       0.0         0.0   \n",
              "3        0.0     0.0     0.0       0.0  0.0    0.0       0.0         0.0   \n",
              "4        0.0     0.0     0.0       0.0  0.0    0.0       0.0         0.0   \n",
              "\n",
              "   admit  ago  ...  wobble  woman  wonder  wooden  working  wrap  wrinkle  \\\n",
              "0    0.0  0.0  ...     0.0    0.0     0.0     0.0      0.0   0.0      0.0   \n",
              "1    0.0  0.0  ...     0.0    0.0     0.0     0.0      0.0   0.0      0.0   \n",
              "2    0.0  0.0  ...     0.0    0.0     0.0     0.0      0.0   0.0      0.0   \n",
              "3    0.0  0.0  ...     0.0    0.0     0.0     0.0      0.0   0.0      0.0   \n",
              "4    0.0  0.0  ...     0.0    0.0     0.0     0.0      0.0   0.0      0.0   \n",
              "\n",
              "   write      year  zero  \n",
              "0    0.0  0.000000   0.0  \n",
              "1    0.0  0.295403   0.0  \n",
              "2    0.0  0.000000   0.0  \n",
              "3    0.0  0.000000   0.0  \n",
              "4    0.0  0.000000   0.0  \n",
              "\n",
              "[5 rows x 800 columns]"
            ],
            "text/html": [
              "\n",
              "  <div id=\"df-19d33ffe-7d7c-4f15-94d2-aa472d0053c5\">\n",
              "    <div class=\"colab-df-container\">\n",
              "      <div>\n",
              "<style scoped>\n",
              "    .dataframe tbody tr th:only-of-type {\n",
              "        vertical-align: middle;\n",
              "    }\n",
              "\n",
              "    .dataframe tbody tr th {\n",
              "        vertical-align: top;\n",
              "    }\n",
              "\n",
              "    .dataframe thead th {\n",
              "        text-align: right;\n",
              "    }\n",
              "</style>\n",
              "<table border=\"1\" class=\"dataframe\">\n",
              "  <thead>\n",
              "    <tr style=\"text-align: right;\">\n",
              "      <th></th>\n",
              "      <th>absorbent</th>\n",
              "      <th>accent</th>\n",
              "      <th>access</th>\n",
              "      <th>actually</th>\n",
              "      <th>add</th>\n",
              "      <th>added</th>\n",
              "      <th>addition</th>\n",
              "      <th>adjustable</th>\n",
              "      <th>admit</th>\n",
              "      <th>ago</th>\n",
              "      <th>...</th>\n",
              "      <th>wobble</th>\n",
              "      <th>woman</th>\n",
              "      <th>wonder</th>\n",
              "      <th>wooden</th>\n",
              "      <th>working</th>\n",
              "      <th>wrap</th>\n",
              "      <th>wrinkle</th>\n",
              "      <th>write</th>\n",
              "      <th>year</th>\n",
              "      <th>zero</th>\n",
              "    </tr>\n",
              "  </thead>\n",
              "  <tbody>\n",
              "    <tr>\n",
              "      <th>0</th>\n",
              "      <td>0.0</td>\n",
              "      <td>0.0</td>\n",
              "      <td>0.0</td>\n",
              "      <td>0.0</td>\n",
              "      <td>0.0</td>\n",
              "      <td>0.0</td>\n",
              "      <td>0.0</td>\n",
              "      <td>0.0</td>\n",
              "      <td>0.0</td>\n",
              "      <td>0.0</td>\n",
              "      <td>...</td>\n",
              "      <td>0.0</td>\n",
              "      <td>0.0</td>\n",
              "      <td>0.0</td>\n",
              "      <td>0.0</td>\n",
              "      <td>0.0</td>\n",
              "      <td>0.0</td>\n",
              "      <td>0.0</td>\n",
              "      <td>0.0</td>\n",
              "      <td>0.000000</td>\n",
              "      <td>0.0</td>\n",
              "    </tr>\n",
              "    <tr>\n",
              "      <th>1</th>\n",
              "      <td>0.0</td>\n",
              "      <td>0.0</td>\n",
              "      <td>0.0</td>\n",
              "      <td>0.0</td>\n",
              "      <td>0.0</td>\n",
              "      <td>0.0</td>\n",
              "      <td>0.0</td>\n",
              "      <td>0.0</td>\n",
              "      <td>0.0</td>\n",
              "      <td>0.0</td>\n",
              "      <td>...</td>\n",
              "      <td>0.0</td>\n",
              "      <td>0.0</td>\n",
              "      <td>0.0</td>\n",
              "      <td>0.0</td>\n",
              "      <td>0.0</td>\n",
              "      <td>0.0</td>\n",
              "      <td>0.0</td>\n",
              "      <td>0.0</td>\n",
              "      <td>0.295403</td>\n",
              "      <td>0.0</td>\n",
              "    </tr>\n",
              "    <tr>\n",
              "      <th>2</th>\n",
              "      <td>0.0</td>\n",
              "      <td>0.0</td>\n",
              "      <td>0.0</td>\n",
              "      <td>0.0</td>\n",
              "      <td>0.0</td>\n",
              "      <td>0.0</td>\n",
              "      <td>0.0</td>\n",
              "      <td>0.0</td>\n",
              "      <td>0.0</td>\n",
              "      <td>0.0</td>\n",
              "      <td>...</td>\n",
              "      <td>0.0</td>\n",
              "      <td>0.0</td>\n",
              "      <td>0.0</td>\n",
              "      <td>0.0</td>\n",
              "      <td>0.0</td>\n",
              "      <td>0.0</td>\n",
              "      <td>0.0</td>\n",
              "      <td>0.0</td>\n",
              "      <td>0.000000</td>\n",
              "      <td>0.0</td>\n",
              "    </tr>\n",
              "    <tr>\n",
              "      <th>3</th>\n",
              "      <td>0.0</td>\n",
              "      <td>0.0</td>\n",
              "      <td>0.0</td>\n",
              "      <td>0.0</td>\n",
              "      <td>0.0</td>\n",
              "      <td>0.0</td>\n",
              "      <td>0.0</td>\n",
              "      <td>0.0</td>\n",
              "      <td>0.0</td>\n",
              "      <td>0.0</td>\n",
              "      <td>...</td>\n",
              "      <td>0.0</td>\n",
              "      <td>0.0</td>\n",
              "      <td>0.0</td>\n",
              "      <td>0.0</td>\n",
              "      <td>0.0</td>\n",
              "      <td>0.0</td>\n",
              "      <td>0.0</td>\n",
              "      <td>0.0</td>\n",
              "      <td>0.000000</td>\n",
              "      <td>0.0</td>\n",
              "    </tr>\n",
              "    <tr>\n",
              "      <th>4</th>\n",
              "      <td>0.0</td>\n",
              "      <td>0.0</td>\n",
              "      <td>0.0</td>\n",
              "      <td>0.0</td>\n",
              "      <td>0.0</td>\n",
              "      <td>0.0</td>\n",
              "      <td>0.0</td>\n",
              "      <td>0.0</td>\n",
              "      <td>0.0</td>\n",
              "      <td>0.0</td>\n",
              "      <td>...</td>\n",
              "      <td>0.0</td>\n",
              "      <td>0.0</td>\n",
              "      <td>0.0</td>\n",
              "      <td>0.0</td>\n",
              "      <td>0.0</td>\n",
              "      <td>0.0</td>\n",
              "      <td>0.0</td>\n",
              "      <td>0.0</td>\n",
              "      <td>0.000000</td>\n",
              "      <td>0.0</td>\n",
              "    </tr>\n",
              "  </tbody>\n",
              "</table>\n",
              "<p>5 rows × 800 columns</p>\n",
              "</div>\n",
              "      <button class=\"colab-df-convert\" onclick=\"convertToInteractive('df-19d33ffe-7d7c-4f15-94d2-aa472d0053c5')\"\n",
              "              title=\"Convert this dataframe to an interactive table.\"\n",
              "              style=\"display:none;\">\n",
              "        \n",
              "  <svg xmlns=\"http://www.w3.org/2000/svg\" height=\"24px\"viewBox=\"0 0 24 24\"\n",
              "       width=\"24px\">\n",
              "    <path d=\"M0 0h24v24H0V0z\" fill=\"none\"/>\n",
              "    <path d=\"M18.56 5.44l.94 2.06.94-2.06 2.06-.94-2.06-.94-.94-2.06-.94 2.06-2.06.94zm-11 1L8.5 8.5l.94-2.06 2.06-.94-2.06-.94L8.5 2.5l-.94 2.06-2.06.94zm10 10l.94 2.06.94-2.06 2.06-.94-2.06-.94-.94-2.06-.94 2.06-2.06.94z\"/><path d=\"M17.41 7.96l-1.37-1.37c-.4-.4-.92-.59-1.43-.59-.52 0-1.04.2-1.43.59L10.3 9.45l-7.72 7.72c-.78.78-.78 2.05 0 2.83L4 21.41c.39.39.9.59 1.41.59.51 0 1.02-.2 1.41-.59l7.78-7.78 2.81-2.81c.8-.78.8-2.07 0-2.86zM5.41 20L4 18.59l7.72-7.72 1.47 1.35L5.41 20z\"/>\n",
              "  </svg>\n",
              "      </button>\n",
              "      \n",
              "  <style>\n",
              "    .colab-df-container {\n",
              "      display:flex;\n",
              "      flex-wrap:wrap;\n",
              "      gap: 12px;\n",
              "    }\n",
              "\n",
              "    .colab-df-convert {\n",
              "      background-color: #E8F0FE;\n",
              "      border: none;\n",
              "      border-radius: 50%;\n",
              "      cursor: pointer;\n",
              "      display: none;\n",
              "      fill: #1967D2;\n",
              "      height: 32px;\n",
              "      padding: 0 0 0 0;\n",
              "      width: 32px;\n",
              "    }\n",
              "\n",
              "    .colab-df-convert:hover {\n",
              "      background-color: #E2EBFA;\n",
              "      box-shadow: 0px 1px 2px rgba(60, 64, 67, 0.3), 0px 1px 3px 1px rgba(60, 64, 67, 0.15);\n",
              "      fill: #174EA6;\n",
              "    }\n",
              "\n",
              "    [theme=dark] .colab-df-convert {\n",
              "      background-color: #3B4455;\n",
              "      fill: #D2E3FC;\n",
              "    }\n",
              "\n",
              "    [theme=dark] .colab-df-convert:hover {\n",
              "      background-color: #434B5C;\n",
              "      box-shadow: 0px 1px 3px 1px rgba(0, 0, 0, 0.15);\n",
              "      filter: drop-shadow(0px 1px 2px rgba(0, 0, 0, 0.3));\n",
              "      fill: #FFFFFF;\n",
              "    }\n",
              "  </style>\n",
              "\n",
              "      <script>\n",
              "        const buttonEl =\n",
              "          document.querySelector('#df-19d33ffe-7d7c-4f15-94d2-aa472d0053c5 button.colab-df-convert');\n",
              "        buttonEl.style.display =\n",
              "          google.colab.kernel.accessAllowed ? 'block' : 'none';\n",
              "\n",
              "        async function convertToInteractive(key) {\n",
              "          const element = document.querySelector('#df-19d33ffe-7d7c-4f15-94d2-aa472d0053c5');\n",
              "          const dataTable =\n",
              "            await google.colab.kernel.invokeFunction('convertToInteractive',\n",
              "                                                     [key], {});\n",
              "          if (!dataTable) return;\n",
              "\n",
              "          const docLinkHtml = 'Like what you see? Visit the ' +\n",
              "            '<a target=\"_blank\" href=https://colab.research.google.com/notebooks/data_table.ipynb>data table notebook</a>'\n",
              "            + ' to learn more about interactive tables.';\n",
              "          element.innerHTML = '';\n",
              "          dataTable['output_type'] = 'display_data';\n",
              "          await google.colab.output.renderOutput(dataTable, element);\n",
              "          const docLink = document.createElement('div');\n",
              "          docLink.innerHTML = docLinkHtml;\n",
              "          element.appendChild(docLink);\n",
              "        }\n",
              "      </script>\n",
              "    </div>\n",
              "  </div>\n",
              "  "
            ]
          },
          "metadata": {},
          "execution_count": 37
        }
      ]
    },
    {
      "cell_type": "code",
      "source": [
        "# SOURCE : https://github.com/dmlc/dgl/issues/3364\n",
        "src, dst = np.nonzero(X_kbest_features)"
      ],
      "metadata": {
        "id": "P6OeMUnQZsrN"
      },
      "execution_count": 38,
      "outputs": []
    },
    {
      "cell_type": "code",
      "source": [
        "src"
      ],
      "metadata": {
        "colab": {
          "base_uri": "https://localhost:8080/"
        },
        "id": "o9mbiGeJargk",
        "outputId": "96b0a560-bdbf-4d33-f504-8f32506b52b7"
      },
      "execution_count": 39,
      "outputs": [
        {
          "output_type": "execute_result",
          "data": {
            "text/plain": [
              "array([   0,    0,    0, ..., 4055, 4055, 4055])"
            ]
          },
          "metadata": {},
          "execution_count": 39
        }
      ]
    },
    {
      "cell_type": "code",
      "source": [
        "dst"
      ],
      "metadata": {
        "colab": {
          "base_uri": "https://localhost:8080/"
        },
        "id": "ftpsumT5ataU",
        "outputId": "f3fbd468-b028-489e-932a-290d65860731"
      },
      "execution_count": 40,
      "outputs": [
        {
          "output_type": "execute_result",
          "data": {
            "text/plain": [
              "array([136, 416, 538, ..., 761, 789, 798])"
            ]
          },
          "metadata": {},
          "execution_count": 40
        }
      ]
    },
    {
      "cell_type": "code",
      "source": [
        "g = dgl.graph((src, dst))"
      ],
      "metadata": {
        "id": "586xOg_vZvs8"
      },
      "execution_count": 41,
      "outputs": []
    },
    {
      "cell_type": "code",
      "source": [
        "n_nodes = g.num_nodes()\n",
        "n_nodes"
      ],
      "metadata": {
        "colab": {
          "base_uri": "https://localhost:8080/"
        },
        "id": "1sx5KTl9PYUe",
        "outputId": "3dc188e4-fd3f-42f5-f519-26a0b3be7ed0"
      },
      "execution_count": 42,
      "outputs": [
        {
          "output_type": "execute_result",
          "data": {
            "text/plain": [
              "4056"
            ]
          },
          "metadata": {},
          "execution_count": 42
        }
      ]
    },
    {
      "cell_type": "code",
      "source": [
        "nodes = g.nodes()\n",
        "nodes"
      ],
      "metadata": {
        "colab": {
          "base_uri": "https://localhost:8080/"
        },
        "id": "X966_YkOPYWw",
        "outputId": "4f572b56-a70e-4a8e-e5e1-cdb2ccdd6f56"
      },
      "execution_count": 43,
      "outputs": [
        {
          "output_type": "execute_result",
          "data": {
            "text/plain": [
              "tensor([   0,    1,    2,  ..., 4053, 4054, 4055])"
            ]
          },
          "metadata": {},
          "execution_count": 43
        }
      ]
    },
    {
      "cell_type": "code",
      "source": [
        "n_nodes1 = g.number_of_nodes()\n",
        "n_nodes1"
      ],
      "metadata": {
        "colab": {
          "base_uri": "https://localhost:8080/"
        },
        "id": "eBfrj943UfIY",
        "outputId": "1e3954bc-aa53-4493-f831-dd4e0a495af3"
      },
      "execution_count": 44,
      "outputs": [
        {
          "output_type": "execute_result",
          "data": {
            "text/plain": [
              "4056"
            ]
          },
          "metadata": {},
          "execution_count": 44
        }
      ]
    },
    {
      "cell_type": "code",
      "source": [
        "g.ndata['feat'] = torch.tensor(X_kbest_features)\n",
        "g.ndata['feat'] "
      ],
      "metadata": {
        "colab": {
          "base_uri": "https://localhost:8080/"
        },
        "id": "qO1Qsayh60X6",
        "outputId": "e831d82c-9d44-4ee4-92f0-95aaa0e7222c"
      },
      "execution_count": 45,
      "outputs": [
        {
          "output_type": "execute_result",
          "data": {
            "text/plain": [
              "tensor([[0.0000, 0.0000, 0.0000,  ..., 0.0000, 0.0000, 0.0000],\n",
              "        [0.0000, 0.0000, 0.0000,  ..., 0.0000, 0.2954, 0.0000],\n",
              "        [0.0000, 0.0000, 0.0000,  ..., 0.0000, 0.0000, 0.0000],\n",
              "        ...,\n",
              "        [0.0000, 0.0000, 0.0000,  ..., 0.0000, 0.0000, 0.0000],\n",
              "        [0.0000, 0.0000, 0.0000,  ..., 0.0000, 0.1324, 0.0000],\n",
              "        [0.0000, 0.0000, 0.0000,  ..., 0.0000, 0.0859, 0.0000]],\n",
              "       dtype=torch.float64)"
            ]
          },
          "metadata": {},
          "execution_count": 45
        }
      ]
    },
    {
      "cell_type": "code",
      "source": [
        "n_train = int(n_nodes1 * 0.6)\n",
        "n_val = int(n_nodes1 * 0.2)"
      ],
      "metadata": {
        "id": "SZYQiQqEmXJb"
      },
      "execution_count": 46,
      "outputs": []
    },
    {
      "cell_type": "code",
      "source": [
        "train_mask = torch.zeros(n_nodes, dtype=torch.bool)\n",
        "len(train_mask)\n",
        "train_mask"
      ],
      "metadata": {
        "colab": {
          "base_uri": "https://localhost:8080/"
        },
        "id": "PkJ5DhnOmy1K",
        "outputId": "6ef6c41a-3166-45e8-9454-76ac3f0de23c"
      },
      "execution_count": 47,
      "outputs": [
        {
          "output_type": "execute_result",
          "data": {
            "text/plain": [
              "tensor([False, False, False,  ..., False, False, False])"
            ]
          },
          "metadata": {},
          "execution_count": 47
        }
      ]
    },
    {
      "cell_type": "code",
      "source": [
        "val_mask = torch.zeros(n_nodes, dtype=torch.bool)\n",
        "len(val_mask)\n",
        "val_mask"
      ],
      "metadata": {
        "colab": {
          "base_uri": "https://localhost:8080/"
        },
        "id": "G0v0Uq_Wm3eS",
        "outputId": "e8bbfb6e-a9e1-4f70-edd9-de02f289d5cd"
      },
      "execution_count": 48,
      "outputs": [
        {
          "output_type": "execute_result",
          "data": {
            "text/plain": [
              "tensor([False, False, False,  ..., False, False, False])"
            ]
          },
          "metadata": {},
          "execution_count": 48
        }
      ]
    },
    {
      "cell_type": "code",
      "source": [
        "test_mask = torch.zeros(n_nodes, dtype=torch.bool)\n",
        "len(test_mask)\n",
        "test_mask"
      ],
      "metadata": {
        "colab": {
          "base_uri": "https://localhost:8080/"
        },
        "id": "cItnta9U5upn",
        "outputId": "4ef3b8c5-6f07-4489-a988-2d6cede9c175"
      },
      "execution_count": 49,
      "outputs": [
        {
          "output_type": "execute_result",
          "data": {
            "text/plain": [
              "tensor([False, False, False,  ..., False, False, False])"
            ]
          },
          "metadata": {},
          "execution_count": 49
        }
      ]
    },
    {
      "cell_type": "code",
      "source": [
        "train_mask[:n_train] = True"
      ],
      "metadata": {
        "id": "x2aQxYaimXLj"
      },
      "execution_count": 50,
      "outputs": []
    },
    {
      "cell_type": "code",
      "source": [
        "val_mask[n_train:n_train + n_val] = True"
      ],
      "metadata": {
        "id": "1TgTOVm0mXPd"
      },
      "execution_count": 51,
      "outputs": []
    },
    {
      "cell_type": "code",
      "source": [
        "test_mask[n_train + n_val:] = True"
      ],
      "metadata": {
        "id": "zRYIR4H76FTA"
      },
      "execution_count": 52,
      "outputs": []
    },
    {
      "cell_type": "code",
      "source": [
        "g.ndata['train_mask'] = train_mask"
      ],
      "metadata": {
        "id": "AoRuraDInRHu"
      },
      "execution_count": 53,
      "outputs": []
    },
    {
      "cell_type": "code",
      "source": [
        "g.ndata['val_mask'] = val_mask"
      ],
      "metadata": {
        "id": "pU8Ro7FsntTY"
      },
      "execution_count": 54,
      "outputs": []
    },
    {
      "cell_type": "code",
      "source": [
        "g.ndata['test_mask'] = test_mask"
      ],
      "metadata": {
        "id": "5vRy2Xsl6G4w"
      },
      "execution_count": 55,
      "outputs": []
    },
    {
      "cell_type": "code",
      "source": [
        "s_array = df['Class'].to_numpy()\n",
        "s_array"
      ],
      "metadata": {
        "colab": {
          "base_uri": "https://localhost:8080/"
        },
        "id": "BeIWr8AMoNpQ",
        "outputId": "3c117d78-d89d-4730-9d29-86b744e25f7c"
      },
      "execution_count": 56,
      "outputs": [
        {
          "output_type": "execute_result",
          "data": {
            "text/plain": [
              "array([0, 0, 0, ..., 1, 0, 1])"
            ]
          },
          "metadata": {},
          "execution_count": 56
        }
      ]
    },
    {
      "cell_type": "code",
      "source": [
        "t1 = torch.tensor(s_array)\n",
        "t1"
      ],
      "metadata": {
        "colab": {
          "base_uri": "https://localhost:8080/"
        },
        "id": "R97wW7EUoNrT",
        "outputId": "2ed40234-30dc-4d52-a57f-85470819f389"
      },
      "execution_count": 57,
      "outputs": [
        {
          "output_type": "execute_result",
          "data": {
            "text/plain": [
              "tensor([0, 0, 0,  ..., 1, 0, 1])"
            ]
          },
          "metadata": {},
          "execution_count": 57
        }
      ]
    },
    {
      "cell_type": "code",
      "source": [
        "g.ndata[\"label\"] =t1"
      ],
      "metadata": {
        "id": "hO8JibL0oNwE"
      },
      "execution_count": 58,
      "outputs": []
    },
    {
      "cell_type": "code",
      "source": [
        "label = g.ndata[\"label\"]"
      ],
      "metadata": {
        "id": "G2mtSADLoNx9"
      },
      "execution_count": 59,
      "outputs": []
    },
    {
      "cell_type": "code",
      "source": [
        "label[train_mask]"
      ],
      "metadata": {
        "colab": {
          "base_uri": "https://localhost:8080/"
        },
        "id": "YsuJWgi_eVHj",
        "outputId": "7f44f35c-9e8b-4473-f425-8397b42e63b6"
      },
      "execution_count": 60,
      "outputs": [
        {
          "output_type": "execute_result",
          "data": {
            "text/plain": [
              "tensor([0, 0, 0,  ..., 0, 0, 0])"
            ]
          },
          "metadata": {},
          "execution_count": 60
        }
      ]
    },
    {
      "cell_type": "code",
      "source": [
        "label[val_mask]"
      ],
      "metadata": {
        "colab": {
          "base_uri": "https://localhost:8080/"
        },
        "id": "kvhuvz2hecjK",
        "outputId": "8f4a0ed0-fb9e-4bd9-ad7a-3193275ddacc"
      },
      "execution_count": 61,
      "outputs": [
        {
          "output_type": "execute_result",
          "data": {
            "text/plain": [
              "tensor([0, 0, 0, 0, 0, 0, 0, 1, 1, 1, 1, 1, 1, 1, 1, 1, 1, 1, 1, 1, 1, 0, 0, 0,\n",
              "        0, 0, 0, 0, 0, 0, 0, 0, 0, 0, 0, 0, 1, 1, 1, 1, 1, 1, 1, 1, 1, 1, 1, 1,\n",
              "        1, 1, 1, 0, 0, 0, 0, 0, 0, 0, 0, 0, 0, 0, 0, 0, 0, 1, 1, 1, 1, 1, 1, 1,\n",
              "        1, 1, 1, 1, 1, 1, 1, 0, 0, 0, 0, 0, 0, 0, 0, 0, 0, 0, 0, 0, 0, 1, 1, 1,\n",
              "        1, 1, 1, 1, 1, 1, 1, 1, 1, 1, 1, 0, 0, 0, 0, 0, 0, 0, 0, 0, 0, 0, 0, 0,\n",
              "        1, 1, 1, 1, 1, 1, 1, 1, 1, 1, 1, 1, 1, 0, 0, 0, 0, 0, 0, 0, 0, 0, 0, 0,\n",
              "        0, 0, 1, 1, 1, 1, 1, 1, 1, 1, 1, 1, 1, 1, 1, 0, 0, 0, 0, 0, 0, 0, 0, 0,\n",
              "        0, 0, 0, 0, 1, 1, 1, 1, 1, 1, 1, 1, 1, 1, 1, 1, 1, 0, 0, 0, 0, 0, 0, 0,\n",
              "        0, 0, 0, 0, 0, 1, 1, 1, 1, 1, 1, 1, 1, 1, 1, 1, 1, 0, 0, 0, 0, 0, 0, 0,\n",
              "        0, 0, 0, 0, 0, 1, 1, 1, 1, 1, 1, 1, 1, 1, 1, 1, 1, 0, 0, 0, 0, 0, 0, 0,\n",
              "        0, 0, 0, 0, 1, 1, 1, 1, 1, 1, 1, 1, 1, 1, 1, 0, 0, 0, 0, 0, 0, 0, 0, 0,\n",
              "        0, 0, 1, 1, 1, 1, 1, 1, 1, 1, 1, 1, 1, 0, 0, 0, 0, 0, 0, 0, 0, 0, 0, 0,\n",
              "        1, 1, 1, 1, 1, 1, 1, 1, 1, 1, 1, 0, 0, 0, 0, 0, 0, 0, 0, 0, 0, 1, 1, 1,\n",
              "        1, 1, 1, 1, 1, 1, 1, 0, 0, 0, 0, 0, 0, 0, 0, 0, 0, 1, 1, 1, 1, 1, 1, 1,\n",
              "        1, 1, 1, 0, 0, 0, 0, 0, 0, 0, 0, 0, 0, 1, 1, 1, 1, 1, 1, 1, 1, 1, 1, 0,\n",
              "        0, 0, 0, 0, 0, 0, 0, 0, 1, 1, 1, 1, 1, 1, 1, 1, 1, 0, 0, 0, 0, 0, 0, 0,\n",
              "        0, 0, 0, 1, 1, 1, 1, 1, 1, 1, 1, 1, 1, 0, 0, 0, 0, 0, 0, 0, 0, 0, 1, 1,\n",
              "        1, 1, 1, 1, 1, 1, 1, 0, 0, 0, 0, 0, 0, 0, 0, 0, 1, 1, 1, 1, 1, 1, 1, 1,\n",
              "        1, 0, 0, 0, 0, 0, 0, 0, 0, 0, 1, 1, 1, 1, 1, 1, 1, 1, 1, 0, 0, 0, 0, 0,\n",
              "        0, 0, 0, 0, 1, 1, 1, 1, 1, 1, 1, 1, 1, 0, 0, 0, 0, 0, 0, 0, 0, 0, 1, 1,\n",
              "        1, 1, 1, 1, 1, 1, 1, 0, 0, 0, 0, 0, 0, 0, 0, 1, 1, 1, 1, 1, 1, 1, 1, 0,\n",
              "        0, 0, 0, 0, 0, 0, 0, 1, 1, 1, 1, 1, 1, 1, 1, 0, 0, 0, 0, 0, 0, 0, 0, 1,\n",
              "        1, 1, 1, 1, 1, 1, 1, 0, 0, 0, 0, 0, 0, 0, 0, 1, 1, 1, 1, 1, 1, 1, 1, 0,\n",
              "        0, 0, 0, 0, 0, 0, 1, 1, 1, 1, 1, 1, 1, 0, 0, 0, 0, 0, 0, 0, 1, 1, 1, 1,\n",
              "        1, 1, 1, 0, 0, 0, 0, 0, 0, 0, 1, 1, 1, 1, 1, 1, 1, 0, 0, 0, 0, 0, 0, 0,\n",
              "        1, 1, 1, 1, 1, 1, 1, 0, 0, 0, 0, 0, 0, 0, 1, 1, 1, 1, 1, 1, 1, 0, 0, 0,\n",
              "        0, 0, 0, 0, 1, 1, 1, 1, 1, 1, 1, 0, 0, 0, 0, 0, 0, 0, 1, 1, 1, 1, 1, 1,\n",
              "        1, 0, 0, 0, 0, 0, 0, 1, 1, 1, 1, 1, 1, 0, 0, 0, 0, 0, 0, 1, 1, 1, 1, 1,\n",
              "        1, 0, 0, 0, 0, 0, 0, 1, 1, 1, 1, 1, 1, 0, 0, 0, 0, 0, 0, 1, 1, 1, 1, 1,\n",
              "        1, 0, 0, 0, 0, 0, 0, 1, 1, 1, 1, 1, 1, 0, 0, 0, 0, 0, 0, 1, 1, 1, 1, 1,\n",
              "        1, 0, 0, 0, 0, 0, 0, 1, 1, 1, 1, 1, 1, 0, 0, 0, 0, 0, 0, 1, 1, 1, 1, 1,\n",
              "        1, 0, 0, 0, 0, 0, 1, 1, 1, 1, 1, 0, 0, 0, 0, 0, 1, 1, 1, 1, 1, 0, 0, 0,\n",
              "        0, 0, 1, 1, 1, 1, 1, 0, 0, 0, 0, 0, 1, 1, 1, 1, 1, 0, 0, 0, 0, 0, 1, 1,\n",
              "        1, 1, 1, 0, 0, 0, 0, 0, 1, 1, 1, 1, 1, 0, 0, 0, 0, 0, 1])"
            ]
          },
          "metadata": {},
          "execution_count": 61
        }
      ]
    },
    {
      "cell_type": "code",
      "source": [
        "label[test_mask]"
      ],
      "metadata": {
        "colab": {
          "base_uri": "https://localhost:8080/"
        },
        "id": "xWAMRS8n6RIp",
        "outputId": "8a57fc53-259b-4db5-f453-81f15b409d1b"
      },
      "execution_count": 62,
      "outputs": [
        {
          "output_type": "execute_result",
          "data": {
            "text/plain": [
              "tensor([1, 1, 1, 1, 0, 0, 0, 0, 0, 1, 1, 1, 1, 1, 0, 0, 0, 0, 0, 1, 1, 1, 1, 1,\n",
              "        0, 0, 0, 0, 0, 1, 1, 1, 1, 1, 0, 0, 0, 0, 0, 1, 1, 1, 1, 1, 0, 0, 0, 0,\n",
              "        1, 1, 1, 1, 0, 0, 0, 0, 1, 1, 1, 1, 0, 0, 0, 0, 1, 1, 1, 1, 0, 0, 0, 0,\n",
              "        1, 1, 1, 1, 0, 0, 0, 0, 1, 1, 1, 1, 0, 0, 0, 0, 1, 1, 1, 1, 0, 0, 0, 0,\n",
              "        1, 1, 1, 1, 0, 0, 0, 0, 1, 1, 1, 1, 0, 0, 0, 0, 1, 1, 1, 1, 0, 0, 0, 0,\n",
              "        1, 1, 1, 1, 0, 0, 0, 0, 1, 1, 1, 1, 0, 0, 0, 0, 1, 1, 1, 1, 0, 0, 0, 0,\n",
              "        1, 1, 1, 1, 0, 0, 0, 0, 1, 1, 1, 1, 0, 0, 0, 1, 1, 1, 0, 0, 0, 1, 1, 1,\n",
              "        0, 0, 0, 0, 1, 1, 1, 1, 0, 0, 0, 1, 1, 1, 0, 0, 0, 1, 1, 1, 0, 0, 0, 1,\n",
              "        1, 1, 0, 0, 0, 1, 1, 1, 0, 0, 0, 1, 1, 1, 0, 0, 0, 1, 1, 1, 0, 0, 0, 1,\n",
              "        1, 1, 0, 0, 0, 1, 1, 1, 0, 0, 0, 1, 1, 1, 0, 0, 0, 1, 1, 1, 0, 0, 0, 1,\n",
              "        1, 1, 0, 0, 0, 1, 1, 1, 0, 0, 0, 1, 1, 1, 0, 0, 0, 1, 1, 1, 0, 0, 0, 1,\n",
              "        1, 1, 0, 0, 0, 1, 1, 1, 0, 0, 1, 1, 0, 0, 0, 1, 1, 1, 0, 0, 0, 1, 1, 1,\n",
              "        0, 0, 1, 1, 0, 0, 0, 1, 1, 1, 0, 0, 0, 1, 1, 1, 0, 0, 0, 1, 1, 1, 0, 0,\n",
              "        1, 1, 0, 0, 1, 1, 0, 0, 1, 1, 0, 0, 1, 1, 0, 0, 1, 1, 0, 0, 1, 1, 0, 0,\n",
              "        1, 1, 0, 0, 1, 1, 0, 0, 1, 1, 0, 0, 1, 1, 0, 0, 1, 1, 0, 0, 1, 1, 0, 0,\n",
              "        1, 1, 0, 0, 1, 1, 0, 0, 1, 1, 0, 0, 1, 1, 0, 0, 1, 1, 0, 0, 1, 1, 0, 0,\n",
              "        1, 1, 0, 0, 1, 1, 0, 0, 1, 1, 0, 0, 1, 1, 0, 0, 1, 1, 0, 0, 1, 1, 0, 0,\n",
              "        1, 1, 0, 0, 1, 1, 0, 0, 1, 1, 0, 0, 1, 1, 0, 0, 1, 1, 0, 0, 1, 1, 0, 0,\n",
              "        1, 1, 0, 0, 1, 1, 0, 0, 1, 1, 0, 0, 1, 1, 0, 1, 0, 1, 0, 0, 1, 1, 0, 0,\n",
              "        1, 1, 0, 0, 1, 1, 0, 1, 0, 0, 1, 1, 0, 0, 1, 1, 0, 0, 1, 1, 0, 0, 1, 1,\n",
              "        0, 1, 0, 0, 1, 1, 0, 1, 0, 1, 0, 1, 0, 0, 1, 1, 0, 1, 0, 1, 0, 1, 0, 1,\n",
              "        0, 1, 0, 1, 0, 1, 0, 1, 0, 1, 0, 1, 0, 1, 0, 1, 0, 1, 0, 1, 0, 1, 0, 1,\n",
              "        0, 1, 0, 1, 0, 1, 0, 1, 0, 1, 0, 1, 0, 1, 0, 1, 0, 1, 0, 1, 0, 1, 0, 1,\n",
              "        0, 1, 0, 1, 0, 1, 0, 1, 0, 1, 0, 1, 0, 1, 0, 1, 0, 1, 0, 1, 0, 1, 0, 1,\n",
              "        0, 1, 0, 1, 0, 1, 0, 1, 0, 1, 0, 1, 0, 1, 0, 1, 0, 1, 0, 1, 0, 1, 0, 1,\n",
              "        0, 1, 0, 1, 0, 1, 0, 1, 0, 1, 0, 1, 0, 1, 0, 1, 0, 1, 0, 1, 0, 1, 0, 1,\n",
              "        0, 1, 0, 1, 0, 1, 0, 1, 0, 1, 0, 1, 0, 1, 0, 1, 0, 1, 0, 1, 0, 1, 0, 1,\n",
              "        0, 1, 0, 1, 0, 1, 0, 1, 0, 1, 0, 1, 0, 1, 0, 1, 0, 1, 0, 1, 0, 1, 0, 1,\n",
              "        0, 1, 0, 1, 0, 1, 0, 1, 0, 1, 0, 1, 0, 1, 0, 1, 0, 1, 0, 1, 0, 1, 0, 1,\n",
              "        0, 1, 0, 1, 0, 1, 0, 1, 0, 1, 0, 1, 0, 1, 0, 1, 0, 1, 0, 1, 0, 1, 0, 1,\n",
              "        0, 1, 0, 1, 0, 1, 0, 1, 0, 1, 0, 1, 0, 1, 0, 1, 0, 1, 0, 1, 0, 1, 0, 1,\n",
              "        0, 1, 0, 1, 0, 1, 0, 1, 0, 1, 0, 1, 0, 1, 0, 1, 0, 1, 0, 1, 0, 1, 0, 1,\n",
              "        0, 1, 0, 1, 0, 1, 0, 1, 0, 1, 0, 1, 0, 1, 0, 1, 0, 1, 0, 1, 0, 1, 0, 1,\n",
              "        0, 1, 0, 1, 0, 1, 0, 1, 0, 1, 0, 1, 0, 1, 0, 1, 0, 1, 0, 1])"
            ]
          },
          "metadata": {},
          "execution_count": 62
        }
      ]
    },
    {
      "cell_type": "code",
      "source": [
        "train_mask"
      ],
      "metadata": {
        "colab": {
          "base_uri": "https://localhost:8080/"
        },
        "id": "3y5BqD8cn98w",
        "outputId": "ea952d27-48c5-4347-815f-063ef6220ac5"
      },
      "execution_count": 63,
      "outputs": [
        {
          "output_type": "execute_result",
          "data": {
            "text/plain": [
              "tensor([ True,  True,  True,  ..., False, False, False])"
            ]
          },
          "metadata": {},
          "execution_count": 63
        }
      ]
    },
    {
      "cell_type": "code",
      "source": [
        "val_mask"
      ],
      "metadata": {
        "colab": {
          "base_uri": "https://localhost:8080/"
        },
        "id": "5KuQJLqCdLcy",
        "outputId": "ebe6f026-502b-4889-fea6-f024b820c4d9"
      },
      "execution_count": 64,
      "outputs": [
        {
          "output_type": "execute_result",
          "data": {
            "text/plain": [
              "tensor([False, False, False,  ..., False, False, False])"
            ]
          },
          "metadata": {},
          "execution_count": 64
        }
      ]
    },
    {
      "cell_type": "code",
      "source": [
        "test_mask"
      ],
      "metadata": {
        "colab": {
          "base_uri": "https://localhost:8080/"
        },
        "id": "PLvVKgSl6UvR",
        "outputId": "f438f296-11e2-4d8e-f89f-68cbb6e57842"
      },
      "execution_count": 65,
      "outputs": [
        {
          "output_type": "execute_result",
          "data": {
            "text/plain": [
              "tensor([False, False, False,  ...,  True,  True,  True])"
            ]
          },
          "metadata": {},
          "execution_count": 65
        }
      ]
    },
    {
      "cell_type": "code",
      "source": [
        "clf = LogisticRegression()\n",
        "clf.fit(g.ndata['feat'][train_mask], label[train_mask])\n",
        "\n",
        "#y_hat_val_lr = clf.predict_proba(X_kbest_features[val_mask,:])\n",
        "y_val_lr = clf.predict(g.ndata['feat'][val_mask])"
      ],
      "metadata": {
        "id": "UFj-vT9UNAE9"
      },
      "execution_count": 66,
      "outputs": []
    },
    {
      "cell_type": "code",
      "source": [
        "accuracy_score(label[val_mask], y_val_lr)"
      ],
      "metadata": {
        "colab": {
          "base_uri": "https://localhost:8080/"
        },
        "id": "XO4SUnuUNAIh",
        "outputId": "621df478-bebb-4539-ab25-7ad2c2baabcf"
      },
      "execution_count": 67,
      "outputs": [
        {
          "output_type": "execute_result",
          "data": {
            "text/plain": [
              "0.8927250308261405"
            ]
          },
          "metadata": {},
          "execution_count": 67
        }
      ]
    },
    {
      "cell_type": "code",
      "source": [
        "clf_balanced = LogisticRegression(class_weight='balanced', max_iter=1000)\n",
        "clf_balanced.fit(g.ndata['feat'][train_mask], label[train_mask])\n",
        "\n",
        "y_val_lrb = clf_balanced.predict(g.ndata['feat'][val_mask])\n",
        "accuracy_score(label[val_mask], y_val_lrb)"
      ],
      "metadata": {
        "colab": {
          "base_uri": "https://localhost:8080/"
        },
        "id": "bG3ModKdNAL7",
        "outputId": "e6441c17-fea6-4341-ca34-f34967ea42e6"
      },
      "execution_count": 68,
      "outputs": [
        {
          "output_type": "execute_result",
          "data": {
            "text/plain": [
              "0.8902589395807645"
            ]
          },
          "metadata": {},
          "execution_count": 68
        }
      ]
    },
    {
      "cell_type": "code",
      "source": [
        "rf = RandomForestClassifier(n_estimators=400)\n",
        "rf.fit(g.ndata['feat'][train_mask,:], label[train_mask])\n",
        "\n",
        "y_val_rf = rf.predict(g.ndata['feat'][val_mask,:])\n",
        "accuracy_score(label[val_mask], y_val_rf)"
      ],
      "metadata": {
        "colab": {
          "base_uri": "https://localhost:8080/"
        },
        "id": "L-WtXX_BNAO_",
        "outputId": "c764c3c2-9fee-4429-cd95-d5613b817cd8"
      },
      "execution_count": 69,
      "outputs": [
        {
          "output_type": "execute_result",
          "data": {
            "text/plain": [
              "0.812577065351418"
            ]
          },
          "metadata": {},
          "execution_count": 69
        }
      ]
    },
    {
      "cell_type": "code",
      "source": [
        "gb = GradientBoostingClassifier(n_estimators=300, learning_rate=1.0, max_depth=1, random_state=0)\n",
        "gb.fit(g.ndata['feat'][train_mask,:], label[train_mask])\n",
        "\n",
        "y_val_rf = gb.predict(g.ndata['feat'][val_mask,:])\n",
        "accuracy_score(label[val_mask], y_val_rf)"
      ],
      "metadata": {
        "colab": {
          "base_uri": "https://localhost:8080/"
        },
        "id": "pk1pg29uNLTT",
        "outputId": "5e30035b-6a49-4f28-b554-7bbb59dec475"
      },
      "execution_count": 70,
      "outputs": [
        {
          "output_type": "execute_result",
          "data": {
            "text/plain": [
              "0.782983970406905"
            ]
          },
          "metadata": {},
          "execution_count": 70
        }
      ]
    },
    {
      "cell_type": "code",
      "source": [
        "ab = AdaBoostClassifier(n_estimators=400, random_state=0)\n",
        "ab.fit(g.ndata['feat'][train_mask,:], label[train_mask])\n",
        "\n",
        "y_val_rf = ab.predict(g.ndata['feat'][val_mask,:])\n",
        "accuracy_score(label[val_mask], y_val_rf)"
      ],
      "metadata": {
        "colab": {
          "base_uri": "https://localhost:8080/"
        },
        "id": "18ese6-HNLXs",
        "outputId": "f97f0969-3b81-43bb-c0df-cd303792f00a"
      },
      "execution_count": 71,
      "outputs": [
        {
          "output_type": "execute_result",
          "data": {
            "text/plain": [
              "0.7435265104808878"
            ]
          },
          "metadata": {},
          "execution_count": 71
        }
      ]
    },
    {
      "cell_type": "code",
      "source": [
        "from sklearn.model_selection import KFold\n",
        "from sklearn.model_selection import StratifiedKFold\n",
        "from sklearn.model_selection import cross_val_score\n",
        "cv = KFold(n_splits=10, random_state=7, shuffle=True)"
      ],
      "metadata": {
        "id": "sxwsxrFHNLbj"
      },
      "execution_count": 72,
      "outputs": []
    },
    {
      "cell_type": "code",
      "source": [
        "from sklearn.linear_model import LogisticRegression\n",
        "log = LogisticRegression(max_iter=10000) \n",
        "scores = cross_val_score(log, g.ndata['feat'], label, cv=cv, n_jobs=-1)\n",
        "print(np.mean(scores))"
      ],
      "metadata": {
        "colab": {
          "base_uri": "https://localhost:8080/"
        },
        "id": "0a4zKi8CNLfE",
        "outputId": "a5e18ef4-ea98-4081-9277-5b8e21f709ae"
      },
      "execution_count": 73,
      "outputs": [
        {
          "output_type": "stream",
          "name": "stdout",
          "text": [
            "0.8508295323237853\n"
          ]
        }
      ]
    },
    {
      "cell_type": "code",
      "source": [
        "from sklearn.svm import LinearSVC\n",
        "lsvm = LinearSVC()\n",
        "scores = cross_val_score(lsvm, g.ndata['feat'], label, cv=cv, n_jobs=-1)\n",
        "print(np.mean(scores))"
      ],
      "metadata": {
        "colab": {
          "base_uri": "https://localhost:8080/"
        },
        "id": "JiwpGE2rNLkS",
        "outputId": "ddf6dc8e-c924-4ccf-ce11-34ea811e65be"
      },
      "execution_count": 74,
      "outputs": [
        {
          "output_type": "stream",
          "name": "stdout",
          "text": [
            "0.8740083926290824\n"
          ]
        }
      ]
    },
    {
      "cell_type": "code",
      "source": [
        "from sklearn.linear_model import PassiveAggressiveClassifier\n",
        "pa=PassiveAggressiveClassifier(max_iter=1000, random_state=7, tol=1e-3)\n",
        "scores = cross_val_score(pa, g.ndata['feat'], label, cv=cv, n_jobs=-1)\n",
        "print(np.mean(scores))"
      ],
      "metadata": {
        "colab": {
          "base_uri": "https://localhost:8080/"
        },
        "id": "63xUMeXVNLwc",
        "outputId": "136d7af6-2f18-402c-9153-bc0fc4c244f1"
      },
      "execution_count": 75,
      "outputs": [
        {
          "output_type": "stream",
          "name": "stdout",
          "text": [
            "0.8577291248555616\n"
          ]
        }
      ]
    },
    {
      "cell_type": "code",
      "source": [
        "from sklearn.ensemble import RandomForestClassifier\n",
        "rf = RandomForestClassifier(n_estimators=300)\n",
        "scores = cross_val_score(rf, g.ndata['feat'], label, cv=cv, n_jobs=-1)\n",
        "print(np.mean(scores))"
      ],
      "metadata": {
        "colab": {
          "base_uri": "https://localhost:8080/"
        },
        "id": "g007IZlZNLzz",
        "outputId": "ce7aa228-6592-4679-89e3-d2dc45726c39"
      },
      "execution_count": 76,
      "outputs": [
        {
          "output_type": "stream",
          "name": "stdout",
          "text": [
            "0.8348135984917594\n"
          ]
        }
      ]
    },
    {
      "cell_type": "code",
      "source": [
        "from sklearn.ensemble import AdaBoostClassifier\n",
        "ab = AdaBoostClassifier(n_estimators=300)\n",
        "scores = cross_val_score(ab, g.ndata['feat'], label, cv=cv, n_jobs=-1)\n",
        "print(np.mean(scores))"
      ],
      "metadata": {
        "colab": {
          "base_uri": "https://localhost:8080/"
        },
        "id": "sdv41XFHNL2h",
        "outputId": "d45876d6-aad2-4090-a9ea-62be9e105d43"
      },
      "execution_count": 77,
      "outputs": [
        {
          "output_type": "stream",
          "name": "stdout",
          "text": [
            "0.8229781670011553\n"
          ]
        }
      ]
    },
    {
      "cell_type": "code",
      "source": [
        "from sklearn.ensemble import GradientBoostingClassifier\n",
        "gb = GradientBoostingClassifier(n_estimators=300)\n",
        "scores = cross_val_score(gb, g.ndata['feat'], label, cv=cv, n_jobs=-1)\n",
        "print(np.mean(scores))"
      ],
      "metadata": {
        "colab": {
          "base_uri": "https://localhost:8080/"
        },
        "id": "Q_fg6s0jNAR8",
        "outputId": "9e638f6a-1e70-47ca-f892-6053640603d1"
      },
      "execution_count": 78,
      "outputs": [
        {
          "output_type": "stream",
          "name": "stdout",
          "text": [
            "0.8412138904092927\n"
          ]
        }
      ]
    },
    {
      "cell_type": "code",
      "source": [
        "import xgboost as xgb\n",
        "xgbc = xgb.XGBClassifier(base_score=0.5, booster='gbtree', colsample_bylevel=1,\n",
        "              colsample_bynode=1, colsample_bytree=1, \n",
        "              gamma=0,  importance_type='gain',\n",
        "              interaction_constraints='', learning_rate=0.300000012,\n",
        "              max_delta_step=0, max_depth=6, min_child_weight=1, \n",
        "             n_estimators=200, n_jobs=16,\n",
        "              num_parallel_tree=1, random_state=0,\n",
        "              reg_alpha=0, reg_lambda=1, subsample=1,\n",
        "              tree_method='exact', use_label_encoder=False\n",
        "              )\n",
        "scores = cross_val_score(xgbc, g.ndata['feat'], label, cv=cv, n_jobs=-1)\n",
        "print(np.mean(scores))"
      ],
      "metadata": {
        "colab": {
          "base_uri": "https://localhost:8080/"
        },
        "id": "F4fTHJstNhQx",
        "outputId": "7a249d09-be2d-4ffc-a91b-7b57aa75c207"
      },
      "execution_count": 79,
      "outputs": [
        {
          "output_type": "stream",
          "name": "stdout",
          "text": [
            "0.8525664416469014\n"
          ]
        }
      ]
    },
    {
      "cell_type": "code",
      "source": [
        "# Contruct a two-layer GNN model\n",
        "import dgl.nn as dglnn\n",
        "import torch.nn as nn\n",
        "import torch.nn.functional as F\n",
        "class SAGE(nn.Module):\n",
        "    def __init__(self, in_feats, hid_feats, out_feats):\n",
        "        super().__init__()\n",
        "        self.conv1 = dglnn.SAGEConv(\n",
        "            in_feats=in_feats, out_feats=hid_feats, aggregator_type='mean')\n",
        "        self.conv2 = dglnn.SAGEConv(\n",
        "            in_feats=hid_feats, out_feats=out_feats, aggregator_type='mean')\n",
        "\n",
        "    def forward(self, graph, inputs):\n",
        "        # inputs are features of nodes\n",
        "        h = self.conv1(graph, inputs)\n",
        "        h = F.relu(h)\n",
        "        h = self.conv2(graph, h)\n",
        "        return h"
      ],
      "metadata": {
        "id": "loFwUeF55eRu"
      },
      "execution_count": 80,
      "outputs": []
    },
    {
      "cell_type": "code",
      "source": [
        "node_features = g.ndata['feat'].float()\n",
        "node_labels = g.ndata['label']\n",
        "train_mask = g.ndata['train_mask']\n",
        "valid_mask = g.ndata['val_mask']\n",
        "test_mask = g.ndata['test_mask']\n",
        "n_features = node_features.shape[1]\n",
        "n_labels = int(node_labels.max().item() + 1)"
      ],
      "metadata": {
        "id": "2evPH8TQ5eU9"
      },
      "execution_count": 81,
      "outputs": []
    },
    {
      "cell_type": "code",
      "source": [
        "node_features"
      ],
      "metadata": {
        "colab": {
          "base_uri": "https://localhost:8080/"
        },
        "id": "5WImXqoT7fJR",
        "outputId": "7ee21409-8ef3-450c-9a52-eb113d6e3c1d"
      },
      "execution_count": 82,
      "outputs": [
        {
          "output_type": "execute_result",
          "data": {
            "text/plain": [
              "tensor([[0.0000, 0.0000, 0.0000,  ..., 0.0000, 0.0000, 0.0000],\n",
              "        [0.0000, 0.0000, 0.0000,  ..., 0.0000, 0.2954, 0.0000],\n",
              "        [0.0000, 0.0000, 0.0000,  ..., 0.0000, 0.0000, 0.0000],\n",
              "        ...,\n",
              "        [0.0000, 0.0000, 0.0000,  ..., 0.0000, 0.0000, 0.0000],\n",
              "        [0.0000, 0.0000, 0.0000,  ..., 0.0000, 0.1324, 0.0000],\n",
              "        [0.0000, 0.0000, 0.0000,  ..., 0.0000, 0.0859, 0.0000]])"
            ]
          },
          "metadata": {},
          "execution_count": 82
        }
      ]
    },
    {
      "cell_type": "code",
      "source": [
        "def evaluate(model, g, features, labels, mask):\n",
        "    model.eval()\n",
        "    with torch.no_grad():\n",
        "        logits = model(g, features)\n",
        "        logits = logits[mask]\n",
        "        labels = labels[mask]\n",
        "        _, indices = torch.max(logits, dim=1)\n",
        "        correct = torch.sum(indices == labels)\n",
        "        return correct.item() * 1.0 / len(labels)"
      ],
      "metadata": {
        "id": "1I3QmqAo5eYF"
      },
      "execution_count": 83,
      "outputs": []
    },
    {
      "cell_type": "code",
      "source": [
        "model = SAGE(in_feats=n_features, hid_feats=100, out_feats=n_labels)\n",
        "opt = torch.optim.Adam(model.parameters())\n",
        "\n",
        "for epoch in range(50):\n",
        "    model.train()\n",
        "    # forward propagation by using all nodes\n",
        "    logits = model(g, node_features)\n",
        "    # compute loss\n",
        "    loss = F.cross_entropy(logits[train_mask], node_labels[train_mask])\n",
        "    # compute validation accuracy\n",
        "    acc = evaluate(model, g, node_features, node_labels, test_mask)\n",
        "    print(acc)\n",
        "    # backward propagation\n",
        "    opt.zero_grad()\n",
        "    loss.backward()\n",
        "    opt.step()\n",
        "    #print(loss.item())\n",
        "\n",
        "    # Save model if necessary.  Omitted in this example."
      ],
      "metadata": {
        "colab": {
          "base_uri": "https://localhost:8080/"
        },
        "id": "g9NZBq095ea9",
        "outputId": "04fd7fac-8e02-49cc-a985-4cdb8abc2e6d"
      },
      "execution_count": 84,
      "outputs": [
        {
          "output_type": "stream",
          "name": "stdout",
          "text": [
            "0.47783251231527096\n"
          ]
        },
        {
          "output_type": "stream",
          "name": "stderr",
          "text": [
            "/usr/local/lib/python3.7/dist-packages/torch/amp/autocast_mode.py:198: UserWarning: User provided device_type of 'cuda', but CUDA is not available. Disabling\n",
            "  warnings.warn('User provided device_type of \\'cuda\\', but CUDA is not available. Disabling')\n"
          ]
        },
        {
          "output_type": "stream",
          "name": "stdout",
          "text": [
            "0.5455665024630542\n",
            "0.6022167487684729\n",
            "0.6600985221674877\n",
            "0.7179802955665024\n",
            "0.7733990147783252\n",
            "0.8054187192118226\n",
            "0.8312807881773399\n",
            "0.8608374384236454\n",
            "0.8731527093596059\n",
            "0.8842364532019704\n",
            "0.896551724137931\n",
            "0.9014778325123153\n",
            "0.9051724137931034\n",
            "0.9113300492610837\n",
            "0.9174876847290641\n",
            "0.9224137931034483\n",
            "0.9248768472906403\n",
            "0.9248768472906403\n",
            "0.9248768472906403\n",
            "0.9285714285714286\n",
            "0.9310344827586207\n",
            "0.9322660098522167\n",
            "0.9347290640394089\n",
            "0.937192118226601\n",
            "0.9384236453201971\n",
            "0.9396551724137931\n",
            "0.937192118226601\n",
            "0.9384236453201971\n",
            "0.9396551724137931\n",
            "0.9396551724137931\n",
            "0.9384236453201971\n",
            "0.937192118226601\n",
            "0.9347290640394089\n",
            "0.9359605911330049\n",
            "0.937192118226601\n",
            "0.937192118226601\n",
            "0.937192118226601\n",
            "0.9396551724137931\n",
            "0.9396551724137931\n",
            "0.9384236453201971\n",
            "0.9384236453201971\n",
            "0.9384236453201971\n",
            "0.9384236453201971\n",
            "0.9396551724137931\n",
            "0.9396551724137931\n",
            "0.937192118226601\n",
            "0.937192118226601\n",
            "0.937192118226601\n",
            "0.937192118226601\n"
          ]
        }
      ]
    }
  ],
  "metadata": {
    "colab": {
      "provenance": [],
      "collapsed_sections": []
    },
    "kernelspec": {
      "display_name": "Python 3",
      "language": "python",
      "name": "python3"
    },
    "language_info": {
      "codemirror_mode": {
        "name": "ipython",
        "version": 3
      },
      "file_extension": ".py",
      "mimetype": "text/x-python",
      "name": "python",
      "nbconvert_exporter": "python",
      "pygments_lexer": "ipython3",
      "version": "3.6.8"
    },
    "accelerator": "GPU"
  },
  "nbformat": 4,
  "nbformat_minor": 0
}