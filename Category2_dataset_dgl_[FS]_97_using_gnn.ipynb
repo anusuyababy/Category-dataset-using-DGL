{
  "cells": [
    {
      "cell_type": "markdown",
      "metadata": {
        "id": "zicTH6Fi8rIf"
      },
      "source": [
        "# FAKE REVIEW NODE EMBEDDING"
      ]
    },
    {
      "cell_type": "code",
      "source": [
        "# importing all necessary libraries\n",
        "import networkx as nx\n",
        "import pandas as pd\n",
        "import numpy as np\n",
        "import matplotlib.pyplot as plt\n",
        "import seaborn as sns\n",
        "import string\n",
        "import os\n",
        "import networkx as nx\n",
        "from sklearn import preprocessing, model_selection\n",
        "from IPython.display import display, HTML\n",
        "import matplotlib.pyplot as plt\n",
        "from sklearn.decomposition import PCA\n",
        "#from node2vec import Node2Vec as n2v\n",
        "sns.set()\n",
        "\n",
        "%matplotlib inline"
      ],
      "metadata": {
        "id": "QnCy6AgP5iwy"
      },
      "execution_count": 86,
      "outputs": []
    },
    {
      "cell_type": "code",
      "source": [
        "import os, sys\n",
        "from copy import deepcopy\n",
        "import numpy as np\n",
        "import pandas as pd\n",
        "\n",
        "import torch as th\n",
        "import torch.nn as nn\n",
        "from torch import optim\n",
        "import torch.nn.functional as F\n",
        "\n",
        "import matplotlib.pyplot as plt\n",
        "%matplotlib inline"
      ],
      "metadata": {
        "id": "KTxBYEEjBBc4"
      },
      "execution_count": 87,
      "outputs": []
    },
    {
      "cell_type": "code",
      "source": [
        "print(f\"Torch version: {th.__version__}.  CUDA version: {th.version.cuda}\")"
      ],
      "metadata": {
        "colab": {
          "base_uri": "https://localhost:8080/"
        },
        "id": "WfZg4oZpBD4X",
        "outputId": "56ce8604-0d83-44f9-a0a2-710dc21ee1b8"
      },
      "execution_count": 88,
      "outputs": [
        {
          "output_type": "stream",
          "name": "stdout",
          "text": [
            "Torch version: 1.12.1+cu113.  CUDA version: 11.3\n"
          ]
        }
      ]
    },
    {
      "cell_type": "code",
      "source": [
        "dgl_version = f\"dgl-cu{th.version.cuda.replace('.', '')}==0.7.2\"\n",
        "dgl_version"
      ],
      "metadata": {
        "colab": {
          "base_uri": "https://localhost:8080/",
          "height": 36
        },
        "id": "twxQrYR2BD7P",
        "outputId": "3a34eb14-d36b-430f-9515-2cadf6246d2f"
      },
      "execution_count": 89,
      "outputs": [
        {
          "output_type": "execute_result",
          "data": {
            "text/plain": [
              "'dgl-cu113==0.7.2'"
            ],
            "application/vnd.google.colaboratory.intrinsic+json": {
              "type": "string"
            }
          },
          "metadata": {},
          "execution_count": 89
        }
      ]
    },
    {
      "cell_type": "code",
      "source": [
        "# Follow instructions at https://www.dgl.ai/pages/start.html\n",
        "!{sys.executable} -m pip install {dgl_version} -f https://data.dgl.ai/wheels/repo.html"
      ],
      "metadata": {
        "colab": {
          "base_uri": "https://localhost:8080/"
        },
        "id": "yMMKD4XJBD-A",
        "outputId": "c827dc34-6892-455e-b44b-c104cf5e5a3d"
      },
      "execution_count": 90,
      "outputs": [
        {
          "output_type": "stream",
          "name": "stdout",
          "text": [
            "Looking in indexes: https://pypi.org/simple, https://us-python.pkg.dev/colab-wheels/public/simple/\n",
            "Looking in links: https://data.dgl.ai/wheels/repo.html\n",
            "Requirement already satisfied: dgl-cu113==0.7.2 in /usr/local/lib/python3.7/dist-packages (0.7.2)\n",
            "Requirement already satisfied: requests>=2.19.0 in /usr/local/lib/python3.7/dist-packages (from dgl-cu113==0.7.2) (2.23.0)\n",
            "Requirement already satisfied: numpy>=1.14.0 in /usr/local/lib/python3.7/dist-packages (from dgl-cu113==0.7.2) (1.21.6)\n",
            "Requirement already satisfied: scipy>=1.1.0 in /usr/local/lib/python3.7/dist-packages (from dgl-cu113==0.7.2) (1.7.3)\n",
            "Requirement already satisfied: networkx>=2.1 in /usr/local/lib/python3.7/dist-packages (from dgl-cu113==0.7.2) (2.6.3)\n",
            "Requirement already satisfied: urllib3!=1.25.0,!=1.25.1,<1.26,>=1.21.1 in /usr/local/lib/python3.7/dist-packages (from requests>=2.19.0->dgl-cu113==0.7.2) (1.24.3)\n",
            "Requirement already satisfied: certifi>=2017.4.17 in /usr/local/lib/python3.7/dist-packages (from requests>=2.19.0->dgl-cu113==0.7.2) (2022.9.24)\n",
            "Requirement already satisfied: idna<3,>=2.5 in /usr/local/lib/python3.7/dist-packages (from requests>=2.19.0->dgl-cu113==0.7.2) (2.10)\n",
            "Requirement already satisfied: chardet<4,>=3.0.2 in /usr/local/lib/python3.7/dist-packages (from requests>=2.19.0->dgl-cu113==0.7.2) (3.0.4)\n"
          ]
        }
      ]
    },
    {
      "cell_type": "code",
      "source": [
        "os.environ['DGLBACKEND'] = 'pytorch'\n",
        "import dgl\n",
        "from dgl import function as fn"
      ],
      "metadata": {
        "id": "XtlC3DSzBM1X"
      },
      "execution_count": 91,
      "outputs": []
    },
    {
      "cell_type": "code",
      "source": [
        "dgl.__version__"
      ],
      "metadata": {
        "colab": {
          "base_uri": "https://localhost:8080/",
          "height": 36
        },
        "id": "lI7WmNtIBO4v",
        "outputId": "1851915d-da53-4d0a-f40d-855b9f56a5ba"
      },
      "execution_count": 92,
      "outputs": [
        {
          "output_type": "execute_result",
          "data": {
            "text/plain": [
              "'0.7.2'"
            ],
            "application/vnd.google.colaboratory.intrinsic+json": {
              "type": "string"
            }
          },
          "metadata": {},
          "execution_count": 92
        }
      ]
    },
    {
      "cell_type": "code",
      "source": [
        "from dgl.dataloading.pytorch import NodeDataLoader\n",
        "device = th.device('cuda' if th.cuda.is_available() else 'cpu')\n",
        "device"
      ],
      "metadata": {
        "colab": {
          "base_uri": "https://localhost:8080/"
        },
        "id": "KdAM2bOfBPlP",
        "outputId": "4f9626bf-8b26-4fea-8816-9a086e701d6c"
      },
      "execution_count": 93,
      "outputs": [
        {
          "output_type": "execute_result",
          "data": {
            "text/plain": [
              "device(type='cpu')"
            ]
          },
          "metadata": {},
          "execution_count": 93
        }
      ]
    },
    {
      "cell_type": "code",
      "source": [
        "import torch\n",
        "import torch.nn as nn\n",
        "from sklearn.linear_model import LogisticRegression\n",
        "from torch.utils.data import DataLoader\n",
        "import argparse\n",
        "\n",
        "from dgl.sampling import node2vec_random_walk"
      ],
      "metadata": {
        "id": "uP4cYiv4BgRa"
      },
      "execution_count": 94,
      "outputs": []
    },
    {
      "cell_type": "code",
      "source": [
        "#importing libraries\n",
        "import numpy as np\n",
        "import pandas as pd\n",
        "import nltk\n",
        "import matplotlib.pyplot as plt\n",
        "import statistics\n",
        "import math\n",
        "import os\n",
        "from sklearn.model_selection import KFold, StratifiedKFold, cross_val_score\n",
        "from sklearn.metrics import confusion_matrix\n",
        "nltk.download('stopwords')\n",
        "nltk.download('punkt')\n",
        "nltk.download('wordnet')\n",
        "nltk.download('omw-1.4')\n",
        "#nltk.download('all')\n",
        "import re\n",
        "pd.set_option('max_colwidth', 800)\n",
        "\n",
        "\n",
        "#importing Libraies\n",
        "import networkx as nx\n",
        "import matplotlib.pyplot as plt\n",
        "from numpy import genfromtxt\n",
        "import collections\n",
        "from collections import OrderedDict\n",
        "\n",
        "import matplotlib.pyplot as plt\n",
        "%matplotlib inline\n",
        "from sklearn.model_selection import train_test_split\n",
        "from sklearn.model_selection import KFold\n",
        "from sklearn.model_selection import cross_val_score\n",
        "from sklearn.tree import DecisionTreeClassifier\n",
        "from sklearn.feature_selection import SelectFromModel\n",
        "from sklearn.svm import SVC\n",
        "from sklearn.preprocessing import StandardScaler,MinMaxScaler\n",
        "from sklearn.linear_model import LinearRegression,LogisticRegression, RidgeClassifier\n",
        "from sklearn.discriminant_analysis import LinearDiscriminantAnalysis, QuadraticDiscriminantAnalysis\n",
        "from sklearn.ensemble import RandomForestClassifier, GradientBoostingClassifier, AdaBoostClassifier\n",
        "from sklearn.preprocessing import LabelEncoder\n",
        "from sklearn.metrics import classification_report,accuracy_score"
      ],
      "metadata": {
        "colab": {
          "base_uri": "https://localhost:8080/"
        },
        "id": "zvMyzp-I1CU6",
        "outputId": "8a2b156c-b62c-4f77-fd55-02bdeb974a87"
      },
      "execution_count": 95,
      "outputs": [
        {
          "output_type": "stream",
          "name": "stderr",
          "text": [
            "[nltk_data] Downloading package stopwords to /root/nltk_data...\n",
            "[nltk_data]   Package stopwords is already up-to-date!\n",
            "[nltk_data] Downloading package punkt to /root/nltk_data...\n",
            "[nltk_data]   Package punkt is already up-to-date!\n",
            "[nltk_data] Downloading package wordnet to /root/nltk_data...\n",
            "[nltk_data]   Package wordnet is already up-to-date!\n",
            "[nltk_data] Downloading package omw-1.4 to /root/nltk_data...\n",
            "[nltk_data]   Package omw-1.4 is already up-to-date!\n"
          ]
        }
      ]
    },
    {
      "cell_type": "code",
      "source": [
        "#loading dataset\n",
        "df=pd.read_csv('/content/category 2.csv')\n",
        "df.head()"
      ],
      "metadata": {
        "colab": {
          "base_uri": "https://localhost:8080/",
          "height": 206
        },
        "id": "56yBSCmN1CSB",
        "outputId": "8b93d8cc-e5d5-4ca0-d1f1-76969ee098c7"
      },
      "execution_count": 96,
      "outputs": [
        {
          "output_type": "execute_result",
          "data": {
            "text/plain": [
              "         category  rating label  \\\n",
              "0  Kindle_Store_5     5.0    CG   \n",
              "1  Kindle_Store_5     5.0    CG   \n",
              "2  Kindle_Store_5     5.0    CG   \n",
              "3  Kindle_Store_5     4.0    CG   \n",
              "4  Kindle_Store_5     5.0    CG   \n",
              "\n",
              "                                                                                                        text_  \n",
              "0                   This book I can't wait for more by this author. I will definitely be reading the next one  \n",
              "1                 Love this series cant wait for more by this author. I will keep my eyes peeled for the next  \n",
              "2  Read the books 2 time reading. The characters are well developed and believable. The story flows smoothly.  \n",
              "3                          very enjoyable. I would recommend this book to anyone. I really enjoyed this book.  \n",
              "4           Great story can't wait for more. The characters are well developed and the story is well written.  "
            ],
            "text/html": [
              "\n",
              "  <div id=\"df-070d628d-6587-4366-b3aa-f797f63ab07b\">\n",
              "    <div class=\"colab-df-container\">\n",
              "      <div>\n",
              "<style scoped>\n",
              "    .dataframe tbody tr th:only-of-type {\n",
              "        vertical-align: middle;\n",
              "    }\n",
              "\n",
              "    .dataframe tbody tr th {\n",
              "        vertical-align: top;\n",
              "    }\n",
              "\n",
              "    .dataframe thead th {\n",
              "        text-align: right;\n",
              "    }\n",
              "</style>\n",
              "<table border=\"1\" class=\"dataframe\">\n",
              "  <thead>\n",
              "    <tr style=\"text-align: right;\">\n",
              "      <th></th>\n",
              "      <th>category</th>\n",
              "      <th>rating</th>\n",
              "      <th>label</th>\n",
              "      <th>text_</th>\n",
              "    </tr>\n",
              "  </thead>\n",
              "  <tbody>\n",
              "    <tr>\n",
              "      <th>0</th>\n",
              "      <td>Kindle_Store_5</td>\n",
              "      <td>5.0</td>\n",
              "      <td>CG</td>\n",
              "      <td>This book I can't wait for more by this author. I will definitely be reading the next one</td>\n",
              "    </tr>\n",
              "    <tr>\n",
              "      <th>1</th>\n",
              "      <td>Kindle_Store_5</td>\n",
              "      <td>5.0</td>\n",
              "      <td>CG</td>\n",
              "      <td>Love this series cant wait for more by this author. I will keep my eyes peeled for the next</td>\n",
              "    </tr>\n",
              "    <tr>\n",
              "      <th>2</th>\n",
              "      <td>Kindle_Store_5</td>\n",
              "      <td>5.0</td>\n",
              "      <td>CG</td>\n",
              "      <td>Read the books 2 time reading. The characters are well developed and believable. The story flows smoothly.</td>\n",
              "    </tr>\n",
              "    <tr>\n",
              "      <th>3</th>\n",
              "      <td>Kindle_Store_5</td>\n",
              "      <td>4.0</td>\n",
              "      <td>CG</td>\n",
              "      <td>very enjoyable. I would recommend this book to anyone. I really enjoyed this book.</td>\n",
              "    </tr>\n",
              "    <tr>\n",
              "      <th>4</th>\n",
              "      <td>Kindle_Store_5</td>\n",
              "      <td>5.0</td>\n",
              "      <td>CG</td>\n",
              "      <td>Great story can't wait for more. The characters are well developed and the story is well written.</td>\n",
              "    </tr>\n",
              "  </tbody>\n",
              "</table>\n",
              "</div>\n",
              "      <button class=\"colab-df-convert\" onclick=\"convertToInteractive('df-070d628d-6587-4366-b3aa-f797f63ab07b')\"\n",
              "              title=\"Convert this dataframe to an interactive table.\"\n",
              "              style=\"display:none;\">\n",
              "        \n",
              "  <svg xmlns=\"http://www.w3.org/2000/svg\" height=\"24px\"viewBox=\"0 0 24 24\"\n",
              "       width=\"24px\">\n",
              "    <path d=\"M0 0h24v24H0V0z\" fill=\"none\"/>\n",
              "    <path d=\"M18.56 5.44l.94 2.06.94-2.06 2.06-.94-2.06-.94-.94-2.06-.94 2.06-2.06.94zm-11 1L8.5 8.5l.94-2.06 2.06-.94-2.06-.94L8.5 2.5l-.94 2.06-2.06.94zm10 10l.94 2.06.94-2.06 2.06-.94-2.06-.94-.94-2.06-.94 2.06-2.06.94z\"/><path d=\"M17.41 7.96l-1.37-1.37c-.4-.4-.92-.59-1.43-.59-.52 0-1.04.2-1.43.59L10.3 9.45l-7.72 7.72c-.78.78-.78 2.05 0 2.83L4 21.41c.39.39.9.59 1.41.59.51 0 1.02-.2 1.41-.59l7.78-7.78 2.81-2.81c.8-.78.8-2.07 0-2.86zM5.41 20L4 18.59l7.72-7.72 1.47 1.35L5.41 20z\"/>\n",
              "  </svg>\n",
              "      </button>\n",
              "      \n",
              "  <style>\n",
              "    .colab-df-container {\n",
              "      display:flex;\n",
              "      flex-wrap:wrap;\n",
              "      gap: 12px;\n",
              "    }\n",
              "\n",
              "    .colab-df-convert {\n",
              "      background-color: #E8F0FE;\n",
              "      border: none;\n",
              "      border-radius: 50%;\n",
              "      cursor: pointer;\n",
              "      display: none;\n",
              "      fill: #1967D2;\n",
              "      height: 32px;\n",
              "      padding: 0 0 0 0;\n",
              "      width: 32px;\n",
              "    }\n",
              "\n",
              "    .colab-df-convert:hover {\n",
              "      background-color: #E2EBFA;\n",
              "      box-shadow: 0px 1px 2px rgba(60, 64, 67, 0.3), 0px 1px 3px 1px rgba(60, 64, 67, 0.15);\n",
              "      fill: #174EA6;\n",
              "    }\n",
              "\n",
              "    [theme=dark] .colab-df-convert {\n",
              "      background-color: #3B4455;\n",
              "      fill: #D2E3FC;\n",
              "    }\n",
              "\n",
              "    [theme=dark] .colab-df-convert:hover {\n",
              "      background-color: #434B5C;\n",
              "      box-shadow: 0px 1px 3px 1px rgba(0, 0, 0, 0.15);\n",
              "      filter: drop-shadow(0px 1px 2px rgba(0, 0, 0, 0.3));\n",
              "      fill: #FFFFFF;\n",
              "    }\n",
              "  </style>\n",
              "\n",
              "      <script>\n",
              "        const buttonEl =\n",
              "          document.querySelector('#df-070d628d-6587-4366-b3aa-f797f63ab07b button.colab-df-convert');\n",
              "        buttonEl.style.display =\n",
              "          google.colab.kernel.accessAllowed ? 'block' : 'none';\n",
              "\n",
              "        async function convertToInteractive(key) {\n",
              "          const element = document.querySelector('#df-070d628d-6587-4366-b3aa-f797f63ab07b');\n",
              "          const dataTable =\n",
              "            await google.colab.kernel.invokeFunction('convertToInteractive',\n",
              "                                                     [key], {});\n",
              "          if (!dataTable) return;\n",
              "\n",
              "          const docLinkHtml = 'Like what you see? Visit the ' +\n",
              "            '<a target=\"_blank\" href=https://colab.research.google.com/notebooks/data_table.ipynb>data table notebook</a>'\n",
              "            + ' to learn more about interactive tables.';\n",
              "          element.innerHTML = '';\n",
              "          dataTable['output_type'] = 'display_data';\n",
              "          await google.colab.output.renderOutput(dataTable, element);\n",
              "          const docLink = document.createElement('div');\n",
              "          docLink.innerHTML = docLinkHtml;\n",
              "          element.appendChild(docLink);\n",
              "        }\n",
              "      </script>\n",
              "    </div>\n",
              "  </div>\n",
              "  "
            ]
          },
          "metadata": {},
          "execution_count": 96
        }
      ]
    },
    {
      "cell_type": "code",
      "source": [
        "#df = df.sample(frac=1, random_state=42).reset_index(drop=True)"
      ],
      "metadata": {
        "id": "ydjQBjajXhta"
      },
      "execution_count": 97,
      "outputs": []
    },
    {
      "cell_type": "code",
      "source": [
        "df.shape"
      ],
      "metadata": {
        "colab": {
          "base_uri": "https://localhost:8080/"
        },
        "id": "fhz_MORRXlrS",
        "outputId": "a93bacd9-ba9c-4e40-c838-939f3fcf1abe"
      },
      "execution_count": 98,
      "outputs": [
        {
          "output_type": "execute_result",
          "data": {
            "text/plain": [
              "(4730, 4)"
            ]
          },
          "metadata": {},
          "execution_count": 98
        }
      ]
    },
    {
      "cell_type": "code",
      "source": [
        "df['label'].value_counts()"
      ],
      "metadata": {
        "colab": {
          "base_uri": "https://localhost:8080/"
        },
        "id": "gIqg1tqk1CL5",
        "outputId": "902a6039-17a1-4262-c482-4e86028a6569"
      },
      "execution_count": 99,
      "outputs": [
        {
          "output_type": "execute_result",
          "data": {
            "text/plain": [
              "CG    2365\n",
              "OR    2365\n",
              "Name: label, dtype: int64"
            ]
          },
          "metadata": {},
          "execution_count": 99
        }
      ]
    },
    {
      "cell_type": "code",
      "source": [
        "# dropping unnecessary columns. \n",
        "df.drop(['category', 'rating'], axis = 1, inplace=True)\n",
        "df.head()"
      ],
      "metadata": {
        "colab": {
          "base_uri": "https://localhost:8080/",
          "height": 206
        },
        "id": "PCAf1wlZ1CI5",
        "outputId": "8fc6907f-91d2-414e-c327-d6cb92f7d617"
      },
      "execution_count": 100,
      "outputs": [
        {
          "output_type": "execute_result",
          "data": {
            "text/plain": [
              "  label  \\\n",
              "0    CG   \n",
              "1    CG   \n",
              "2    CG   \n",
              "3    CG   \n",
              "4    CG   \n",
              "\n",
              "                                                                                                        text_  \n",
              "0                   This book I can't wait for more by this author. I will definitely be reading the next one  \n",
              "1                 Love this series cant wait for more by this author. I will keep my eyes peeled for the next  \n",
              "2  Read the books 2 time reading. The characters are well developed and believable. The story flows smoothly.  \n",
              "3                          very enjoyable. I would recommend this book to anyone. I really enjoyed this book.  \n",
              "4           Great story can't wait for more. The characters are well developed and the story is well written.  "
            ],
            "text/html": [
              "\n",
              "  <div id=\"df-6434b76d-3a25-4ddc-98c4-e6b430528819\">\n",
              "    <div class=\"colab-df-container\">\n",
              "      <div>\n",
              "<style scoped>\n",
              "    .dataframe tbody tr th:only-of-type {\n",
              "        vertical-align: middle;\n",
              "    }\n",
              "\n",
              "    .dataframe tbody tr th {\n",
              "        vertical-align: top;\n",
              "    }\n",
              "\n",
              "    .dataframe thead th {\n",
              "        text-align: right;\n",
              "    }\n",
              "</style>\n",
              "<table border=\"1\" class=\"dataframe\">\n",
              "  <thead>\n",
              "    <tr style=\"text-align: right;\">\n",
              "      <th></th>\n",
              "      <th>label</th>\n",
              "      <th>text_</th>\n",
              "    </tr>\n",
              "  </thead>\n",
              "  <tbody>\n",
              "    <tr>\n",
              "      <th>0</th>\n",
              "      <td>CG</td>\n",
              "      <td>This book I can't wait for more by this author. I will definitely be reading the next one</td>\n",
              "    </tr>\n",
              "    <tr>\n",
              "      <th>1</th>\n",
              "      <td>CG</td>\n",
              "      <td>Love this series cant wait for more by this author. I will keep my eyes peeled for the next</td>\n",
              "    </tr>\n",
              "    <tr>\n",
              "      <th>2</th>\n",
              "      <td>CG</td>\n",
              "      <td>Read the books 2 time reading. The characters are well developed and believable. The story flows smoothly.</td>\n",
              "    </tr>\n",
              "    <tr>\n",
              "      <th>3</th>\n",
              "      <td>CG</td>\n",
              "      <td>very enjoyable. I would recommend this book to anyone. I really enjoyed this book.</td>\n",
              "    </tr>\n",
              "    <tr>\n",
              "      <th>4</th>\n",
              "      <td>CG</td>\n",
              "      <td>Great story can't wait for more. The characters are well developed and the story is well written.</td>\n",
              "    </tr>\n",
              "  </tbody>\n",
              "</table>\n",
              "</div>\n",
              "      <button class=\"colab-df-convert\" onclick=\"convertToInteractive('df-6434b76d-3a25-4ddc-98c4-e6b430528819')\"\n",
              "              title=\"Convert this dataframe to an interactive table.\"\n",
              "              style=\"display:none;\">\n",
              "        \n",
              "  <svg xmlns=\"http://www.w3.org/2000/svg\" height=\"24px\"viewBox=\"0 0 24 24\"\n",
              "       width=\"24px\">\n",
              "    <path d=\"M0 0h24v24H0V0z\" fill=\"none\"/>\n",
              "    <path d=\"M18.56 5.44l.94 2.06.94-2.06 2.06-.94-2.06-.94-.94-2.06-.94 2.06-2.06.94zm-11 1L8.5 8.5l.94-2.06 2.06-.94-2.06-.94L8.5 2.5l-.94 2.06-2.06.94zm10 10l.94 2.06.94-2.06 2.06-.94-2.06-.94-.94-2.06-.94 2.06-2.06.94z\"/><path d=\"M17.41 7.96l-1.37-1.37c-.4-.4-.92-.59-1.43-.59-.52 0-1.04.2-1.43.59L10.3 9.45l-7.72 7.72c-.78.78-.78 2.05 0 2.83L4 21.41c.39.39.9.59 1.41.59.51 0 1.02-.2 1.41-.59l7.78-7.78 2.81-2.81c.8-.78.8-2.07 0-2.86zM5.41 20L4 18.59l7.72-7.72 1.47 1.35L5.41 20z\"/>\n",
              "  </svg>\n",
              "      </button>\n",
              "      \n",
              "  <style>\n",
              "    .colab-df-container {\n",
              "      display:flex;\n",
              "      flex-wrap:wrap;\n",
              "      gap: 12px;\n",
              "    }\n",
              "\n",
              "    .colab-df-convert {\n",
              "      background-color: #E8F0FE;\n",
              "      border: none;\n",
              "      border-radius: 50%;\n",
              "      cursor: pointer;\n",
              "      display: none;\n",
              "      fill: #1967D2;\n",
              "      height: 32px;\n",
              "      padding: 0 0 0 0;\n",
              "      width: 32px;\n",
              "    }\n",
              "\n",
              "    .colab-df-convert:hover {\n",
              "      background-color: #E2EBFA;\n",
              "      box-shadow: 0px 1px 2px rgba(60, 64, 67, 0.3), 0px 1px 3px 1px rgba(60, 64, 67, 0.15);\n",
              "      fill: #174EA6;\n",
              "    }\n",
              "\n",
              "    [theme=dark] .colab-df-convert {\n",
              "      background-color: #3B4455;\n",
              "      fill: #D2E3FC;\n",
              "    }\n",
              "\n",
              "    [theme=dark] .colab-df-convert:hover {\n",
              "      background-color: #434B5C;\n",
              "      box-shadow: 0px 1px 3px 1px rgba(0, 0, 0, 0.15);\n",
              "      filter: drop-shadow(0px 1px 2px rgba(0, 0, 0, 0.3));\n",
              "      fill: #FFFFFF;\n",
              "    }\n",
              "  </style>\n",
              "\n",
              "      <script>\n",
              "        const buttonEl =\n",
              "          document.querySelector('#df-6434b76d-3a25-4ddc-98c4-e6b430528819 button.colab-df-convert');\n",
              "        buttonEl.style.display =\n",
              "          google.colab.kernel.accessAllowed ? 'block' : 'none';\n",
              "\n",
              "        async function convertToInteractive(key) {\n",
              "          const element = document.querySelector('#df-6434b76d-3a25-4ddc-98c4-e6b430528819');\n",
              "          const dataTable =\n",
              "            await google.colab.kernel.invokeFunction('convertToInteractive',\n",
              "                                                     [key], {});\n",
              "          if (!dataTable) return;\n",
              "\n",
              "          const docLinkHtml = 'Like what you see? Visit the ' +\n",
              "            '<a target=\"_blank\" href=https://colab.research.google.com/notebooks/data_table.ipynb>data table notebook</a>'\n",
              "            + ' to learn more about interactive tables.';\n",
              "          element.innerHTML = '';\n",
              "          dataTable['output_type'] = 'display_data';\n",
              "          await google.colab.output.renderOutput(dataTable, element);\n",
              "          const docLink = document.createElement('div');\n",
              "          docLink.innerHTML = docLinkHtml;\n",
              "          element.appendChild(docLink);\n",
              "        }\n",
              "      </script>\n",
              "    </div>\n",
              "  </div>\n",
              "  "
            ]
          },
          "metadata": {},
          "execution_count": 100
        }
      ]
    },
    {
      "cell_type": "code",
      "source": [
        "z = {'OR' : 1, 'CG' : 0}  # 1 for original reviews and 0 for computer generated reviews\n",
        "df['label'] = df['label'].map(z)"
      ],
      "metadata": {
        "id": "B0h624FFRCAf"
      },
      "execution_count": 101,
      "outputs": []
    },
    {
      "cell_type": "code",
      "source": [
        "# Cleaning Raw tweets\n",
        "def clean_text(text):\n",
        "    \n",
        "    #remove emails\n",
        "    text = ' '.join([i for i in text.split() if '@' not in i])\n",
        "    \n",
        "    #remove web address\n",
        "    text = re.sub('http[s]?://\\S+', '', text)\n",
        "\n",
        "    #remove brackets and parantheses (and removing the text inside the brackets and parantheses)\n",
        "    text = re.sub(\"[\\(\\[].*?[\\)\\]]\", \"\", text)\n",
        "\n",
        "    #remove punctuations\n",
        "    text = re.sub(r'[^\\w\\s]', ' ', text)\n",
        "    \n",
        "    #Filter to allow only alphabets and numbers\n",
        "    text = re.sub(r'[^a-zA-Z\\']', ' ', text)\n",
        "    \n",
        "    #Remove Unicode characters\n",
        "    text = re.sub(r'[^\\x00-\\x7F]+', '', text)\n",
        "\n",
        "    #remove double spaces \n",
        "    text = re.sub('\\s+', ' ', text)\n",
        "    \n",
        "    return text"
      ],
      "metadata": {
        "id": "iFvbHYi_1CFx"
      },
      "execution_count": 102,
      "outputs": []
    },
    {
      "cell_type": "code",
      "source": [
        "# applying that into function.\n",
        "df[\"clean_text\"] = df['text_'].apply(lambda x: clean_text(x))\n",
        "df.head(10)"
      ],
      "metadata": {
        "colab": {
          "base_uri": "https://localhost:8080/",
          "height": 424
        },
        "id": "v6Mp22wd1CCr",
        "outputId": "1a3fcdcc-cbbe-4264-9c16-90fd6c5c61ec"
      },
      "execution_count": 103,
      "outputs": [
        {
          "output_type": "execute_result",
          "data": {
            "text/plain": [
              "   label  \\\n",
              "0      0   \n",
              "1      0   \n",
              "2      0   \n",
              "3      0   \n",
              "4      0   \n",
              "5      0   \n",
              "6      0   \n",
              "7      0   \n",
              "8      0   \n",
              "9      0   \n",
              "\n",
              "                                                                                                        text_  \\\n",
              "0                   This book I can't wait for more by this author. I will definitely be reading the next one   \n",
              "1                 Love this series cant wait for more by this author. I will keep my eyes peeled for the next   \n",
              "2  Read the books 2 time reading. The characters are well developed and believable. The story flows smoothly.   \n",
              "3                          very enjoyable. I would recommend this book to anyone. I really enjoyed this book.   \n",
              "4           Great story can't wait for more. The characters are well developed and the story is well written.   \n",
              "5                         This was a very good book. The characters were well developed and kept my interest.   \n",
              "6                          Fun reading - lots of action and suspense.  Not too much sex, just a little bit of   \n",
              "7                     Absolutely love Cage! This series is an amazing story and you will not be disappointed.   \n",
              "8                        Elle Casey Thank You for reading this book. It is a great book for a beginner to the   \n",
              "9                              Great for all thos ebeta readers. The story is a good read. If you are looking   \n",
              "\n",
              "                                                                                               clean_text  \n",
              "0                This book I can t wait for more by this author I will definitely be reading the next one  \n",
              "1              Love this series cant wait for more by this author I will keep my eyes peeled for the next  \n",
              "2  Read the books time reading The characters are well developed and believable The story flows smoothly   \n",
              "3                        very enjoyable I would recommend this book to anyone I really enjoyed this book   \n",
              "4        Great story can t wait for more The characters are well developed and the story is well written   \n",
              "5                      This was a very good book The characters were well developed and kept my interest   \n",
              "6                           Fun reading lots of action and suspense Not too much sex just a little bit of  \n",
              "7                  Absolutely love Cage This series is an amazing story and you will not be disappointed   \n",
              "8                     Elle Casey Thank You for reading this book It is a great book for a beginner to the  \n",
              "9                            Great for all thos ebeta readers The story is a good read If you are looking  "
            ],
            "text/html": [
              "\n",
              "  <div id=\"df-121170a8-00bf-43be-bd9b-72c17e90056a\">\n",
              "    <div class=\"colab-df-container\">\n",
              "      <div>\n",
              "<style scoped>\n",
              "    .dataframe tbody tr th:only-of-type {\n",
              "        vertical-align: middle;\n",
              "    }\n",
              "\n",
              "    .dataframe tbody tr th {\n",
              "        vertical-align: top;\n",
              "    }\n",
              "\n",
              "    .dataframe thead th {\n",
              "        text-align: right;\n",
              "    }\n",
              "</style>\n",
              "<table border=\"1\" class=\"dataframe\">\n",
              "  <thead>\n",
              "    <tr style=\"text-align: right;\">\n",
              "      <th></th>\n",
              "      <th>label</th>\n",
              "      <th>text_</th>\n",
              "      <th>clean_text</th>\n",
              "    </tr>\n",
              "  </thead>\n",
              "  <tbody>\n",
              "    <tr>\n",
              "      <th>0</th>\n",
              "      <td>0</td>\n",
              "      <td>This book I can't wait for more by this author. I will definitely be reading the next one</td>\n",
              "      <td>This book I can t wait for more by this author I will definitely be reading the next one</td>\n",
              "    </tr>\n",
              "    <tr>\n",
              "      <th>1</th>\n",
              "      <td>0</td>\n",
              "      <td>Love this series cant wait for more by this author. I will keep my eyes peeled for the next</td>\n",
              "      <td>Love this series cant wait for more by this author I will keep my eyes peeled for the next</td>\n",
              "    </tr>\n",
              "    <tr>\n",
              "      <th>2</th>\n",
              "      <td>0</td>\n",
              "      <td>Read the books 2 time reading. The characters are well developed and believable. The story flows smoothly.</td>\n",
              "      <td>Read the books time reading The characters are well developed and believable The story flows smoothly</td>\n",
              "    </tr>\n",
              "    <tr>\n",
              "      <th>3</th>\n",
              "      <td>0</td>\n",
              "      <td>very enjoyable. I would recommend this book to anyone. I really enjoyed this book.</td>\n",
              "      <td>very enjoyable I would recommend this book to anyone I really enjoyed this book</td>\n",
              "    </tr>\n",
              "    <tr>\n",
              "      <th>4</th>\n",
              "      <td>0</td>\n",
              "      <td>Great story can't wait for more. The characters are well developed and the story is well written.</td>\n",
              "      <td>Great story can t wait for more The characters are well developed and the story is well written</td>\n",
              "    </tr>\n",
              "    <tr>\n",
              "      <th>5</th>\n",
              "      <td>0</td>\n",
              "      <td>This was a very good book. The characters were well developed and kept my interest.</td>\n",
              "      <td>This was a very good book The characters were well developed and kept my interest</td>\n",
              "    </tr>\n",
              "    <tr>\n",
              "      <th>6</th>\n",
              "      <td>0</td>\n",
              "      <td>Fun reading - lots of action and suspense.  Not too much sex, just a little bit of</td>\n",
              "      <td>Fun reading lots of action and suspense Not too much sex just a little bit of</td>\n",
              "    </tr>\n",
              "    <tr>\n",
              "      <th>7</th>\n",
              "      <td>0</td>\n",
              "      <td>Absolutely love Cage! This series is an amazing story and you will not be disappointed.</td>\n",
              "      <td>Absolutely love Cage This series is an amazing story and you will not be disappointed</td>\n",
              "    </tr>\n",
              "    <tr>\n",
              "      <th>8</th>\n",
              "      <td>0</td>\n",
              "      <td>Elle Casey Thank You for reading this book. It is a great book for a beginner to the</td>\n",
              "      <td>Elle Casey Thank You for reading this book It is a great book for a beginner to the</td>\n",
              "    </tr>\n",
              "    <tr>\n",
              "      <th>9</th>\n",
              "      <td>0</td>\n",
              "      <td>Great for all thos ebeta readers. The story is a good read. If you are looking</td>\n",
              "      <td>Great for all thos ebeta readers The story is a good read If you are looking</td>\n",
              "    </tr>\n",
              "  </tbody>\n",
              "</table>\n",
              "</div>\n",
              "      <button class=\"colab-df-convert\" onclick=\"convertToInteractive('df-121170a8-00bf-43be-bd9b-72c17e90056a')\"\n",
              "              title=\"Convert this dataframe to an interactive table.\"\n",
              "              style=\"display:none;\">\n",
              "        \n",
              "  <svg xmlns=\"http://www.w3.org/2000/svg\" height=\"24px\"viewBox=\"0 0 24 24\"\n",
              "       width=\"24px\">\n",
              "    <path d=\"M0 0h24v24H0V0z\" fill=\"none\"/>\n",
              "    <path d=\"M18.56 5.44l.94 2.06.94-2.06 2.06-.94-2.06-.94-.94-2.06-.94 2.06-2.06.94zm-11 1L8.5 8.5l.94-2.06 2.06-.94-2.06-.94L8.5 2.5l-.94 2.06-2.06.94zm10 10l.94 2.06.94-2.06 2.06-.94-2.06-.94-.94-2.06-.94 2.06-2.06.94z\"/><path d=\"M17.41 7.96l-1.37-1.37c-.4-.4-.92-.59-1.43-.59-.52 0-1.04.2-1.43.59L10.3 9.45l-7.72 7.72c-.78.78-.78 2.05 0 2.83L4 21.41c.39.39.9.59 1.41.59.51 0 1.02-.2 1.41-.59l7.78-7.78 2.81-2.81c.8-.78.8-2.07 0-2.86zM5.41 20L4 18.59l7.72-7.72 1.47 1.35L5.41 20z\"/>\n",
              "  </svg>\n",
              "      </button>\n",
              "      \n",
              "  <style>\n",
              "    .colab-df-container {\n",
              "      display:flex;\n",
              "      flex-wrap:wrap;\n",
              "      gap: 12px;\n",
              "    }\n",
              "\n",
              "    .colab-df-convert {\n",
              "      background-color: #E8F0FE;\n",
              "      border: none;\n",
              "      border-radius: 50%;\n",
              "      cursor: pointer;\n",
              "      display: none;\n",
              "      fill: #1967D2;\n",
              "      height: 32px;\n",
              "      padding: 0 0 0 0;\n",
              "      width: 32px;\n",
              "    }\n",
              "\n",
              "    .colab-df-convert:hover {\n",
              "      background-color: #E2EBFA;\n",
              "      box-shadow: 0px 1px 2px rgba(60, 64, 67, 0.3), 0px 1px 3px 1px rgba(60, 64, 67, 0.15);\n",
              "      fill: #174EA6;\n",
              "    }\n",
              "\n",
              "    [theme=dark] .colab-df-convert {\n",
              "      background-color: #3B4455;\n",
              "      fill: #D2E3FC;\n",
              "    }\n",
              "\n",
              "    [theme=dark] .colab-df-convert:hover {\n",
              "      background-color: #434B5C;\n",
              "      box-shadow: 0px 1px 3px 1px rgba(0, 0, 0, 0.15);\n",
              "      filter: drop-shadow(0px 1px 2px rgba(0, 0, 0, 0.3));\n",
              "      fill: #FFFFFF;\n",
              "    }\n",
              "  </style>\n",
              "\n",
              "      <script>\n",
              "        const buttonEl =\n",
              "          document.querySelector('#df-121170a8-00bf-43be-bd9b-72c17e90056a button.colab-df-convert');\n",
              "        buttonEl.style.display =\n",
              "          google.colab.kernel.accessAllowed ? 'block' : 'none';\n",
              "\n",
              "        async function convertToInteractive(key) {\n",
              "          const element = document.querySelector('#df-121170a8-00bf-43be-bd9b-72c17e90056a');\n",
              "          const dataTable =\n",
              "            await google.colab.kernel.invokeFunction('convertToInteractive',\n",
              "                                                     [key], {});\n",
              "          if (!dataTable) return;\n",
              "\n",
              "          const docLinkHtml = 'Like what you see? Visit the ' +\n",
              "            '<a target=\"_blank\" href=https://colab.research.google.com/notebooks/data_table.ipynb>data table notebook</a>'\n",
              "            + ' to learn more about interactive tables.';\n",
              "          element.innerHTML = '';\n",
              "          dataTable['output_type'] = 'display_data';\n",
              "          await google.colab.output.renderOutput(dataTable, element);\n",
              "          const docLink = document.createElement('div');\n",
              "          docLink.innerHTML = docLinkHtml;\n",
              "          element.appendChild(docLink);\n",
              "        }\n",
              "      </script>\n",
              "    </div>\n",
              "  </div>\n",
              "  "
            ]
          },
          "metadata": {},
          "execution_count": 103
        }
      ]
    },
    {
      "cell_type": "code",
      "source": [
        "# dropping the uncleaned text column \"text\"\n",
        "df = df.drop(['text_'], axis=1)"
      ],
      "metadata": {
        "id": "8Z23FwIO1B_Z"
      },
      "execution_count": 104,
      "outputs": []
    },
    {
      "cell_type": "code",
      "source": [
        "# renaming the column\n",
        "df.rename(columns = {'clean_text':'text', 'label': 'Class'}, inplace = True)\n",
        "df.head()"
      ],
      "metadata": {
        "colab": {
          "base_uri": "https://localhost:8080/",
          "height": 206
        },
        "id": "PA6IV9PC1B8B",
        "outputId": "50400ab8-d219-491d-8828-38fe11dd77a9"
      },
      "execution_count": 105,
      "outputs": [
        {
          "output_type": "execute_result",
          "data": {
            "text/plain": [
              "   Class  \\\n",
              "0      0   \n",
              "1      0   \n",
              "2      0   \n",
              "3      0   \n",
              "4      0   \n",
              "\n",
              "                                                                                                     text  \n",
              "0                This book I can t wait for more by this author I will definitely be reading the next one  \n",
              "1              Love this series cant wait for more by this author I will keep my eyes peeled for the next  \n",
              "2  Read the books time reading The characters are well developed and believable The story flows smoothly   \n",
              "3                        very enjoyable I would recommend this book to anyone I really enjoyed this book   \n",
              "4        Great story can t wait for more The characters are well developed and the story is well written   "
            ],
            "text/html": [
              "\n",
              "  <div id=\"df-1bcf17af-9633-4b2a-a2b6-95d0d66c61b9\">\n",
              "    <div class=\"colab-df-container\">\n",
              "      <div>\n",
              "<style scoped>\n",
              "    .dataframe tbody tr th:only-of-type {\n",
              "        vertical-align: middle;\n",
              "    }\n",
              "\n",
              "    .dataframe tbody tr th {\n",
              "        vertical-align: top;\n",
              "    }\n",
              "\n",
              "    .dataframe thead th {\n",
              "        text-align: right;\n",
              "    }\n",
              "</style>\n",
              "<table border=\"1\" class=\"dataframe\">\n",
              "  <thead>\n",
              "    <tr style=\"text-align: right;\">\n",
              "      <th></th>\n",
              "      <th>Class</th>\n",
              "      <th>text</th>\n",
              "    </tr>\n",
              "  </thead>\n",
              "  <tbody>\n",
              "    <tr>\n",
              "      <th>0</th>\n",
              "      <td>0</td>\n",
              "      <td>This book I can t wait for more by this author I will definitely be reading the next one</td>\n",
              "    </tr>\n",
              "    <tr>\n",
              "      <th>1</th>\n",
              "      <td>0</td>\n",
              "      <td>Love this series cant wait for more by this author I will keep my eyes peeled for the next</td>\n",
              "    </tr>\n",
              "    <tr>\n",
              "      <th>2</th>\n",
              "      <td>0</td>\n",
              "      <td>Read the books time reading The characters are well developed and believable The story flows smoothly</td>\n",
              "    </tr>\n",
              "    <tr>\n",
              "      <th>3</th>\n",
              "      <td>0</td>\n",
              "      <td>very enjoyable I would recommend this book to anyone I really enjoyed this book</td>\n",
              "    </tr>\n",
              "    <tr>\n",
              "      <th>4</th>\n",
              "      <td>0</td>\n",
              "      <td>Great story can t wait for more The characters are well developed and the story is well written</td>\n",
              "    </tr>\n",
              "  </tbody>\n",
              "</table>\n",
              "</div>\n",
              "      <button class=\"colab-df-convert\" onclick=\"convertToInteractive('df-1bcf17af-9633-4b2a-a2b6-95d0d66c61b9')\"\n",
              "              title=\"Convert this dataframe to an interactive table.\"\n",
              "              style=\"display:none;\">\n",
              "        \n",
              "  <svg xmlns=\"http://www.w3.org/2000/svg\" height=\"24px\"viewBox=\"0 0 24 24\"\n",
              "       width=\"24px\">\n",
              "    <path d=\"M0 0h24v24H0V0z\" fill=\"none\"/>\n",
              "    <path d=\"M18.56 5.44l.94 2.06.94-2.06 2.06-.94-2.06-.94-.94-2.06-.94 2.06-2.06.94zm-11 1L8.5 8.5l.94-2.06 2.06-.94-2.06-.94L8.5 2.5l-.94 2.06-2.06.94zm10 10l.94 2.06.94-2.06 2.06-.94-2.06-.94-.94-2.06-.94 2.06-2.06.94z\"/><path d=\"M17.41 7.96l-1.37-1.37c-.4-.4-.92-.59-1.43-.59-.52 0-1.04.2-1.43.59L10.3 9.45l-7.72 7.72c-.78.78-.78 2.05 0 2.83L4 21.41c.39.39.9.59 1.41.59.51 0 1.02-.2 1.41-.59l7.78-7.78 2.81-2.81c.8-.78.8-2.07 0-2.86zM5.41 20L4 18.59l7.72-7.72 1.47 1.35L5.41 20z\"/>\n",
              "  </svg>\n",
              "      </button>\n",
              "      \n",
              "  <style>\n",
              "    .colab-df-container {\n",
              "      display:flex;\n",
              "      flex-wrap:wrap;\n",
              "      gap: 12px;\n",
              "    }\n",
              "\n",
              "    .colab-df-convert {\n",
              "      background-color: #E8F0FE;\n",
              "      border: none;\n",
              "      border-radius: 50%;\n",
              "      cursor: pointer;\n",
              "      display: none;\n",
              "      fill: #1967D2;\n",
              "      height: 32px;\n",
              "      padding: 0 0 0 0;\n",
              "      width: 32px;\n",
              "    }\n",
              "\n",
              "    .colab-df-convert:hover {\n",
              "      background-color: #E2EBFA;\n",
              "      box-shadow: 0px 1px 2px rgba(60, 64, 67, 0.3), 0px 1px 3px 1px rgba(60, 64, 67, 0.15);\n",
              "      fill: #174EA6;\n",
              "    }\n",
              "\n",
              "    [theme=dark] .colab-df-convert {\n",
              "      background-color: #3B4455;\n",
              "      fill: #D2E3FC;\n",
              "    }\n",
              "\n",
              "    [theme=dark] .colab-df-convert:hover {\n",
              "      background-color: #434B5C;\n",
              "      box-shadow: 0px 1px 3px 1px rgba(0, 0, 0, 0.15);\n",
              "      filter: drop-shadow(0px 1px 2px rgba(0, 0, 0, 0.3));\n",
              "      fill: #FFFFFF;\n",
              "    }\n",
              "  </style>\n",
              "\n",
              "      <script>\n",
              "        const buttonEl =\n",
              "          document.querySelector('#df-1bcf17af-9633-4b2a-a2b6-95d0d66c61b9 button.colab-df-convert');\n",
              "        buttonEl.style.display =\n",
              "          google.colab.kernel.accessAllowed ? 'block' : 'none';\n",
              "\n",
              "        async function convertToInteractive(key) {\n",
              "          const element = document.querySelector('#df-1bcf17af-9633-4b2a-a2b6-95d0d66c61b9');\n",
              "          const dataTable =\n",
              "            await google.colab.kernel.invokeFunction('convertToInteractive',\n",
              "                                                     [key], {});\n",
              "          if (!dataTable) return;\n",
              "\n",
              "          const docLinkHtml = 'Like what you see? Visit the ' +\n",
              "            '<a target=\"_blank\" href=https://colab.research.google.com/notebooks/data_table.ipynb>data table notebook</a>'\n",
              "            + ' to learn more about interactive tables.';\n",
              "          element.innerHTML = '';\n",
              "          dataTable['output_type'] = 'display_data';\n",
              "          await google.colab.output.renderOutput(dataTable, element);\n",
              "          const docLink = document.createElement('div');\n",
              "          docLink.innerHTML = docLinkHtml;\n",
              "          element.appendChild(docLink);\n",
              "        }\n",
              "      </script>\n",
              "    </div>\n",
              "  </div>\n",
              "  "
            ]
          },
          "metadata": {},
          "execution_count": 105
        }
      ]
    },
    {
      "cell_type": "code",
      "source": [
        "import spacy\n",
        "#loading the english language small model of spacy\n",
        "en = spacy.load('en_core_web_sm')\n",
        "sw_spacy = en.Defaults.stop_words\n",
        "print(sw_spacy)"
      ],
      "metadata": {
        "colab": {
          "base_uri": "https://localhost:8080/"
        },
        "id": "TS03aaDy1B4p",
        "outputId": "eb2f62de-ca10-4ed4-9e32-e7244ca69c62"
      },
      "execution_count": 106,
      "outputs": [
        {
          "output_type": "stream",
          "name": "stdout",
          "text": [
            "{'’m', '‘d', 'why', 'off', 'this', 'one', 'enough', 'these', 'could', 'fifteen', 'yourself', 'ten', 'move', 'whom', 'seems', 'mostly', 'almost', 'when', 'its', 'rather', 'before', 'wherein', 'or', 'somewhere', 'therein', 'twenty', 'me', '’d', 'except', 'were', 'either', 'anyhow', 'most', 'whence', 'moreover', 'she', 'everywhere', 'her', 'throughout', 'alone', 'latterly', 'six', 'sometime', 'against', 'hers', 'top', 'after', 'as', 'above', 'besides', 'put', 'seemed', 'via', 'side', \"n't\", 'your', 'without', 'whatever', 'whose', 'ca', 'yours', '‘s', 'very', 'regarding', 'already', 'whither', 'is', 'wherever', 'fifty', 'others', 'more', 'behind', 'thru', 'was', 'now', 'where', 'few', 'along', 'once', 'thence', 'forty', 'he', 'whereby', '’s', '‘ve', 'it', 'three', 'and', 'get', 'would', 'both', 'own', 'hereupon', 'herself', 'made', 'us', 'else', 'if', 'around', 'seeming', 'used', '’ve', 'even', 'myself', 'n’t', 'an', 'otherwise', 'the', 'then', 'upon', 'something', 'than', 'least', 'only', 'yet', 'anyway', 'our', 'formerly', 'neither', 'whoever', 'itself', 'nowhere', 'thereby', 'towards', 'whole', 'former', 'thereafter', 'per', 'from', 'two', \"'re\", '‘re', 'am', 'however', 'them', 'across', 'to', 'all', 'have', 'give', 'really', 'with', 'while', 'back', 'indeed', \"'ll\", 'for', 'four', 'they', 'until', 'keep', 'together', 'since', 'over', 'several', 'cannot', '‘ll', 'of', 'what', 'five', 'yourselves', 'became', 'may', 'into', 'within', 'being', 'sixty', 'we', 'though', \"'d\", 'show', 'never', 'beside', 'thereupon', 'ourselves', \"'s\", 'him', 'you', 'among', 'anything', 'no', \"'ve\", 'noone', 'but', 'whereupon', 'anywhere', 'under', 'someone', 'must', 'that', 'becoming', 'say', 'eleven', '’ll', 'often', 'next', 'those', 'hereby', 'well', 'part', 'each', 'elsewhere', 'many', 'becomes', 'twelve', 'up', 'eight', 'due', 'by', 'below', 'become', 'everyone', 'i', 'make', 'perhaps', 'some', 'might', 'does', 'did', 'also', 'again', 'do', 'will', 'go', 'amongst', '’re', 're', 'anyone', 'unless', 'whether', 'hence', 'whereas', 'whenever', 'every', 'thus', 'sometimes', 'be', 'various', 'because', 'nine', 'themselves', 'see', 'another', 'amount', 'between', 'same', 'other', 'whereafter', '‘m', 'just', 'how', 'through', 'somehow', 'during', 'none', 'doing', 'first', 'seem', 'his', 'has', 'can', 'here', 'a', 'who', 'front', 'onto', 'nobody', 'should', 'nevertheless', 'hundred', 'last', 'about', 'less', 'too', 'ours', 'n‘t', 'at', 'ever', 'still', 'meanwhile', 'take', 'always', 'bottom', 'in', 'therefore', 'not', 'nothing', 'my', 'herein', 'although', 'toward', 'which', 'mine', 'out', 'beforehand', 'namely', 'so', 'had', 'quite', 'been', 'are', 'down', 'there', 'name', 'empty', 'afterwards', \"'m\", 'call', 'nor', 'latter', 'third', 'done', 'further', 'their', 'any', 'full', 'on', 'using', 'much', 'beyond', 'everything', 'himself', 'such', 'serious', 'please', 'hereafter'}\n"
          ]
        }
      ]
    },
    {
      "cell_type": "code",
      "source": [
        "import nltk\n",
        "from nltk.corpus import stopwords\n",
        "sw_nltk = stopwords.words('english')\n",
        "print(sw_nltk)"
      ],
      "metadata": {
        "colab": {
          "base_uri": "https://localhost:8080/"
        },
        "id": "HQ43oOMR1B1N",
        "outputId": "afb75804-72e5-45aa-a3ed-a0713ce77307"
      },
      "execution_count": 107,
      "outputs": [
        {
          "output_type": "stream",
          "name": "stdout",
          "text": [
            "['i', 'me', 'my', 'myself', 'we', 'our', 'ours', 'ourselves', 'you', \"you're\", \"you've\", \"you'll\", \"you'd\", 'your', 'yours', 'yourself', 'yourselves', 'he', 'him', 'his', 'himself', 'she', \"she's\", 'her', 'hers', 'herself', 'it', \"it's\", 'its', 'itself', 'they', 'them', 'their', 'theirs', 'themselves', 'what', 'which', 'who', 'whom', 'this', 'that', \"that'll\", 'these', 'those', 'am', 'is', 'are', 'was', 'were', 'be', 'been', 'being', 'have', 'has', 'had', 'having', 'do', 'does', 'did', 'doing', 'a', 'an', 'the', 'and', 'but', 'if', 'or', 'because', 'as', 'until', 'while', 'of', 'at', 'by', 'for', 'with', 'about', 'against', 'between', 'into', 'through', 'during', 'before', 'after', 'above', 'below', 'to', 'from', 'up', 'down', 'in', 'out', 'on', 'off', 'over', 'under', 'again', 'further', 'then', 'once', 'here', 'there', 'when', 'where', 'why', 'how', 'all', 'any', 'both', 'each', 'few', 'more', 'most', 'other', 'some', 'such', 'no', 'nor', 'not', 'only', 'own', 'same', 'so', 'than', 'too', 'very', 's', 't', 'can', 'will', 'just', 'don', \"don't\", 'should', \"should've\", 'now', 'd', 'll', 'm', 'o', 're', 've', 'y', 'ain', 'aren', \"aren't\", 'couldn', \"couldn't\", 'didn', \"didn't\", 'doesn', \"doesn't\", 'hadn', \"hadn't\", 'hasn', \"hasn't\", 'haven', \"haven't\", 'isn', \"isn't\", 'ma', 'mightn', \"mightn't\", 'mustn', \"mustn't\", 'needn', \"needn't\", 'shan', \"shan't\", 'shouldn', \"shouldn't\", 'wasn', \"wasn't\", 'weren', \"weren't\", 'won', \"won't\", 'wouldn', \"wouldn't\"]\n"
          ]
        }
      ]
    },
    {
      "cell_type": "code",
      "source": [
        "sw_nltk.extend(['th','stay'])\n",
        "print(len(sw_nltk))"
      ],
      "metadata": {
        "colab": {
          "base_uri": "https://localhost:8080/"
        },
        "id": "OedFNhJ01BxZ",
        "outputId": "0e810f02-fa23-415a-91fb-909c56b7db39"
      },
      "execution_count": 108,
      "outputs": [
        {
          "output_type": "stream",
          "name": "stdout",
          "text": [
            "181\n"
          ]
        }
      ]
    },
    {
      "cell_type": "code",
      "source": [
        "# preprocessing the data (removing stopwords, convert the sentence to lower case, and also applying lemmatization to get meaningful words )\n",
        "from nltk.corpus import stopwords\n",
        "from nltk.stem import WordNetLemmatizer, PorterStemmer\n",
        "#stop_words = set(stopwords.words('english'))\n",
        "ps=PorterStemmer()\n",
        "wnl=WordNetLemmatizer()\n",
        "def clean_lemma(review):\n",
        "    review = review.lower()\n",
        "    review = review.split()\n",
        "    review = [wnl.lemmatize(word) for word in review if word not in sw_nltk]\n",
        "    review = [wnl.lemmatize(word) for word in review if word not in sw_spacy]\n",
        "    review = ' '.join(review)\n",
        "    return review"
      ],
      "metadata": {
        "id": "NllSe3Fh1Bt7"
      },
      "execution_count": 109,
      "outputs": []
    },
    {
      "cell_type": "code",
      "source": [
        "# using lemmatization\n",
        "df['text']=df['text'].apply(clean_lemma)\n",
        "df.head()"
      ],
      "metadata": {
        "colab": {
          "base_uri": "https://localhost:8080/",
          "height": 206
        },
        "id": "JYZt0NMn1Bqx",
        "outputId": "250a1745-df29-483e-ec8a-d6f037d5480e"
      },
      "execution_count": 110,
      "outputs": [
        {
          "output_type": "execute_result",
          "data": {
            "text/plain": [
              "   Class  \\\n",
              "0      0   \n",
              "1      0   \n",
              "2      0   \n",
              "3      0   \n",
              "4      0   \n",
              "\n",
              "                                                                        text  \n",
              "0                                        book wait author definitely reading  \n",
              "1                                    love series cant wait author eye peeled  \n",
              "2  read book time reading character developed believable story flow smoothly  \n",
              "3                                      enjoyable recommend book enjoyed book  \n",
              "4                         great story wait character developed story written  "
            ],
            "text/html": [
              "\n",
              "  <div id=\"df-5c5767f8-e094-45cd-b4e7-220a2fcca970\">\n",
              "    <div class=\"colab-df-container\">\n",
              "      <div>\n",
              "<style scoped>\n",
              "    .dataframe tbody tr th:only-of-type {\n",
              "        vertical-align: middle;\n",
              "    }\n",
              "\n",
              "    .dataframe tbody tr th {\n",
              "        vertical-align: top;\n",
              "    }\n",
              "\n",
              "    .dataframe thead th {\n",
              "        text-align: right;\n",
              "    }\n",
              "</style>\n",
              "<table border=\"1\" class=\"dataframe\">\n",
              "  <thead>\n",
              "    <tr style=\"text-align: right;\">\n",
              "      <th></th>\n",
              "      <th>Class</th>\n",
              "      <th>text</th>\n",
              "    </tr>\n",
              "  </thead>\n",
              "  <tbody>\n",
              "    <tr>\n",
              "      <th>0</th>\n",
              "      <td>0</td>\n",
              "      <td>book wait author definitely reading</td>\n",
              "    </tr>\n",
              "    <tr>\n",
              "      <th>1</th>\n",
              "      <td>0</td>\n",
              "      <td>love series cant wait author eye peeled</td>\n",
              "    </tr>\n",
              "    <tr>\n",
              "      <th>2</th>\n",
              "      <td>0</td>\n",
              "      <td>read book time reading character developed believable story flow smoothly</td>\n",
              "    </tr>\n",
              "    <tr>\n",
              "      <th>3</th>\n",
              "      <td>0</td>\n",
              "      <td>enjoyable recommend book enjoyed book</td>\n",
              "    </tr>\n",
              "    <tr>\n",
              "      <th>4</th>\n",
              "      <td>0</td>\n",
              "      <td>great story wait character developed story written</td>\n",
              "    </tr>\n",
              "  </tbody>\n",
              "</table>\n",
              "</div>\n",
              "      <button class=\"colab-df-convert\" onclick=\"convertToInteractive('df-5c5767f8-e094-45cd-b4e7-220a2fcca970')\"\n",
              "              title=\"Convert this dataframe to an interactive table.\"\n",
              "              style=\"display:none;\">\n",
              "        \n",
              "  <svg xmlns=\"http://www.w3.org/2000/svg\" height=\"24px\"viewBox=\"0 0 24 24\"\n",
              "       width=\"24px\">\n",
              "    <path d=\"M0 0h24v24H0V0z\" fill=\"none\"/>\n",
              "    <path d=\"M18.56 5.44l.94 2.06.94-2.06 2.06-.94-2.06-.94-.94-2.06-.94 2.06-2.06.94zm-11 1L8.5 8.5l.94-2.06 2.06-.94-2.06-.94L8.5 2.5l-.94 2.06-2.06.94zm10 10l.94 2.06.94-2.06 2.06-.94-2.06-.94-.94-2.06-.94 2.06-2.06.94z\"/><path d=\"M17.41 7.96l-1.37-1.37c-.4-.4-.92-.59-1.43-.59-.52 0-1.04.2-1.43.59L10.3 9.45l-7.72 7.72c-.78.78-.78 2.05 0 2.83L4 21.41c.39.39.9.59 1.41.59.51 0 1.02-.2 1.41-.59l7.78-7.78 2.81-2.81c.8-.78.8-2.07 0-2.86zM5.41 20L4 18.59l7.72-7.72 1.47 1.35L5.41 20z\"/>\n",
              "  </svg>\n",
              "      </button>\n",
              "      \n",
              "  <style>\n",
              "    .colab-df-container {\n",
              "      display:flex;\n",
              "      flex-wrap:wrap;\n",
              "      gap: 12px;\n",
              "    }\n",
              "\n",
              "    .colab-df-convert {\n",
              "      background-color: #E8F0FE;\n",
              "      border: none;\n",
              "      border-radius: 50%;\n",
              "      cursor: pointer;\n",
              "      display: none;\n",
              "      fill: #1967D2;\n",
              "      height: 32px;\n",
              "      padding: 0 0 0 0;\n",
              "      width: 32px;\n",
              "    }\n",
              "\n",
              "    .colab-df-convert:hover {\n",
              "      background-color: #E2EBFA;\n",
              "      box-shadow: 0px 1px 2px rgba(60, 64, 67, 0.3), 0px 1px 3px 1px rgba(60, 64, 67, 0.15);\n",
              "      fill: #174EA6;\n",
              "    }\n",
              "\n",
              "    [theme=dark] .colab-df-convert {\n",
              "      background-color: #3B4455;\n",
              "      fill: #D2E3FC;\n",
              "    }\n",
              "\n",
              "    [theme=dark] .colab-df-convert:hover {\n",
              "      background-color: #434B5C;\n",
              "      box-shadow: 0px 1px 3px 1px rgba(0, 0, 0, 0.15);\n",
              "      filter: drop-shadow(0px 1px 2px rgba(0, 0, 0, 0.3));\n",
              "      fill: #FFFFFF;\n",
              "    }\n",
              "  </style>\n",
              "\n",
              "      <script>\n",
              "        const buttonEl =\n",
              "          document.querySelector('#df-5c5767f8-e094-45cd-b4e7-220a2fcca970 button.colab-df-convert');\n",
              "        buttonEl.style.display =\n",
              "          google.colab.kernel.accessAllowed ? 'block' : 'none';\n",
              "\n",
              "        async function convertToInteractive(key) {\n",
              "          const element = document.querySelector('#df-5c5767f8-e094-45cd-b4e7-220a2fcca970');\n",
              "          const dataTable =\n",
              "            await google.colab.kernel.invokeFunction('convertToInteractive',\n",
              "                                                     [key], {});\n",
              "          if (!dataTable) return;\n",
              "\n",
              "          const docLinkHtml = 'Like what you see? Visit the ' +\n",
              "            '<a target=\"_blank\" href=https://colab.research.google.com/notebooks/data_table.ipynb>data table notebook</a>'\n",
              "            + ' to learn more about interactive tables.';\n",
              "          element.innerHTML = '';\n",
              "          dataTable['output_type'] = 'display_data';\n",
              "          await google.colab.output.renderOutput(dataTable, element);\n",
              "          const docLink = document.createElement('div');\n",
              "          docLink.innerHTML = docLinkHtml;\n",
              "          element.appendChild(docLink);\n",
              "        }\n",
              "      </script>\n",
              "    </div>\n",
              "  </div>\n",
              "  "
            ]
          },
          "metadata": {},
          "execution_count": 110
        }
      ]
    },
    {
      "cell_type": "markdown",
      "source": [
        "### FEATURE EXTRACTION"
      ],
      "metadata": {
        "id": "016Fipdd4nou"
      }
    },
    {
      "cell_type": "code",
      "source": [
        "x = df['text']\n",
        "y = df['Class']"
      ],
      "metadata": {
        "id": "dxOXDi2I1Bnh"
      },
      "execution_count": 111,
      "outputs": []
    },
    {
      "cell_type": "code",
      "source": [
        "from sklearn.feature_extraction.text import TfidfVectorizer, CountVectorizer \n",
        "from sklearn.feature_extraction.text import TfidfVectorizer\n",
        "cv=TfidfVectorizer()\n",
        "corpii=cv.fit_transform(x) "
      ],
      "metadata": {
        "id": "SVvh5gy31Bkh"
      },
      "execution_count": 112,
      "outputs": []
    },
    {
      "cell_type": "code",
      "source": [
        "feature_names = cv.get_feature_names()\n",
        "#feature_names"
      ],
      "metadata": {
        "colab": {
          "base_uri": "https://localhost:8080/"
        },
        "id": "y40il7AW1Bhr",
        "outputId": "b17da5ac-6f68-43ad-e9d8-f9d0bc54bf6f"
      },
      "execution_count": 113,
      "outputs": [
        {
          "output_type": "stream",
          "name": "stderr",
          "text": [
            "/usr/local/lib/python3.7/dist-packages/sklearn/utils/deprecation.py:87: FutureWarning: Function get_feature_names is deprecated; get_feature_names is deprecated in 1.0 and will be removed in 1.2. Please use get_feature_names_out instead.\n",
            "  warnings.warn(msg, category=FutureWarning)\n"
          ]
        }
      ]
    },
    {
      "cell_type": "code",
      "source": [
        "len(feature_names)"
      ],
      "metadata": {
        "colab": {
          "base_uri": "https://localhost:8080/"
        },
        "id": "-zsmP-Z61BfD",
        "outputId": "6ac0538e-b24e-4bbd-d256-2357c9ef284c"
      },
      "execution_count": 114,
      "outputs": [
        {
          "output_type": "execute_result",
          "data": {
            "text/plain": [
              "11355"
            ]
          },
          "metadata": {},
          "execution_count": 114
        }
      ]
    },
    {
      "cell_type": "code",
      "source": [
        "u1 = pd.DataFrame(corpii.toarray(), columns=feature_names)\n",
        "u1.head()"
      ],
      "metadata": {
        "colab": {
          "base_uri": "https://localhost:8080/",
          "height": 235
        },
        "id": "WXXwZCVq1BcM",
        "outputId": "0bc91a13-eac7-4432-df08-629cb26a61c4"
      },
      "execution_count": 115,
      "outputs": [
        {
          "output_type": "execute_result",
          "data": {
            "text/plain": [
              "    aa  aack  aaliyah  aaron   ab  abandoned  abandoning  abandonment  abbey  \\\n",
              "0  0.0   0.0      0.0    0.0  0.0        0.0         0.0          0.0    0.0   \n",
              "1  0.0   0.0      0.0    0.0  0.0        0.0         0.0          0.0    0.0   \n",
              "2  0.0   0.0      0.0    0.0  0.0        0.0         0.0          0.0    0.0   \n",
              "3  0.0   0.0      0.0    0.0  0.0        0.0         0.0          0.0    0.0   \n",
              "4  0.0   0.0      0.0    0.0  0.0        0.0         0.0          0.0    0.0   \n",
              "\n",
              "   abbie  ...  zekes  zelda  zenina  zero  zimmerman  zoe  zoey  zombie  zone  \\\n",
              "0    0.0  ...    0.0    0.0     0.0   0.0        0.0  0.0   0.0     0.0   0.0   \n",
              "1    0.0  ...    0.0    0.0     0.0   0.0        0.0  0.0   0.0     0.0   0.0   \n",
              "2    0.0  ...    0.0    0.0     0.0   0.0        0.0  0.0   0.0     0.0   0.0   \n",
              "3    0.0  ...    0.0    0.0     0.0   0.0        0.0  0.0   0.0     0.0   0.0   \n",
              "4    0.0  ...    0.0    0.0     0.0   0.0        0.0  0.0   0.0     0.0   0.0   \n",
              "\n",
              "   zoo  \n",
              "0  0.0  \n",
              "1  0.0  \n",
              "2  0.0  \n",
              "3  0.0  \n",
              "4  0.0  \n",
              "\n",
              "[5 rows x 11355 columns]"
            ],
            "text/html": [
              "\n",
              "  <div id=\"df-32935bfc-8271-45d4-bdce-c40726a0ee81\">\n",
              "    <div class=\"colab-df-container\">\n",
              "      <div>\n",
              "<style scoped>\n",
              "    .dataframe tbody tr th:only-of-type {\n",
              "        vertical-align: middle;\n",
              "    }\n",
              "\n",
              "    .dataframe tbody tr th {\n",
              "        vertical-align: top;\n",
              "    }\n",
              "\n",
              "    .dataframe thead th {\n",
              "        text-align: right;\n",
              "    }\n",
              "</style>\n",
              "<table border=\"1\" class=\"dataframe\">\n",
              "  <thead>\n",
              "    <tr style=\"text-align: right;\">\n",
              "      <th></th>\n",
              "      <th>aa</th>\n",
              "      <th>aack</th>\n",
              "      <th>aaliyah</th>\n",
              "      <th>aaron</th>\n",
              "      <th>ab</th>\n",
              "      <th>abandoned</th>\n",
              "      <th>abandoning</th>\n",
              "      <th>abandonment</th>\n",
              "      <th>abbey</th>\n",
              "      <th>abbie</th>\n",
              "      <th>...</th>\n",
              "      <th>zekes</th>\n",
              "      <th>zelda</th>\n",
              "      <th>zenina</th>\n",
              "      <th>zero</th>\n",
              "      <th>zimmerman</th>\n",
              "      <th>zoe</th>\n",
              "      <th>zoey</th>\n",
              "      <th>zombie</th>\n",
              "      <th>zone</th>\n",
              "      <th>zoo</th>\n",
              "    </tr>\n",
              "  </thead>\n",
              "  <tbody>\n",
              "    <tr>\n",
              "      <th>0</th>\n",
              "      <td>0.0</td>\n",
              "      <td>0.0</td>\n",
              "      <td>0.0</td>\n",
              "      <td>0.0</td>\n",
              "      <td>0.0</td>\n",
              "      <td>0.0</td>\n",
              "      <td>0.0</td>\n",
              "      <td>0.0</td>\n",
              "      <td>0.0</td>\n",
              "      <td>0.0</td>\n",
              "      <td>...</td>\n",
              "      <td>0.0</td>\n",
              "      <td>0.0</td>\n",
              "      <td>0.0</td>\n",
              "      <td>0.0</td>\n",
              "      <td>0.0</td>\n",
              "      <td>0.0</td>\n",
              "      <td>0.0</td>\n",
              "      <td>0.0</td>\n",
              "      <td>0.0</td>\n",
              "      <td>0.0</td>\n",
              "    </tr>\n",
              "    <tr>\n",
              "      <th>1</th>\n",
              "      <td>0.0</td>\n",
              "      <td>0.0</td>\n",
              "      <td>0.0</td>\n",
              "      <td>0.0</td>\n",
              "      <td>0.0</td>\n",
              "      <td>0.0</td>\n",
              "      <td>0.0</td>\n",
              "      <td>0.0</td>\n",
              "      <td>0.0</td>\n",
              "      <td>0.0</td>\n",
              "      <td>...</td>\n",
              "      <td>0.0</td>\n",
              "      <td>0.0</td>\n",
              "      <td>0.0</td>\n",
              "      <td>0.0</td>\n",
              "      <td>0.0</td>\n",
              "      <td>0.0</td>\n",
              "      <td>0.0</td>\n",
              "      <td>0.0</td>\n",
              "      <td>0.0</td>\n",
              "      <td>0.0</td>\n",
              "    </tr>\n",
              "    <tr>\n",
              "      <th>2</th>\n",
              "      <td>0.0</td>\n",
              "      <td>0.0</td>\n",
              "      <td>0.0</td>\n",
              "      <td>0.0</td>\n",
              "      <td>0.0</td>\n",
              "      <td>0.0</td>\n",
              "      <td>0.0</td>\n",
              "      <td>0.0</td>\n",
              "      <td>0.0</td>\n",
              "      <td>0.0</td>\n",
              "      <td>...</td>\n",
              "      <td>0.0</td>\n",
              "      <td>0.0</td>\n",
              "      <td>0.0</td>\n",
              "      <td>0.0</td>\n",
              "      <td>0.0</td>\n",
              "      <td>0.0</td>\n",
              "      <td>0.0</td>\n",
              "      <td>0.0</td>\n",
              "      <td>0.0</td>\n",
              "      <td>0.0</td>\n",
              "    </tr>\n",
              "    <tr>\n",
              "      <th>3</th>\n",
              "      <td>0.0</td>\n",
              "      <td>0.0</td>\n",
              "      <td>0.0</td>\n",
              "      <td>0.0</td>\n",
              "      <td>0.0</td>\n",
              "      <td>0.0</td>\n",
              "      <td>0.0</td>\n",
              "      <td>0.0</td>\n",
              "      <td>0.0</td>\n",
              "      <td>0.0</td>\n",
              "      <td>...</td>\n",
              "      <td>0.0</td>\n",
              "      <td>0.0</td>\n",
              "      <td>0.0</td>\n",
              "      <td>0.0</td>\n",
              "      <td>0.0</td>\n",
              "      <td>0.0</td>\n",
              "      <td>0.0</td>\n",
              "      <td>0.0</td>\n",
              "      <td>0.0</td>\n",
              "      <td>0.0</td>\n",
              "    </tr>\n",
              "    <tr>\n",
              "      <th>4</th>\n",
              "      <td>0.0</td>\n",
              "      <td>0.0</td>\n",
              "      <td>0.0</td>\n",
              "      <td>0.0</td>\n",
              "      <td>0.0</td>\n",
              "      <td>0.0</td>\n",
              "      <td>0.0</td>\n",
              "      <td>0.0</td>\n",
              "      <td>0.0</td>\n",
              "      <td>0.0</td>\n",
              "      <td>...</td>\n",
              "      <td>0.0</td>\n",
              "      <td>0.0</td>\n",
              "      <td>0.0</td>\n",
              "      <td>0.0</td>\n",
              "      <td>0.0</td>\n",
              "      <td>0.0</td>\n",
              "      <td>0.0</td>\n",
              "      <td>0.0</td>\n",
              "      <td>0.0</td>\n",
              "      <td>0.0</td>\n",
              "    </tr>\n",
              "  </tbody>\n",
              "</table>\n",
              "<p>5 rows × 11355 columns</p>\n",
              "</div>\n",
              "      <button class=\"colab-df-convert\" onclick=\"convertToInteractive('df-32935bfc-8271-45d4-bdce-c40726a0ee81')\"\n",
              "              title=\"Convert this dataframe to an interactive table.\"\n",
              "              style=\"display:none;\">\n",
              "        \n",
              "  <svg xmlns=\"http://www.w3.org/2000/svg\" height=\"24px\"viewBox=\"0 0 24 24\"\n",
              "       width=\"24px\">\n",
              "    <path d=\"M0 0h24v24H0V0z\" fill=\"none\"/>\n",
              "    <path d=\"M18.56 5.44l.94 2.06.94-2.06 2.06-.94-2.06-.94-.94-2.06-.94 2.06-2.06.94zm-11 1L8.5 8.5l.94-2.06 2.06-.94-2.06-.94L8.5 2.5l-.94 2.06-2.06.94zm10 10l.94 2.06.94-2.06 2.06-.94-2.06-.94-.94-2.06-.94 2.06-2.06.94z\"/><path d=\"M17.41 7.96l-1.37-1.37c-.4-.4-.92-.59-1.43-.59-.52 0-1.04.2-1.43.59L10.3 9.45l-7.72 7.72c-.78.78-.78 2.05 0 2.83L4 21.41c.39.39.9.59 1.41.59.51 0 1.02-.2 1.41-.59l7.78-7.78 2.81-2.81c.8-.78.8-2.07 0-2.86zM5.41 20L4 18.59l7.72-7.72 1.47 1.35L5.41 20z\"/>\n",
              "  </svg>\n",
              "      </button>\n",
              "      \n",
              "  <style>\n",
              "    .colab-df-container {\n",
              "      display:flex;\n",
              "      flex-wrap:wrap;\n",
              "      gap: 12px;\n",
              "    }\n",
              "\n",
              "    .colab-df-convert {\n",
              "      background-color: #E8F0FE;\n",
              "      border: none;\n",
              "      border-radius: 50%;\n",
              "      cursor: pointer;\n",
              "      display: none;\n",
              "      fill: #1967D2;\n",
              "      height: 32px;\n",
              "      padding: 0 0 0 0;\n",
              "      width: 32px;\n",
              "    }\n",
              "\n",
              "    .colab-df-convert:hover {\n",
              "      background-color: #E2EBFA;\n",
              "      box-shadow: 0px 1px 2px rgba(60, 64, 67, 0.3), 0px 1px 3px 1px rgba(60, 64, 67, 0.15);\n",
              "      fill: #174EA6;\n",
              "    }\n",
              "\n",
              "    [theme=dark] .colab-df-convert {\n",
              "      background-color: #3B4455;\n",
              "      fill: #D2E3FC;\n",
              "    }\n",
              "\n",
              "    [theme=dark] .colab-df-convert:hover {\n",
              "      background-color: #434B5C;\n",
              "      box-shadow: 0px 1px 3px 1px rgba(0, 0, 0, 0.15);\n",
              "      filter: drop-shadow(0px 1px 2px rgba(0, 0, 0, 0.3));\n",
              "      fill: #FFFFFF;\n",
              "    }\n",
              "  </style>\n",
              "\n",
              "      <script>\n",
              "        const buttonEl =\n",
              "          document.querySelector('#df-32935bfc-8271-45d4-bdce-c40726a0ee81 button.colab-df-convert');\n",
              "        buttonEl.style.display =\n",
              "          google.colab.kernel.accessAllowed ? 'block' : 'none';\n",
              "\n",
              "        async function convertToInteractive(key) {\n",
              "          const element = document.querySelector('#df-32935bfc-8271-45d4-bdce-c40726a0ee81');\n",
              "          const dataTable =\n",
              "            await google.colab.kernel.invokeFunction('convertToInteractive',\n",
              "                                                     [key], {});\n",
              "          if (!dataTable) return;\n",
              "\n",
              "          const docLinkHtml = 'Like what you see? Visit the ' +\n",
              "            '<a target=\"_blank\" href=https://colab.research.google.com/notebooks/data_table.ipynb>data table notebook</a>'\n",
              "            + ' to learn more about interactive tables.';\n",
              "          element.innerHTML = '';\n",
              "          dataTable['output_type'] = 'display_data';\n",
              "          await google.colab.output.renderOutput(dataTable, element);\n",
              "          const docLink = document.createElement('div');\n",
              "          docLink.innerHTML = docLinkHtml;\n",
              "          element.appendChild(docLink);\n",
              "        }\n",
              "      </script>\n",
              "    </div>\n",
              "  </div>\n",
              "  "
            ]
          },
          "metadata": {},
          "execution_count": 115
        }
      ]
    },
    {
      "cell_type": "markdown",
      "source": [
        "### FEATURE SELECTION"
      ],
      "metadata": {
        "id": "pwLqgt4w4rXn"
      }
    },
    {
      "cell_type": "code",
      "source": [
        "from sklearn.feature_selection import SelectKBest\n",
        "from sklearn.feature_selection import chi2\n",
        "# Two features with highest chi-squared statistics are selected\n",
        "chi2_features = SelectKBest(chi2, k = 800)\n",
        "X_kbest_features = chi2_features.fit_transform(u1, y)"
      ],
      "metadata": {
        "id": "g_l7FvT3kn1Q"
      },
      "execution_count": 116,
      "outputs": []
    },
    {
      "cell_type": "code",
      "source": [
        "chi_support = chi2_features.get_support()"
      ],
      "metadata": {
        "id": "Dj7T8ZJUkoaY"
      },
      "execution_count": 117,
      "outputs": []
    },
    {
      "cell_type": "code",
      "source": [
        "chi_feature = u1.loc[:,chi_support].columns.tolist()"
      ],
      "metadata": {
        "id": "ogBa4MS7koeK"
      },
      "execution_count": 118,
      "outputs": []
    },
    {
      "cell_type": "code",
      "source": [
        "chi_feature"
      ],
      "metadata": {
        "colab": {
          "base_uri": "https://localhost:8080/"
        },
        "id": "XjhAwG8Dkohi",
        "outputId": "3e703184-82ed-4e72-e61f-7c4ccda5813d"
      },
      "execution_count": 119,
      "outputs": [
        {
          "output_type": "execute_result",
          "data": {
            "text/plain": [
              "['able',\n",
              " 'absolutely',\n",
              " 'accept',\n",
              " 'accident',\n",
              " 'actually',\n",
              " 'adam',\n",
              " 'add',\n",
              " 'added',\n",
              " 'addition',\n",
              " 'admit',\n",
              " 'adored',\n",
              " 'advice',\n",
              " 'age',\n",
              " 'agent',\n",
              " 'ago',\n",
              " 'air',\n",
              " 'alex',\n",
              " 'alive',\n",
              " 'alot',\n",
              " 'alpha',\n",
              " 'amazingly',\n",
              " 'amazon',\n",
              " 'amish',\n",
              " 'amy',\n",
              " 'angel',\n",
              " 'angst',\n",
              " 'answer',\n",
              " 'anxiously',\n",
              " 'appearance',\n",
              " 'appears',\n",
              " 'appreciate',\n",
              " 'arc',\n",
              " 'ashley',\n",
              " 'aspect',\n",
              " 'assassin',\n",
              " 'attention',\n",
              " 'attraction',\n",
              " 'audience',\n",
              " 'author',\n",
              " 'available',\n",
              " 'balance',\n",
              " 'ball',\n",
              " 'band',\n",
              " 'based',\n",
              " 'basically',\n",
              " 'battle',\n",
              " 'beautifully',\n",
              " 'beauty',\n",
              " 'beginner',\n",
              " 'beginning',\n",
              " 'behavior',\n",
              " 'believable',\n",
              " 'believe',\n",
              " 'bella',\n",
              " 'belong',\n",
              " 'better',\n",
              " 'biker',\n",
              " 'birthday',\n",
              " 'bit',\n",
              " 'black',\n",
              " 'blake',\n",
              " 'blood',\n",
              " 'blown',\n",
              " 'blurb',\n",
              " 'book',\n",
              " 'bos',\n",
              " 'bought',\n",
              " 'boyfriend',\n",
              " 'brand',\n",
              " 'brandon',\n",
              " 'break',\n",
              " 'breaking',\n",
              " 'breath',\n",
              " 'brie',\n",
              " 'brief',\n",
              " 'brilliant',\n",
              " 'bring',\n",
              " 'brother',\n",
              " 'brought',\n",
              " 'build',\n",
              " 'built',\n",
              " 'bundle',\n",
              " 'butt',\n",
              " 'buy',\n",
              " 'buying',\n",
              " 'cabbage',\n",
              " 'cade',\n",
              " 'cake',\n",
              " 'captivating',\n",
              " 'captive',\n",
              " 'cara',\n",
              " 'carrie',\n",
              " 'carried',\n",
              " 'catch',\n",
              " 'cause',\n",
              " 'century',\n",
              " 'certain',\n",
              " 'certainly',\n",
              " 'chance',\n",
              " 'change',\n",
              " 'changing',\n",
              " 'chapter',\n",
              " 'character',\n",
              " 'charity',\n",
              " 'charlotte',\n",
              " 'chase',\n",
              " 'check',\n",
              " 'chemistry',\n",
              " 'chet',\n",
              " 'child',\n",
              " 'childhood',\n",
              " 'choice',\n",
              " 'chris',\n",
              " 'christian',\n",
              " 'christmas',\n",
              " 'circumstance',\n",
              " 'claim',\n",
              " 'class',\n",
              " 'clean',\n",
              " 'clearly',\n",
              " 'cliche',\n",
              " 'cliffhanger',\n",
              " 'combined',\n",
              " 'come',\n",
              " 'coming',\n",
              " 'compared',\n",
              " 'compelling',\n",
              " 'compensated',\n",
              " 'complete',\n",
              " 'completed',\n",
              " 'completely',\n",
              " 'complimentary',\n",
              " 'conclusion',\n",
              " 'conflict',\n",
              " 'confused',\n",
              " 'consider',\n",
              " 'considering',\n",
              " 'constant',\n",
              " 'contact',\n",
              " 'contained',\n",
              " 'contemporary',\n",
              " 'content',\n",
              " 'conversation',\n",
              " 'cooper',\n",
              " 'copy',\n",
              " 'cora',\n",
              " 'cost',\n",
              " 'couple',\n",
              " 'course',\n",
              " 'cover',\n",
              " 'cracker',\n",
              " 'crazy',\n",
              " 'creative',\n",
              " 'creature',\n",
              " 'crime',\n",
              " 'crystal',\n",
              " 'current',\n",
              " 'curvy',\n",
              " 'dante',\n",
              " 'darcy',\n",
              " 'dark',\n",
              " 'date',\n",
              " 'david',\n",
              " 'day',\n",
              " 'deal',\n",
              " 'death',\n",
              " 'deborah',\n",
              " 'decided',\n",
              " 'decides',\n",
              " 'deep',\n",
              " 'deeper',\n",
              " 'deeply',\n",
              " 'definitely',\n",
              " 'delicious',\n",
              " 'delightful',\n",
              " 'deliver',\n",
              " 'delivered',\n",
              " 'depth',\n",
              " 'describing',\n",
              " 'description',\n",
              " 'deserved',\n",
              " 'desire',\n",
              " 'despite',\n",
              " 'determined',\n",
              " 'developed',\n",
              " 'develops',\n",
              " 'diana',\n",
              " 'dinner',\n",
              " 'direction',\n",
              " 'disaster',\n",
              " 'discover',\n",
              " 'discovered',\n",
              " 'dish',\n",
              " 'distinct',\n",
              " 'door',\n",
              " 'download',\n",
              " 'dragon',\n",
              " 'drawing',\n",
              " 'dream',\n",
              " 'drew',\n",
              " 'drive',\n",
              " 'dying',\n",
              " 'early',\n",
              " 'earth',\n",
              " 'easier',\n",
              " 'easily',\n",
              " 'easy',\n",
              " 'eat',\n",
              " 'elizabeth',\n",
              " 'employee',\n",
              " 'end',\n",
              " 'ending',\n",
              " 'engaged',\n",
              " 'engaging',\n",
              " 'english',\n",
              " 'enjoyed',\n",
              " 'enjoys',\n",
              " 'entertainment',\n",
              " 'enthralled',\n",
              " 'erotic',\n",
              " 'error',\n",
              " 'especially',\n",
              " 'etc',\n",
              " 'ethan',\n",
              " 'eve',\n",
              " 'eventually',\n",
              " 'evil',\n",
              " 'evolved',\n",
              " 'ex',\n",
              " 'exact',\n",
              " 'exactly',\n",
              " 'excellent',\n",
              " 'exchange',\n",
              " 'excited',\n",
              " 'exciting',\n",
              " 'expanded',\n",
              " 'expectation',\n",
              " 'experience',\n",
              " 'explanation',\n",
              " 'expressed',\n",
              " 'extreme',\n",
              " 'extremely',\n",
              " 'face',\n",
              " 'fact',\n",
              " 'fall',\n",
              " 'fan',\n",
              " 'fantasy',\n",
              " 'far',\n",
              " 'fate',\n",
              " 'fault',\n",
              " 'fear',\n",
              " 'fell',\n",
              " 'fi',\n",
              " 'fianc',\n",
              " 'field',\n",
              " 'fighting',\n",
              " 'figure',\n",
              " 'finally',\n",
              " 'finding',\n",
              " 'finn',\n",
              " 'fiona',\n",
              " 'fire',\n",
              " 'fit',\n",
              " 'flow',\n",
              " 'flowed',\n",
              " 'fluff',\n",
              " 'focus',\n",
              " 'focused',\n",
              " 'folk',\n",
              " 'following',\n",
              " 'fond',\n",
              " 'forever',\n",
              " 'form',\n",
              " 'forward',\n",
              " 'fought',\n",
              " 'found',\n",
              " 'freaking',\n",
              " 'free',\n",
              " 'fun',\n",
              " 'future',\n",
              " 'gain',\n",
              " 'game',\n",
              " 'generation',\n",
              " 'gift',\n",
              " 'given',\n",
              " 'glad',\n",
              " 'goal',\n",
              " 'god',\n",
              " 'gone',\n",
              " 'gonna',\n",
              " 'good',\n",
              " 'gotten',\n",
              " 'government',\n",
              " 'grab',\n",
              " 'grant',\n",
              " 'graphic',\n",
              " 'grasp',\n",
              " 'gray',\n",
              " 'great',\n",
              " 'greatest',\n",
              " 'grow',\n",
              " 'guess',\n",
              " 'gwen',\n",
              " 'half',\n",
              " 'hand',\n",
              " 'handled',\n",
              " 'happen',\n",
              " 'happens',\n",
              " 'happiness',\n",
              " 'happy',\n",
              " 'hate',\n",
              " 'hea',\n",
              " 'head',\n",
              " 'healthy',\n",
              " 'hear',\n",
              " 'held',\n",
              " 'help',\n",
              " 'helped',\n",
              " 'helpful',\n",
              " 'heroine',\n",
              " 'hidden',\n",
              " 'hiding',\n",
              " 'high',\n",
              " 'highly',\n",
              " 'hint',\n",
              " 'history',\n",
              " 'hit',\n",
              " 'hold',\n",
              " 'holiday',\n",
              " 'home',\n",
              " 'honest',\n",
              " 'hook',\n",
              " 'hooked',\n",
              " 'hopefully',\n",
              " 'horror',\n",
              " 'hot',\n",
              " 'hotter',\n",
              " 'hour',\n",
              " 'hug',\n",
              " 'huge',\n",
              " 'human',\n",
              " 'humor',\n",
              " 'humorous',\n",
              " 'hungry',\n",
              " 'hunter',\n",
              " 'hurry',\n",
              " 'hutton',\n",
              " 'idea',\n",
              " 'ill',\n",
              " 'im',\n",
              " 'impressed',\n",
              " 'independent',\n",
              " 'individual',\n",
              " 'info',\n",
              " 'inner',\n",
              " 'innocence',\n",
              " 'innocent',\n",
              " 'inside',\n",
              " 'insight',\n",
              " 'inspiring',\n",
              " 'instantly',\n",
              " 'instead',\n",
              " 'intensity',\n",
              " 'interacted',\n",
              " 'interest',\n",
              " 'interested',\n",
              " 'interesting',\n",
              " 'interview',\n",
              " 'intimate',\n",
              " 'invested',\n",
              " 'involved',\n",
              " 'island',\n",
              " 'issue',\n",
              " 'jack',\n",
              " 'jason',\n",
              " 'jen',\n",
              " 'jenna',\n",
              " 'jennifer',\n",
              " 'jess',\n",
              " 'job',\n",
              " 'join',\n",
              " 'jordan',\n",
              " 'josh',\n",
              " 'joy',\n",
              " 'juicy',\n",
              " 'juliette',\n",
              " 'justice',\n",
              " 'keeping',\n",
              " 'kept',\n",
              " 'key',\n",
              " 'killing',\n",
              " 'kind',\n",
              " 'kindle',\n",
              " 'king',\n",
              " 'kirsten',\n",
              " 'kiss',\n",
              " 'knew',\n",
              " 'knowledge',\n",
              " 'known',\n",
              " 'labeled',\n",
              " 'lady',\n",
              " 'late',\n",
              " 'later',\n",
              " 'laughed',\n",
              " 'le',\n",
              " 'leaf',\n",
              " 'learn',\n",
              " 'learning',\n",
              " 'leaving',\n",
              " 'left',\n",
              " 'letter',\n",
              " 'lexi',\n",
              " 'life',\n",
              " 'lifestyle',\n",
              " 'lifetime',\n",
              " 'likable',\n",
              " 'likeable',\n",
              " 'liked',\n",
              " 'lindsay',\n",
              " 'line',\n",
              " 'link',\n",
              " 'lisa',\n",
              " 'list',\n",
              " 'literally',\n",
              " 'little',\n",
              " 'live',\n",
              " 'lol',\n",
              " 'look',\n",
              " 'looked',\n",
              " 'looking',\n",
              " 'loose',\n",
              " 'lose',\n",
              " 'lost',\n",
              " 'lot',\n",
              " 'lovable',\n",
              " 'love',\n",
              " 'loved',\n",
              " 'low',\n",
              " 'lucy',\n",
              " 'mac',\n",
              " 'mackenzie',\n",
              " 'mad',\n",
              " 'magic',\n",
              " 'magical',\n",
              " 'mail',\n",
              " 'main',\n",
              " 'major',\n",
              " 'male',\n",
              " 'mark',\n",
              " 'marriage',\n",
              " 'married',\n",
              " 'mary',\n",
              " 'match',\n",
              " 'mate',\n",
              " 'matter',\n",
              " 'max',\n",
              " 'maybe',\n",
              " 'mc',\n",
              " 'mean',\n",
              " 'meat',\n",
              " 'memory',\n",
              " 'mental',\n",
              " 'message',\n",
              " 'mia',\n",
              " 'micah',\n",
              " 'michael',\n",
              " 'mile',\n",
              " 'mind',\n",
              " 'mistake',\n",
              " 'misunderstanding',\n",
              " 'mom',\n",
              " 'money',\n",
              " 'month',\n",
              " 'mother',\n",
              " 'mr',\n",
              " 'multiple',\n",
              " 'murder',\n",
              " 'music',\n",
              " 'nail',\n",
              " 'named',\n",
              " 'narrator',\n",
              " 'near',\n",
              " 'need',\n",
              " 'needed',\n",
              " 'nervous',\n",
              " 'netgalley',\n",
              " 'new',\n",
              " 'nick',\n",
              " 'night',\n",
              " 'nikki',\n",
              " 'noah',\n",
              " 'normal',\n",
              " 'note',\n",
              " 'novel',\n",
              " 'novella',\n",
              " 'number',\n",
              " 'obviously',\n",
              " 'offer',\n",
              " 'office',\n",
              " 'oliver',\n",
              " 'opening',\n",
              " 'original',\n",
              " 'outcome',\n",
              " 'outside',\n",
              " 'overcoming',\n",
              " 'overly',\n",
              " 'pa',\n",
              " 'pace',\n",
              " 'paced',\n",
              " 'page',\n",
              " 'palpable',\n",
              " 'paranormal',\n",
              " 'parent',\n",
              " 'parker',\n",
              " 'particularly',\n",
              " 'partner',\n",
              " 'passed',\n",
              " 'pay',\n",
              " 'peeled',\n",
              " 'people',\n",
              " 'perfectly',\n",
              " 'personal',\n",
              " 'phase',\n",
              " 'physical',\n",
              " 'pick',\n",
              " 'picked',\n",
              " 'picking',\n",
              " 'piece',\n",
              " 'piper',\n",
              " 'plan',\n",
              " 'planet',\n",
              " 'planning',\n",
              " 'play',\n",
              " 'played',\n",
              " 'plenty',\n",
              " 'plot',\n",
              " 'political',\n",
              " 'poor',\n",
              " 'possible',\n",
              " 'post',\n",
              " 'potential',\n",
              " 'power',\n",
              " 'predictable',\n",
              " 'prepared',\n",
              " 'preview',\n",
              " 'price',\n",
              " 'prior',\n",
              " 'probably',\n",
              " 'process',\n",
              " 'product',\n",
              " 'progress',\n",
              " 'progressed',\n",
              " 'project',\n",
              " 'promise',\n",
              " 'protagonist',\n",
              " 'provide',\n",
              " 'pull',\n",
              " 'pulled',\n",
              " 'purchase',\n",
              " 'pure',\n",
              " 'pursuing',\n",
              " 'quality',\n",
              " 'queen',\n",
              " 'question',\n",
              " 'quick',\n",
              " 'quickly',\n",
              " 'quirky',\n",
              " 'raised',\n",
              " 'ranch',\n",
              " 'rated',\n",
              " 'raw',\n",
              " 'read',\n",
              " 'reading',\n",
              " 'ready',\n",
              " 'reality',\n",
              " 'realize',\n",
              " 'received',\n",
              " 'recommend',\n",
              " 'recommended',\n",
              " 'reference',\n",
              " 'related',\n",
              " 'release',\n",
              " 'relief',\n",
              " 'remain',\n",
              " 'remember',\n",
              " 'repetitive',\n",
              " 'reread',\n",
              " 'rescue',\n",
              " 'research',\n",
              " 'resolution',\n",
              " 'result',\n",
              " 'returned',\n",
              " 'reveal',\n",
              " 'revealed',\n",
              " 'revenge',\n",
              " 'review',\n",
              " 'rich',\n",
              " 'right',\n",
              " 'rise',\n",
              " 'river',\n",
              " 'road',\n",
              " 'robert',\n",
              " 'robot',\n",
              " 'role',\n",
              " 'rollercoaster',\n",
              " 'roman',\n",
              " 'rooting',\n",
              " 'rosanna',\n",
              " 'royal',\n",
              " 'ruin',\n",
              " 'rule',\n",
              " 'run',\n",
              " 'rushed',\n",
              " 'saga',\n",
              " 'said',\n",
              " 'saint',\n",
              " 'sassy',\n",
              " 'saving',\n",
              " 'scenario',\n",
              " 'scene',\n",
              " 'sci',\n",
              " 'sean',\n",
              " 'second',\n",
              " 'secondary',\n",
              " 'secret',\n",
              " 'section',\n",
              " 'security',\n",
              " 'seeing',\n",
              " 'sensual',\n",
              " 'sentence',\n",
              " 'series',\n",
              " 'set',\n",
              " 'seven',\n",
              " 'sex',\n",
              " 'shadow',\n",
              " 'shake',\n",
              " 'shifter',\n",
              " 'short',\n",
              " 'shorter',\n",
              " 'sight',\n",
              " 'similar',\n",
              " 'sitting',\n",
              " 'skip',\n",
              " 'sleep',\n",
              " 'slightly',\n",
              " 'slow',\n",
              " 'slowly',\n",
              " 'smiling',\n",
              " 'smith',\n",
              " 'smoke',\n",
              " 'smoothly',\n",
              " 'society',\n",
              " 'sofia',\n",
              " 'solution',\n",
              " 'solved',\n",
              " 'somewhat',\n",
              " 'son',\n",
              " 'soon',\n",
              " 'soooooooo',\n",
              " 'soul',\n",
              " 'sound',\n",
              " 'southern',\n",
              " 'space',\n",
              " 'spark',\n",
              " 'speaking',\n",
              " 'special',\n",
              " 'spend',\n",
              " 'spin',\n",
              " 'spirit',\n",
              " 'spoil',\n",
              " 'spot',\n",
              " 'spring',\n",
              " 'st',\n",
              " 'stalker',\n",
              " 'stand',\n",
              " 'starting',\n",
              " 'state',\n",
              " 'stated',\n",
              " 'staying',\n",
              " 'steady',\n",
              " 'steamy',\n",
              " 'step',\n",
              " 'stick',\n",
              " 'stone',\n",
              " 'stop',\n",
              " 'stopping',\n",
              " 'story',\n",
              " 'storyline',\n",
              " 'strange',\n",
              " 'strong',\n",
              " 'struggle',\n",
              " 'stubborn',\n",
              " 'stuff',\n",
              " 'style',\n",
              " 'su',\n",
              " 'sub',\n",
              " 'success',\n",
              " 'suddenly',\n",
              " 'suggest',\n",
              " 'summer',\n",
              " 'super',\n",
              " 'support',\n",
              " 'supporting',\n",
              " 'sure',\n",
              " 'surprise',\n",
              " 'surrounding',\n",
              " 'survival',\n",
              " 'sweet',\n",
              " 'sydney',\n",
              " 'synopsis',\n",
              " 'taken',\n",
              " 'tale',\n",
              " 'talk',\n",
              " 'task',\n",
              " 'taylor',\n",
              " 'teach',\n",
              " 'telling',\n",
              " 'test',\n",
              " 'thank',\n",
              " 'thanks',\n",
              " 'thing',\n",
              " 'thinking',\n",
              " 'thrilled',\n",
              " 'thrilling',\n",
              " 'throw',\n",
              " 'till',\n",
              " 'tip',\n",
              " 'tired',\n",
              " 'tissue',\n",
              " 'today',\n",
              " 'told',\n",
              " 'ton',\n",
              " 'took',\n",
              " 'total',\n",
              " 'totally',\n",
              " 'tour',\n",
              " 'traditional',\n",
              " 'tragic',\n",
              " 'travel',\n",
              " 'treated',\n",
              " 'trick',\n",
              " 'tried',\n",
              " 'trilogy',\n",
              " 'triumph',\n",
              " 'trouble',\n",
              " 'true',\n",
              " 'trust',\n",
              " 'truth',\n",
              " 'try',\n",
              " 'trying',\n",
              " 'turned',\n",
              " 'turner',\n",
              " 'tv',\n",
              " 'twisted',\n",
              " 'ty',\n",
              " 'typo',\n",
              " 'unanswered',\n",
              " 'unique',\n",
              " 'unrealistic',\n",
              " 'use',\n",
              " 'usual',\n",
              " 'usually',\n",
              " 'value',\n",
              " 'vamp',\n",
              " 'vampire',\n",
              " 'vanessa',\n",
              " 'version',\n",
              " 'view',\n",
              " 'visit',\n",
              " 'visiting',\n",
              " 'wait',\n",
              " 'walk',\n",
              " 'walker',\n",
              " 'wall',\n",
              " 'want',\n",
              " 'wanting',\n",
              " 'war',\n",
              " 'warrior',\n",
              " 'waste',\n",
              " 'way',\n",
              " 'weaving',\n",
              " 'week',\n",
              " 'weight',\n",
              " 'werewolf',\n",
              " 'west',\n",
              " 'william',\n",
              " 'willow',\n",
              " 'winner',\n",
              " 'witty',\n",
              " 'wolf',\n",
              " 'worked',\n",
              " 'working',\n",
              " 'worried',\n",
              " 'writing',\n",
              " 'written',\n",
              " 'wrong',\n",
              " 'wrote',\n",
              " 'year',\n",
              " 'young',\n",
              " 'younger']"
            ]
          },
          "metadata": {},
          "execution_count": 119
        }
      ]
    },
    {
      "cell_type": "code",
      "source": [
        "X_kbest_features"
      ],
      "metadata": {
        "colab": {
          "base_uri": "https://localhost:8080/"
        },
        "id": "VDuFA-T1koke",
        "outputId": "1bffce05-343e-4ff5-ea82-b9d74246af15"
      },
      "execution_count": 120,
      "outputs": [
        {
          "output_type": "execute_result",
          "data": {
            "text/plain": [
              "array([[0.        , 0.        , 0.        , ..., 0.        , 0.        ,\n",
              "        0.        ],\n",
              "       [0.        , 0.        , 0.        , ..., 0.        , 0.        ,\n",
              "        0.        ],\n",
              "       [0.        , 0.        , 0.        , ..., 0.        , 0.        ,\n",
              "        0.        ],\n",
              "       ...,\n",
              "       [0.        , 0.        , 0.        , ..., 0.        , 0.        ,\n",
              "        0.        ],\n",
              "       [0.05766398, 0.        , 0.        , ..., 0.05871438, 0.05493256,\n",
              "        0.        ],\n",
              "       [0.        , 0.        , 0.        , ..., 0.        , 0.05037755,\n",
              "        0.        ]])"
            ]
          },
          "metadata": {},
          "execution_count": 120
        }
      ]
    },
    {
      "cell_type": "code",
      "source": [
        "u3 = pd.DataFrame(X_kbest_features, columns = chi_feature)\n",
        "u3.head()"
      ],
      "metadata": {
        "colab": {
          "base_uri": "https://localhost:8080/",
          "height": 235
        },
        "id": "059iYhdmkooB",
        "outputId": "515ae1b2-9bbb-44d3-e7b3-cf0bef225aac"
      },
      "execution_count": 121,
      "outputs": [
        {
          "output_type": "execute_result",
          "data": {
            "text/plain": [
              "   able  absolutely  accept  accident  actually  adam  add  added  addition  \\\n",
              "0   0.0         0.0     0.0       0.0       0.0   0.0  0.0    0.0       0.0   \n",
              "1   0.0         0.0     0.0       0.0       0.0   0.0  0.0    0.0       0.0   \n",
              "2   0.0         0.0     0.0       0.0       0.0   0.0  0.0    0.0       0.0   \n",
              "3   0.0         0.0     0.0       0.0       0.0   0.0  0.0    0.0       0.0   \n",
              "4   0.0         0.0     0.0       0.0       0.0   0.0  0.0    0.0       0.0   \n",
              "\n",
              "   admit  ...  worked  working  worried  writing  written  wrong  wrote  year  \\\n",
              "0    0.0  ...     0.0      0.0      0.0      0.0  0.00000    0.0    0.0   0.0   \n",
              "1    0.0  ...     0.0      0.0      0.0      0.0  0.00000    0.0    0.0   0.0   \n",
              "2    0.0  ...     0.0      0.0      0.0      0.0  0.00000    0.0    0.0   0.0   \n",
              "3    0.0  ...     0.0      0.0      0.0      0.0  0.00000    0.0    0.0   0.0   \n",
              "4    0.0  ...     0.0      0.0      0.0      0.0  0.41397    0.0    0.0   0.0   \n",
              "\n",
              "   young  younger  \n",
              "0    0.0      0.0  \n",
              "1    0.0      0.0  \n",
              "2    0.0      0.0  \n",
              "3    0.0      0.0  \n",
              "4    0.0      0.0  \n",
              "\n",
              "[5 rows x 800 columns]"
            ],
            "text/html": [
              "\n",
              "  <div id=\"df-33754a1e-4967-4875-a19e-e58fd67ed0e8\">\n",
              "    <div class=\"colab-df-container\">\n",
              "      <div>\n",
              "<style scoped>\n",
              "    .dataframe tbody tr th:only-of-type {\n",
              "        vertical-align: middle;\n",
              "    }\n",
              "\n",
              "    .dataframe tbody tr th {\n",
              "        vertical-align: top;\n",
              "    }\n",
              "\n",
              "    .dataframe thead th {\n",
              "        text-align: right;\n",
              "    }\n",
              "</style>\n",
              "<table border=\"1\" class=\"dataframe\">\n",
              "  <thead>\n",
              "    <tr style=\"text-align: right;\">\n",
              "      <th></th>\n",
              "      <th>able</th>\n",
              "      <th>absolutely</th>\n",
              "      <th>accept</th>\n",
              "      <th>accident</th>\n",
              "      <th>actually</th>\n",
              "      <th>adam</th>\n",
              "      <th>add</th>\n",
              "      <th>added</th>\n",
              "      <th>addition</th>\n",
              "      <th>admit</th>\n",
              "      <th>...</th>\n",
              "      <th>worked</th>\n",
              "      <th>working</th>\n",
              "      <th>worried</th>\n",
              "      <th>writing</th>\n",
              "      <th>written</th>\n",
              "      <th>wrong</th>\n",
              "      <th>wrote</th>\n",
              "      <th>year</th>\n",
              "      <th>young</th>\n",
              "      <th>younger</th>\n",
              "    </tr>\n",
              "  </thead>\n",
              "  <tbody>\n",
              "    <tr>\n",
              "      <th>0</th>\n",
              "      <td>0.0</td>\n",
              "      <td>0.0</td>\n",
              "      <td>0.0</td>\n",
              "      <td>0.0</td>\n",
              "      <td>0.0</td>\n",
              "      <td>0.0</td>\n",
              "      <td>0.0</td>\n",
              "      <td>0.0</td>\n",
              "      <td>0.0</td>\n",
              "      <td>0.0</td>\n",
              "      <td>...</td>\n",
              "      <td>0.0</td>\n",
              "      <td>0.0</td>\n",
              "      <td>0.0</td>\n",
              "      <td>0.0</td>\n",
              "      <td>0.00000</td>\n",
              "      <td>0.0</td>\n",
              "      <td>0.0</td>\n",
              "      <td>0.0</td>\n",
              "      <td>0.0</td>\n",
              "      <td>0.0</td>\n",
              "    </tr>\n",
              "    <tr>\n",
              "      <th>1</th>\n",
              "      <td>0.0</td>\n",
              "      <td>0.0</td>\n",
              "      <td>0.0</td>\n",
              "      <td>0.0</td>\n",
              "      <td>0.0</td>\n",
              "      <td>0.0</td>\n",
              "      <td>0.0</td>\n",
              "      <td>0.0</td>\n",
              "      <td>0.0</td>\n",
              "      <td>0.0</td>\n",
              "      <td>...</td>\n",
              "      <td>0.0</td>\n",
              "      <td>0.0</td>\n",
              "      <td>0.0</td>\n",
              "      <td>0.0</td>\n",
              "      <td>0.00000</td>\n",
              "      <td>0.0</td>\n",
              "      <td>0.0</td>\n",
              "      <td>0.0</td>\n",
              "      <td>0.0</td>\n",
              "      <td>0.0</td>\n",
              "    </tr>\n",
              "    <tr>\n",
              "      <th>2</th>\n",
              "      <td>0.0</td>\n",
              "      <td>0.0</td>\n",
              "      <td>0.0</td>\n",
              "      <td>0.0</td>\n",
              "      <td>0.0</td>\n",
              "      <td>0.0</td>\n",
              "      <td>0.0</td>\n",
              "      <td>0.0</td>\n",
              "      <td>0.0</td>\n",
              "      <td>0.0</td>\n",
              "      <td>...</td>\n",
              "      <td>0.0</td>\n",
              "      <td>0.0</td>\n",
              "      <td>0.0</td>\n",
              "      <td>0.0</td>\n",
              "      <td>0.00000</td>\n",
              "      <td>0.0</td>\n",
              "      <td>0.0</td>\n",
              "      <td>0.0</td>\n",
              "      <td>0.0</td>\n",
              "      <td>0.0</td>\n",
              "    </tr>\n",
              "    <tr>\n",
              "      <th>3</th>\n",
              "      <td>0.0</td>\n",
              "      <td>0.0</td>\n",
              "      <td>0.0</td>\n",
              "      <td>0.0</td>\n",
              "      <td>0.0</td>\n",
              "      <td>0.0</td>\n",
              "      <td>0.0</td>\n",
              "      <td>0.0</td>\n",
              "      <td>0.0</td>\n",
              "      <td>0.0</td>\n",
              "      <td>...</td>\n",
              "      <td>0.0</td>\n",
              "      <td>0.0</td>\n",
              "      <td>0.0</td>\n",
              "      <td>0.0</td>\n",
              "      <td>0.00000</td>\n",
              "      <td>0.0</td>\n",
              "      <td>0.0</td>\n",
              "      <td>0.0</td>\n",
              "      <td>0.0</td>\n",
              "      <td>0.0</td>\n",
              "    </tr>\n",
              "    <tr>\n",
              "      <th>4</th>\n",
              "      <td>0.0</td>\n",
              "      <td>0.0</td>\n",
              "      <td>0.0</td>\n",
              "      <td>0.0</td>\n",
              "      <td>0.0</td>\n",
              "      <td>0.0</td>\n",
              "      <td>0.0</td>\n",
              "      <td>0.0</td>\n",
              "      <td>0.0</td>\n",
              "      <td>0.0</td>\n",
              "      <td>...</td>\n",
              "      <td>0.0</td>\n",
              "      <td>0.0</td>\n",
              "      <td>0.0</td>\n",
              "      <td>0.0</td>\n",
              "      <td>0.41397</td>\n",
              "      <td>0.0</td>\n",
              "      <td>0.0</td>\n",
              "      <td>0.0</td>\n",
              "      <td>0.0</td>\n",
              "      <td>0.0</td>\n",
              "    </tr>\n",
              "  </tbody>\n",
              "</table>\n",
              "<p>5 rows × 800 columns</p>\n",
              "</div>\n",
              "      <button class=\"colab-df-convert\" onclick=\"convertToInteractive('df-33754a1e-4967-4875-a19e-e58fd67ed0e8')\"\n",
              "              title=\"Convert this dataframe to an interactive table.\"\n",
              "              style=\"display:none;\">\n",
              "        \n",
              "  <svg xmlns=\"http://www.w3.org/2000/svg\" height=\"24px\"viewBox=\"0 0 24 24\"\n",
              "       width=\"24px\">\n",
              "    <path d=\"M0 0h24v24H0V0z\" fill=\"none\"/>\n",
              "    <path d=\"M18.56 5.44l.94 2.06.94-2.06 2.06-.94-2.06-.94-.94-2.06-.94 2.06-2.06.94zm-11 1L8.5 8.5l.94-2.06 2.06-.94-2.06-.94L8.5 2.5l-.94 2.06-2.06.94zm10 10l.94 2.06.94-2.06 2.06-.94-2.06-.94-.94-2.06-.94 2.06-2.06.94z\"/><path d=\"M17.41 7.96l-1.37-1.37c-.4-.4-.92-.59-1.43-.59-.52 0-1.04.2-1.43.59L10.3 9.45l-7.72 7.72c-.78.78-.78 2.05 0 2.83L4 21.41c.39.39.9.59 1.41.59.51 0 1.02-.2 1.41-.59l7.78-7.78 2.81-2.81c.8-.78.8-2.07 0-2.86zM5.41 20L4 18.59l7.72-7.72 1.47 1.35L5.41 20z\"/>\n",
              "  </svg>\n",
              "      </button>\n",
              "      \n",
              "  <style>\n",
              "    .colab-df-container {\n",
              "      display:flex;\n",
              "      flex-wrap:wrap;\n",
              "      gap: 12px;\n",
              "    }\n",
              "\n",
              "    .colab-df-convert {\n",
              "      background-color: #E8F0FE;\n",
              "      border: none;\n",
              "      border-radius: 50%;\n",
              "      cursor: pointer;\n",
              "      display: none;\n",
              "      fill: #1967D2;\n",
              "      height: 32px;\n",
              "      padding: 0 0 0 0;\n",
              "      width: 32px;\n",
              "    }\n",
              "\n",
              "    .colab-df-convert:hover {\n",
              "      background-color: #E2EBFA;\n",
              "      box-shadow: 0px 1px 2px rgba(60, 64, 67, 0.3), 0px 1px 3px 1px rgba(60, 64, 67, 0.15);\n",
              "      fill: #174EA6;\n",
              "    }\n",
              "\n",
              "    [theme=dark] .colab-df-convert {\n",
              "      background-color: #3B4455;\n",
              "      fill: #D2E3FC;\n",
              "    }\n",
              "\n",
              "    [theme=dark] .colab-df-convert:hover {\n",
              "      background-color: #434B5C;\n",
              "      box-shadow: 0px 1px 3px 1px rgba(0, 0, 0, 0.15);\n",
              "      filter: drop-shadow(0px 1px 2px rgba(0, 0, 0, 0.3));\n",
              "      fill: #FFFFFF;\n",
              "    }\n",
              "  </style>\n",
              "\n",
              "      <script>\n",
              "        const buttonEl =\n",
              "          document.querySelector('#df-33754a1e-4967-4875-a19e-e58fd67ed0e8 button.colab-df-convert');\n",
              "        buttonEl.style.display =\n",
              "          google.colab.kernel.accessAllowed ? 'block' : 'none';\n",
              "\n",
              "        async function convertToInteractive(key) {\n",
              "          const element = document.querySelector('#df-33754a1e-4967-4875-a19e-e58fd67ed0e8');\n",
              "          const dataTable =\n",
              "            await google.colab.kernel.invokeFunction('convertToInteractive',\n",
              "                                                     [key], {});\n",
              "          if (!dataTable) return;\n",
              "\n",
              "          const docLinkHtml = 'Like what you see? Visit the ' +\n",
              "            '<a target=\"_blank\" href=https://colab.research.google.com/notebooks/data_table.ipynb>data table notebook</a>'\n",
              "            + ' to learn more about interactive tables.';\n",
              "          element.innerHTML = '';\n",
              "          dataTable['output_type'] = 'display_data';\n",
              "          await google.colab.output.renderOutput(dataTable, element);\n",
              "          const docLink = document.createElement('div');\n",
              "          docLink.innerHTML = docLinkHtml;\n",
              "          element.appendChild(docLink);\n",
              "        }\n",
              "      </script>\n",
              "    </div>\n",
              "  </div>\n",
              "  "
            ]
          },
          "metadata": {},
          "execution_count": 121
        }
      ]
    },
    {
      "cell_type": "code",
      "source": [
        "# SOURCE : https://github.com/dmlc/dgl/issues/3364\n",
        "src, dst = np.nonzero(X_kbest_features)"
      ],
      "metadata": {
        "id": "P6OeMUnQZsrN"
      },
      "execution_count": 122,
      "outputs": []
    },
    {
      "cell_type": "code",
      "source": [
        "src"
      ],
      "metadata": {
        "colab": {
          "base_uri": "https://localhost:8080/"
        },
        "id": "o9mbiGeJargk",
        "outputId": "040ccc31-de4a-4a42-d08f-89006866fae3"
      },
      "execution_count": 123,
      "outputs": [
        {
          "output_type": "execute_result",
          "data": {
            "text/plain": [
              "array([   0,    0,    0, ..., 4729, 4729, 4729])"
            ]
          },
          "metadata": {},
          "execution_count": 123
        }
      ]
    },
    {
      "cell_type": "code",
      "source": [
        "dst"
      ],
      "metadata": {
        "colab": {
          "base_uri": "https://localhost:8080/"
        },
        "id": "ftpsumT5ataU",
        "outputId": "5868ca55-0130-486a-e0ca-dea22df6ce95"
      },
      "execution_count": 124,
      "outputs": [
        {
          "output_type": "execute_result",
          "data": {
            "text/plain": [
              "array([ 38,  64, 172, ..., 749, 795, 798])"
            ]
          },
          "metadata": {},
          "execution_count": 124
        }
      ]
    },
    {
      "cell_type": "code",
      "source": [
        "g = dgl.graph((src, dst))"
      ],
      "metadata": {
        "id": "586xOg_vZvs8"
      },
      "execution_count": 125,
      "outputs": []
    },
    {
      "cell_type": "code",
      "source": [
        "n_nodes = g.num_nodes()\n",
        "n_nodes"
      ],
      "metadata": {
        "colab": {
          "base_uri": "https://localhost:8080/"
        },
        "id": "1sx5KTl9PYUe",
        "outputId": "8940a573-b8da-4ae3-e4e0-21d305152a3b"
      },
      "execution_count": 126,
      "outputs": [
        {
          "output_type": "execute_result",
          "data": {
            "text/plain": [
              "4730"
            ]
          },
          "metadata": {},
          "execution_count": 126
        }
      ]
    },
    {
      "cell_type": "code",
      "source": [
        "nodes = g.nodes()\n",
        "nodes"
      ],
      "metadata": {
        "colab": {
          "base_uri": "https://localhost:8080/"
        },
        "id": "X966_YkOPYWw",
        "outputId": "db9a2765-0eee-423f-ef9c-992d9c41be90"
      },
      "execution_count": 127,
      "outputs": [
        {
          "output_type": "execute_result",
          "data": {
            "text/plain": [
              "tensor([   0,    1,    2,  ..., 4727, 4728, 4729])"
            ]
          },
          "metadata": {},
          "execution_count": 127
        }
      ]
    },
    {
      "cell_type": "code",
      "source": [
        "n_nodes1 = g.number_of_nodes()\n",
        "n_nodes1"
      ],
      "metadata": {
        "colab": {
          "base_uri": "https://localhost:8080/"
        },
        "id": "eBfrj943UfIY",
        "outputId": "9d391cc4-20f1-47e9-e2a0-efaf089abfab"
      },
      "execution_count": 128,
      "outputs": [
        {
          "output_type": "execute_result",
          "data": {
            "text/plain": [
              "4730"
            ]
          },
          "metadata": {},
          "execution_count": 128
        }
      ]
    },
    {
      "cell_type": "code",
      "source": [
        "g.ndata['feat'] = torch.tensor(X_kbest_features)\n",
        "g.ndata['feat'] "
      ],
      "metadata": {
        "colab": {
          "base_uri": "https://localhost:8080/"
        },
        "id": "qO1Qsayh60X6",
        "outputId": "c4d5669f-68af-4e0d-d806-35bd276396d7"
      },
      "execution_count": 129,
      "outputs": [
        {
          "output_type": "execute_result",
          "data": {
            "text/plain": [
              "tensor([[0.0000, 0.0000, 0.0000,  ..., 0.0000, 0.0000, 0.0000],\n",
              "        [0.0000, 0.0000, 0.0000,  ..., 0.0000, 0.0000, 0.0000],\n",
              "        [0.0000, 0.0000, 0.0000,  ..., 0.0000, 0.0000, 0.0000],\n",
              "        ...,\n",
              "        [0.0000, 0.0000, 0.0000,  ..., 0.0000, 0.0000, 0.0000],\n",
              "        [0.0577, 0.0000, 0.0000,  ..., 0.0587, 0.0549, 0.0000],\n",
              "        [0.0000, 0.0000, 0.0000,  ..., 0.0000, 0.0504, 0.0000]],\n",
              "       dtype=torch.float64)"
            ]
          },
          "metadata": {},
          "execution_count": 129
        }
      ]
    },
    {
      "cell_type": "code",
      "source": [
        "n_train = int(n_nodes1 * 0.6)\n",
        "n_val = int(n_nodes1 * 0.2)"
      ],
      "metadata": {
        "id": "SZYQiQqEmXJb"
      },
      "execution_count": 130,
      "outputs": []
    },
    {
      "cell_type": "code",
      "source": [
        "train_mask = torch.zeros(n_nodes, dtype=torch.bool)\n",
        "len(train_mask)\n",
        "train_mask"
      ],
      "metadata": {
        "colab": {
          "base_uri": "https://localhost:8080/"
        },
        "id": "PkJ5DhnOmy1K",
        "outputId": "eacad48e-0636-4ed4-d868-c3c7a071ce56"
      },
      "execution_count": 131,
      "outputs": [
        {
          "output_type": "execute_result",
          "data": {
            "text/plain": [
              "tensor([False, False, False,  ..., False, False, False])"
            ]
          },
          "metadata": {},
          "execution_count": 131
        }
      ]
    },
    {
      "cell_type": "code",
      "source": [
        "val_mask = torch.zeros(n_nodes, dtype=torch.bool)\n",
        "len(val_mask)\n",
        "val_mask"
      ],
      "metadata": {
        "colab": {
          "base_uri": "https://localhost:8080/"
        },
        "id": "G0v0Uq_Wm3eS",
        "outputId": "7069ffa7-a72f-4a88-c7d0-7a54fe71e785"
      },
      "execution_count": 132,
      "outputs": [
        {
          "output_type": "execute_result",
          "data": {
            "text/plain": [
              "tensor([False, False, False,  ..., False, False, False])"
            ]
          },
          "metadata": {},
          "execution_count": 132
        }
      ]
    },
    {
      "cell_type": "code",
      "source": [
        "test_mask = torch.zeros(n_nodes, dtype=torch.bool)\n",
        "len(test_mask)\n",
        "test_mask"
      ],
      "metadata": {
        "colab": {
          "base_uri": "https://localhost:8080/"
        },
        "id": "cItnta9U5upn",
        "outputId": "7f7224db-d0b7-4b38-8746-ac3b2b52add8"
      },
      "execution_count": 133,
      "outputs": [
        {
          "output_type": "execute_result",
          "data": {
            "text/plain": [
              "tensor([False, False, False,  ..., False, False, False])"
            ]
          },
          "metadata": {},
          "execution_count": 133
        }
      ]
    },
    {
      "cell_type": "code",
      "source": [
        "train_mask[:n_train] = True"
      ],
      "metadata": {
        "id": "x2aQxYaimXLj"
      },
      "execution_count": 134,
      "outputs": []
    },
    {
      "cell_type": "code",
      "source": [
        "val_mask[n_train:n_train + n_val] = True"
      ],
      "metadata": {
        "id": "1TgTOVm0mXPd"
      },
      "execution_count": 135,
      "outputs": []
    },
    {
      "cell_type": "code",
      "source": [
        "test_mask[n_train + n_val:] = True"
      ],
      "metadata": {
        "id": "zRYIR4H76FTA"
      },
      "execution_count": 136,
      "outputs": []
    },
    {
      "cell_type": "code",
      "source": [
        "g.ndata['train_mask'] = train_mask"
      ],
      "metadata": {
        "id": "AoRuraDInRHu"
      },
      "execution_count": 137,
      "outputs": []
    },
    {
      "cell_type": "code",
      "source": [
        "g.ndata['val_mask'] = val_mask"
      ],
      "metadata": {
        "id": "pU8Ro7FsntTY"
      },
      "execution_count": 138,
      "outputs": []
    },
    {
      "cell_type": "code",
      "source": [
        "g.ndata['test_mask'] = test_mask"
      ],
      "metadata": {
        "id": "5vRy2Xsl6G4w"
      },
      "execution_count": 139,
      "outputs": []
    },
    {
      "cell_type": "code",
      "source": [
        "s_array = df['Class'].to_numpy()\n",
        "s_array"
      ],
      "metadata": {
        "colab": {
          "base_uri": "https://localhost:8080/"
        },
        "id": "BeIWr8AMoNpQ",
        "outputId": "5ed392b5-41f7-4d88-e778-b51ea4eedd49"
      },
      "execution_count": 140,
      "outputs": [
        {
          "output_type": "execute_result",
          "data": {
            "text/plain": [
              "array([0, 0, 0, ..., 1, 0, 1])"
            ]
          },
          "metadata": {},
          "execution_count": 140
        }
      ]
    },
    {
      "cell_type": "code",
      "source": [
        "t1 = torch.tensor(s_array)\n",
        "t1"
      ],
      "metadata": {
        "colab": {
          "base_uri": "https://localhost:8080/"
        },
        "id": "R97wW7EUoNrT",
        "outputId": "1c7c9345-09e3-4f10-8631-5c2323b1ceef"
      },
      "execution_count": 141,
      "outputs": [
        {
          "output_type": "execute_result",
          "data": {
            "text/plain": [
              "tensor([0, 0, 0,  ..., 1, 0, 1])"
            ]
          },
          "metadata": {},
          "execution_count": 141
        }
      ]
    },
    {
      "cell_type": "code",
      "source": [
        "g.ndata[\"label\"] =t1"
      ],
      "metadata": {
        "id": "hO8JibL0oNwE"
      },
      "execution_count": 142,
      "outputs": []
    },
    {
      "cell_type": "code",
      "source": [
        "label = g.ndata[\"label\"]"
      ],
      "metadata": {
        "id": "G2mtSADLoNx9"
      },
      "execution_count": 143,
      "outputs": []
    },
    {
      "cell_type": "code",
      "source": [
        "label[train_mask]"
      ],
      "metadata": {
        "colab": {
          "base_uri": "https://localhost:8080/"
        },
        "id": "YsuJWgi_eVHj",
        "outputId": "21fb0f03-e6e8-4fe7-fd3d-ca120be21a71"
      },
      "execution_count": 144,
      "outputs": [
        {
          "output_type": "execute_result",
          "data": {
            "text/plain": [
              "tensor([0, 0, 0,  ..., 1, 1, 1])"
            ]
          },
          "metadata": {},
          "execution_count": 144
        }
      ]
    },
    {
      "cell_type": "code",
      "source": [
        "label[val_mask]"
      ],
      "metadata": {
        "colab": {
          "base_uri": "https://localhost:8080/"
        },
        "id": "kvhuvz2hecjK",
        "outputId": "73ea0990-12c8-42b6-84fd-97cb4e5d8e75"
      },
      "execution_count": 145,
      "outputs": [
        {
          "output_type": "execute_result",
          "data": {
            "text/plain": [
              "tensor([1, 1, 1, 1, 1, 1, 0, 0, 0, 0, 0, 0, 0, 0, 0, 0, 0, 1, 1, 1, 1, 1, 1, 1,\n",
              "        1, 1, 1, 1, 0, 0, 0, 0, 0, 0, 0, 0, 0, 0, 0, 1, 1, 1, 1, 1, 1, 1, 1, 1,\n",
              "        1, 1, 0, 0, 0, 0, 0, 0, 0, 0, 0, 0, 1, 1, 1, 1, 1, 1, 1, 1, 1, 1, 0, 0,\n",
              "        0, 0, 0, 0, 0, 0, 0, 0, 1, 1, 1, 1, 1, 1, 1, 1, 1, 1, 0, 0, 0, 0, 0, 0,\n",
              "        0, 0, 0, 0, 1, 1, 1, 1, 1, 1, 1, 1, 1, 1, 0, 0, 0, 0, 0, 0, 0, 0, 0, 0,\n",
              "        1, 1, 1, 1, 1, 1, 1, 1, 1, 1, 0, 0, 0, 0, 0, 0, 0, 0, 0, 0, 1, 1, 1, 1,\n",
              "        1, 1, 1, 1, 1, 1, 0, 0, 0, 0, 0, 0, 0, 0, 0, 0, 1, 1, 1, 1, 1, 1, 1, 1,\n",
              "        1, 1, 0, 0, 0, 0, 0, 0, 0, 0, 0, 1, 1, 1, 1, 1, 1, 1, 1, 1, 0, 0, 0, 0,\n",
              "        0, 0, 0, 0, 0, 0, 1, 1, 1, 1, 1, 1, 1, 1, 1, 1, 0, 0, 0, 0, 0, 0, 0, 0,\n",
              "        0, 0, 1, 1, 1, 1, 1, 1, 1, 1, 1, 1, 0, 0, 0, 0, 0, 0, 0, 0, 0, 1, 1, 1,\n",
              "        1, 1, 1, 1, 1, 1, 0, 0, 0, 0, 0, 0, 0, 0, 0, 1, 1, 1, 1, 1, 1, 1, 1, 1,\n",
              "        0, 0, 0, 0, 0, 0, 0, 0, 0, 1, 1, 1, 1, 1, 1, 1, 1, 1, 0, 0, 0, 0, 0, 0,\n",
              "        0, 0, 0, 1, 1, 1, 1, 1, 1, 1, 1, 1, 0, 0, 0, 0, 0, 0, 0, 0, 1, 1, 1, 1,\n",
              "        1, 1, 1, 1, 0, 0, 0, 0, 0, 0, 0, 0, 0, 1, 1, 1, 1, 1, 1, 1, 1, 1, 0, 0,\n",
              "        0, 0, 0, 0, 0, 0, 0, 1, 1, 1, 1, 1, 1, 1, 1, 1, 0, 0, 0, 0, 0, 0, 0, 1,\n",
              "        1, 1, 1, 1, 1, 1, 0, 0, 0, 0, 0, 0, 0, 0, 1, 1, 1, 1, 1, 1, 1, 1, 0, 0,\n",
              "        0, 0, 0, 0, 0, 0, 1, 1, 1, 1, 1, 1, 1, 1, 0, 0, 0, 0, 0, 0, 0, 0, 1, 1,\n",
              "        1, 1, 1, 1, 1, 1, 0, 0, 0, 0, 0, 0, 0, 0, 0, 1, 1, 1, 1, 1, 1, 1, 1, 1,\n",
              "        0, 0, 0, 0, 0, 0, 0, 1, 1, 1, 1, 1, 1, 1, 0, 0, 0, 0, 0, 0, 0, 1, 1, 1,\n",
              "        1, 1, 1, 1, 0, 0, 0, 0, 0, 0, 0, 1, 1, 1, 1, 1, 1, 1, 0, 0, 0, 0, 0, 0,\n",
              "        0, 1, 1, 1, 1, 1, 1, 1, 0, 0, 0, 0, 0, 0, 0, 1, 1, 1, 1, 1, 1, 1, 0, 0,\n",
              "        0, 0, 0, 0, 0, 1, 1, 1, 1, 1, 1, 1, 0, 0, 0, 0, 0, 0, 0, 1, 1, 1, 1, 1,\n",
              "        1, 1, 0, 0, 0, 0, 0, 0, 0, 1, 1, 1, 1, 1, 1, 1, 0, 0, 0, 0, 0, 0, 0, 1,\n",
              "        1, 1, 1, 1, 1, 1, 0, 0, 0, 0, 0, 0, 0, 1, 1, 1, 1, 1, 1, 1, 0, 0, 0, 0,\n",
              "        0, 0, 1, 1, 1, 1, 1, 1, 0, 0, 0, 0, 0, 0, 0, 1, 1, 1, 1, 1, 1, 1, 0, 0,\n",
              "        0, 0, 0, 0, 0, 1, 1, 1, 1, 1, 1, 1, 0, 0, 0, 0, 0, 0, 0, 1, 1, 1, 1, 1,\n",
              "        1, 1, 0, 0, 0, 0, 0, 0, 1, 1, 1, 1, 1, 1, 0, 0, 0, 0, 0, 0, 0, 1, 1, 1,\n",
              "        1, 1, 1, 1, 0, 0, 0, 0, 0, 0, 1, 1, 1, 1, 1, 1, 0, 0, 0, 0, 0, 0, 1, 1,\n",
              "        1, 1, 1, 1, 0, 0, 0, 0, 0, 1, 1, 1, 1, 1, 0, 0, 0, 0, 0, 0, 0, 1, 1, 1,\n",
              "        1, 1, 1, 1, 0, 0, 0, 0, 0, 0, 1, 1, 1, 1, 1, 1, 0, 0, 0, 0, 0, 0, 1, 1,\n",
              "        1, 1, 1, 1, 0, 0, 0, 0, 0, 1, 1, 1, 1, 1, 0, 0, 0, 0, 0, 0, 1, 1, 1, 1,\n",
              "        1, 1, 0, 0, 0, 0, 0, 1, 1, 1, 1, 1, 0, 0, 0, 0, 0, 0, 1, 1, 1, 1, 1, 1,\n",
              "        0, 0, 0, 0, 0, 0, 1, 1, 1, 1, 1, 1, 0, 0, 0, 0, 0, 1, 1, 1, 1, 1, 0, 0,\n",
              "        0, 0, 0, 1, 1, 1, 1, 1, 0, 0, 0, 0, 0, 1, 1, 1, 1, 1, 0, 0, 0, 0, 0, 1,\n",
              "        1, 1, 1, 1, 0, 0, 0, 0, 0, 1, 1, 1, 1, 1, 0, 0, 0, 0, 0, 1, 1, 1, 1, 1,\n",
              "        0, 0, 0, 0, 0, 1, 1, 1, 1, 1, 0, 0, 0, 0, 0, 1, 1, 1, 1, 1, 0, 0, 0, 0,\n",
              "        0, 1, 1, 1, 1, 1, 0, 0, 0, 0, 0, 1, 1, 1, 1, 1, 0, 0, 0, 0, 0, 1, 1, 1,\n",
              "        1, 1, 0, 0, 0, 0, 0, 1, 1, 1, 1, 1, 0, 0, 0, 0, 0, 1, 1, 1, 1, 1, 0, 0,\n",
              "        0, 0, 0, 1, 1, 1, 1, 1, 0, 0, 0, 0, 0, 1, 1, 1, 1, 1, 0, 0, 0, 0, 0, 1,\n",
              "        1, 1, 1, 1, 0, 0, 0, 0, 0, 1])"
            ]
          },
          "metadata": {},
          "execution_count": 145
        }
      ]
    },
    {
      "cell_type": "code",
      "source": [
        "label[test_mask]"
      ],
      "metadata": {
        "colab": {
          "base_uri": "https://localhost:8080/"
        },
        "id": "xWAMRS8n6RIp",
        "outputId": "7a9071dd-4d0c-401a-e938-7a097dd4a625"
      },
      "execution_count": 146,
      "outputs": [
        {
          "output_type": "execute_result",
          "data": {
            "text/plain": [
              "tensor([1, 1, 1, 1, 0, 0, 0, 0, 0, 1, 1, 1, 1, 1, 0, 0, 0, 0, 0, 1, 1, 1, 1, 1,\n",
              "        0, 0, 0, 0, 0, 1, 1, 1, 1, 1, 0, 0, 0, 0, 1, 1, 1, 1, 0, 0, 0, 0, 1, 1,\n",
              "        1, 1, 0, 0, 0, 0, 0, 1, 1, 1, 1, 1, 0, 0, 0, 0, 0, 1, 1, 1, 1, 1, 0, 0,\n",
              "        0, 0, 0, 1, 1, 1, 1, 1, 0, 0, 0, 0, 1, 1, 1, 1, 0, 0, 0, 0, 0, 1, 1, 1,\n",
              "        1, 1, 0, 0, 0, 0, 1, 1, 1, 1, 0, 0, 0, 0, 1, 1, 1, 1, 0, 0, 0, 0, 1, 1,\n",
              "        1, 1, 0, 0, 0, 0, 1, 1, 1, 1, 0, 0, 0, 0, 1, 1, 1, 1, 0, 0, 0, 0, 1, 1,\n",
              "        1, 1, 0, 0, 0, 0, 1, 1, 1, 1, 0, 0, 0, 0, 1, 1, 1, 1, 0, 0, 0, 0, 1, 1,\n",
              "        1, 1, 0, 0, 0, 0, 1, 1, 1, 1, 0, 0, 0, 0, 1, 1, 1, 1, 0, 0, 0, 1, 1, 1,\n",
              "        0, 0, 0, 1, 1, 1, 0, 0, 0, 0, 1, 1, 1, 1, 0, 0, 0, 1, 1, 1, 0, 0, 0, 1,\n",
              "        1, 1, 0, 0, 0, 1, 1, 1, 0, 0, 0, 0, 1, 1, 1, 1, 0, 0, 0, 1, 1, 1, 0, 0,\n",
              "        0, 1, 1, 1, 0, 0, 0, 1, 1, 1, 0, 0, 0, 1, 1, 1, 0, 0, 0, 1, 1, 1, 0, 0,\n",
              "        0, 1, 1, 1, 0, 0, 0, 1, 1, 1, 0, 0, 0, 0, 1, 1, 1, 1, 0, 0, 0, 1, 1, 1,\n",
              "        0, 0, 0, 1, 1, 1, 0, 0, 0, 1, 1, 1, 0, 0, 0, 1, 1, 1, 0, 0, 0, 0, 1, 1,\n",
              "        1, 1, 0, 0, 0, 1, 1, 1, 0, 0, 0, 1, 1, 1, 0, 0, 0, 1, 1, 1, 0, 0, 0, 1,\n",
              "        1, 1, 0, 0, 0, 1, 1, 1, 0, 0, 0, 1, 1, 1, 0, 0, 0, 1, 1, 1, 0, 0, 0, 1,\n",
              "        1, 1, 0, 0, 0, 1, 1, 1, 0, 0, 0, 1, 1, 1, 0, 0, 1, 1, 0, 0, 0, 1, 1, 1,\n",
              "        0, 0, 0, 1, 1, 1, 0, 0, 1, 1, 0, 0, 0, 1, 1, 1, 0, 0, 0, 1, 1, 1, 0, 0,\n",
              "        0, 1, 1, 1, 0, 0, 0, 1, 1, 1, 0, 0, 0, 1, 1, 1, 0, 0, 0, 1, 1, 1, 0, 0,\n",
              "        0, 1, 1, 1, 0, 0, 1, 1, 0, 0, 0, 1, 1, 1, 0, 0, 0, 1, 1, 1, 0, 0, 0, 1,\n",
              "        1, 1, 0, 0, 0, 1, 1, 1, 0, 0, 0, 1, 1, 1, 0, 0, 0, 1, 1, 1, 0, 0, 0, 1,\n",
              "        1, 1, 0, 0, 1, 1, 0, 0, 1, 1, 0, 0, 0, 1, 1, 1, 0, 0, 1, 1, 0, 0, 1, 1,\n",
              "        0, 0, 1, 1, 0, 0, 1, 1, 0, 0, 1, 1, 0, 0, 0, 1, 1, 1, 0, 0, 1, 1, 0, 0,\n",
              "        1, 1, 0, 0, 1, 1, 0, 0, 1, 1, 0, 0, 1, 1, 0, 0, 0, 1, 1, 1, 0, 0, 0, 1,\n",
              "        1, 1, 0, 0, 1, 1, 0, 0, 1, 1, 0, 0, 1, 1, 0, 0, 1, 1, 0, 0, 1, 1, 0, 0,\n",
              "        1, 1, 0, 0, 1, 1, 0, 0, 1, 1, 0, 0, 1, 1, 0, 0, 1, 1, 0, 0, 1, 1, 0, 0,\n",
              "        1, 1, 0, 0, 1, 1, 0, 0, 1, 1, 0, 0, 1, 1, 0, 0, 1, 1, 0, 0, 1, 1, 0, 0,\n",
              "        1, 1, 0, 0, 1, 1, 0, 0, 1, 1, 0, 0, 1, 1, 0, 0, 1, 1, 0, 0, 1, 1, 0, 0,\n",
              "        1, 1, 0, 0, 1, 1, 0, 0, 1, 1, 0, 0, 1, 1, 0, 0, 1, 1, 0, 0, 1, 1, 0, 0,\n",
              "        1, 1, 0, 0, 1, 1, 0, 0, 1, 1, 0, 0, 1, 1, 0, 0, 1, 1, 0, 0, 1, 1, 0, 0,\n",
              "        1, 1, 0, 0, 1, 1, 0, 1, 0, 0, 1, 1, 0, 0, 1, 1, 0, 0, 1, 1, 0, 0, 1, 1,\n",
              "        0, 0, 1, 1, 0, 0, 1, 1, 0, 0, 1, 1, 0, 0, 1, 1, 0, 0, 1, 1, 0, 0, 1, 1,\n",
              "        0, 0, 1, 1, 0, 0, 1, 1, 0, 0, 1, 1, 0, 0, 1, 1, 0, 0, 1, 1, 0, 1, 0, 0,\n",
              "        1, 1, 0, 0, 1, 1, 0, 1, 0, 1, 0, 0, 1, 1, 0, 0, 1, 1, 0, 0, 1, 1, 0, 1,\n",
              "        0, 0, 1, 1, 0, 1, 0, 0, 1, 1, 0, 1, 0, 0, 1, 1, 0, 1, 0, 1, 0, 0, 1, 1,\n",
              "        0, 1, 0, 0, 1, 1, 0, 1, 0, 0, 1, 1, 0, 0, 1, 1, 0, 1, 0, 0, 1, 1, 0, 0,\n",
              "        1, 1, 0, 0, 1, 1, 0, 1, 0, 0, 1, 1, 0, 1, 0, 1, 0, 1, 0, 0, 1, 1, 0, 1,\n",
              "        0, 1, 0, 1, 0, 0, 1, 1, 0, 1, 0, 1, 0, 0, 1, 1, 0, 1, 0, 0, 1, 1, 0, 1,\n",
              "        0, 0, 1, 1, 0, 1, 0, 1, 0, 1, 0, 1, 0, 1, 0, 1, 0, 1, 0, 1, 0, 1, 0, 1,\n",
              "        0, 1, 0, 0, 1, 1, 0, 1, 0, 1, 0, 0, 1, 1, 0, 1, 0, 1, 0, 1, 0, 1, 0, 1,\n",
              "        0, 1, 0, 1, 0, 1, 0, 1, 0, 1])"
            ]
          },
          "metadata": {},
          "execution_count": 146
        }
      ]
    },
    {
      "cell_type": "code",
      "source": [
        "train_mask"
      ],
      "metadata": {
        "colab": {
          "base_uri": "https://localhost:8080/"
        },
        "id": "3y5BqD8cn98w",
        "outputId": "9b437539-1afe-4286-a6ed-6b326ba1aa62"
      },
      "execution_count": 147,
      "outputs": [
        {
          "output_type": "execute_result",
          "data": {
            "text/plain": [
              "tensor([ True,  True,  True,  ..., False, False, False])"
            ]
          },
          "metadata": {},
          "execution_count": 147
        }
      ]
    },
    {
      "cell_type": "code",
      "source": [
        "val_mask"
      ],
      "metadata": {
        "colab": {
          "base_uri": "https://localhost:8080/"
        },
        "id": "5KuQJLqCdLcy",
        "outputId": "623e029e-1430-4a4d-bd5a-01e52a512cdd"
      },
      "execution_count": 148,
      "outputs": [
        {
          "output_type": "execute_result",
          "data": {
            "text/plain": [
              "tensor([False, False, False,  ..., False, False, False])"
            ]
          },
          "metadata": {},
          "execution_count": 148
        }
      ]
    },
    {
      "cell_type": "code",
      "source": [
        "test_mask"
      ],
      "metadata": {
        "colab": {
          "base_uri": "https://localhost:8080/"
        },
        "id": "PLvVKgSl6UvR",
        "outputId": "33e0984d-0ff6-4e52-9af3-c1b181bff289"
      },
      "execution_count": 149,
      "outputs": [
        {
          "output_type": "execute_result",
          "data": {
            "text/plain": [
              "tensor([False, False, False,  ...,  True,  True,  True])"
            ]
          },
          "metadata": {},
          "execution_count": 149
        }
      ]
    },
    {
      "cell_type": "code",
      "source": [
        "clf = LogisticRegression()\n",
        "clf.fit(g.ndata['feat'][train_mask], label[train_mask])\n",
        "\n",
        "#y_hat_val_lr = clf.predict_proba(X_kbest_features[val_mask,:])\n",
        "y_val_lr = clf.predict(g.ndata['feat'][val_mask])"
      ],
      "metadata": {
        "id": "UFj-vT9UNAE9"
      },
      "execution_count": 150,
      "outputs": []
    },
    {
      "cell_type": "code",
      "source": [
        "accuracy_score(label[val_mask], y_val_lr)"
      ],
      "metadata": {
        "colab": {
          "base_uri": "https://localhost:8080/"
        },
        "id": "XO4SUnuUNAIh",
        "outputId": "b70c3562-1f28-48b5-ea37-c4950eda3d06"
      },
      "execution_count": 151,
      "outputs": [
        {
          "output_type": "execute_result",
          "data": {
            "text/plain": [
              "0.8911205073995772"
            ]
          },
          "metadata": {},
          "execution_count": 151
        }
      ]
    },
    {
      "cell_type": "code",
      "source": [
        "clf_balanced = LogisticRegression(class_weight='balanced', max_iter=1000)\n",
        "clf_balanced.fit(g.ndata['feat'][train_mask], label[train_mask])\n",
        "\n",
        "y_val_lrb = clf_balanced.predict(g.ndata['feat'][val_mask])\n",
        "accuracy_score(label[val_mask], y_val_lrb)"
      ],
      "metadata": {
        "colab": {
          "base_uri": "https://localhost:8080/"
        },
        "id": "bG3ModKdNAL7",
        "outputId": "960a0e7b-ace4-4469-e311-a1be07c0be20"
      },
      "execution_count": 152,
      "outputs": [
        {
          "output_type": "execute_result",
          "data": {
            "text/plain": [
              "0.8911205073995772"
            ]
          },
          "metadata": {},
          "execution_count": 152
        }
      ]
    },
    {
      "cell_type": "code",
      "source": [
        "rf = RandomForestClassifier(n_estimators=400)\n",
        "rf.fit(g.ndata['feat'][train_mask,:], label[train_mask])\n",
        "\n",
        "y_val_rf = rf.predict(g.ndata['feat'][val_mask,:])\n",
        "accuracy_score(label[val_mask], y_val_rf)"
      ],
      "metadata": {
        "colab": {
          "base_uri": "https://localhost:8080/"
        },
        "id": "L-WtXX_BNAO_",
        "outputId": "8e46e9be-f140-4dcb-ab31-c7c2e0d81abf"
      },
      "execution_count": 153,
      "outputs": [
        {
          "output_type": "execute_result",
          "data": {
            "text/plain": [
              "0.8953488372093024"
            ]
          },
          "metadata": {},
          "execution_count": 153
        }
      ]
    },
    {
      "cell_type": "code",
      "source": [
        "gb = GradientBoostingClassifier(n_estimators=300, learning_rate=1.0, max_depth=1, random_state=0)\n",
        "gb.fit(g.ndata['feat'][train_mask,:], label[train_mask])\n",
        "\n",
        "y_val_rf = gb.predict(g.ndata['feat'][val_mask,:])\n",
        "accuracy_score(label[val_mask], y_val_rf)"
      ],
      "metadata": {
        "colab": {
          "base_uri": "https://localhost:8080/"
        },
        "id": "pk1pg29uNLTT",
        "outputId": "1a302c33-336d-4529-c56a-d00793d1a92b"
      },
      "execution_count": 154,
      "outputs": [
        {
          "output_type": "execute_result",
          "data": {
            "text/plain": [
              "0.8604651162790697"
            ]
          },
          "metadata": {},
          "execution_count": 154
        }
      ]
    },
    {
      "cell_type": "code",
      "source": [
        "ab = AdaBoostClassifier(n_estimators=400, random_state=0)\n",
        "ab.fit(g.ndata['feat'][train_mask,:], label[train_mask])\n",
        "\n",
        "y_val_rf = ab.predict(g.ndata['feat'][val_mask,:])\n",
        "accuracy_score(label[val_mask], y_val_rf)"
      ],
      "metadata": {
        "colab": {
          "base_uri": "https://localhost:8080/"
        },
        "id": "18ese6-HNLXs",
        "outputId": "94b29089-4f5a-41b9-9a52-986b04207c97"
      },
      "execution_count": 155,
      "outputs": [
        {
          "output_type": "execute_result",
          "data": {
            "text/plain": [
              "0.8625792811839323"
            ]
          },
          "metadata": {},
          "execution_count": 155
        }
      ]
    },
    {
      "cell_type": "code",
      "source": [
        "from sklearn.model_selection import KFold\n",
        "from sklearn.model_selection import StratifiedKFold\n",
        "from sklearn.model_selection import cross_val_score\n",
        "cv = KFold(n_splits=10, random_state=7, shuffle=True)"
      ],
      "metadata": {
        "id": "sxwsxrFHNLbj"
      },
      "execution_count": 156,
      "outputs": []
    },
    {
      "cell_type": "code",
      "source": [
        "from sklearn.linear_model import LogisticRegression\n",
        "log = LogisticRegression(max_iter=10000) \n",
        "scores = cross_val_score(log, g.ndata['feat'], label, cv=cv, n_jobs=-1)\n",
        "print(np.mean(scores))"
      ],
      "metadata": {
        "colab": {
          "base_uri": "https://localhost:8080/"
        },
        "id": "0a4zKi8CNLfE",
        "outputId": "c9a03ae4-f88c-467e-a307-cdeb8a540373"
      },
      "execution_count": 157,
      "outputs": [
        {
          "output_type": "stream",
          "name": "stdout",
          "text": [
            "0.851797040169133\n"
          ]
        }
      ]
    },
    {
      "cell_type": "code",
      "source": [
        "from sklearn.svm import LinearSVC\n",
        "lsvm = LinearSVC()\n",
        "scores = cross_val_score(lsvm, g.ndata['feat'], label, cv=cv, n_jobs=-1)\n",
        "print(np.mean(scores))"
      ],
      "metadata": {
        "colab": {
          "base_uri": "https://localhost:8080/"
        },
        "id": "JiwpGE2rNLkS",
        "outputId": "61686535-98df-4e1c-e566-33142dfddc1e"
      },
      "execution_count": 158,
      "outputs": [
        {
          "output_type": "stream",
          "name": "stdout",
          "text": [
            "0.8782241014799155\n"
          ]
        }
      ]
    },
    {
      "cell_type": "code",
      "source": [
        "from sklearn.linear_model import PassiveAggressiveClassifier\n",
        "pa=PassiveAggressiveClassifier(max_iter=1000, random_state=7, tol=1e-3)\n",
        "scores = cross_val_score(pa, g.ndata['feat'], label, cv=cv, n_jobs=-1)\n",
        "print(np.mean(scores))"
      ],
      "metadata": {
        "colab": {
          "base_uri": "https://localhost:8080/"
        },
        "id": "63xUMeXVNLwc",
        "outputId": "e503395b-5acf-4b66-d6e2-af2c272ba6c5"
      },
      "execution_count": 159,
      "outputs": [
        {
          "output_type": "stream",
          "name": "stdout",
          "text": [
            "0.8668076109936574\n"
          ]
        }
      ]
    },
    {
      "cell_type": "code",
      "source": [
        "from sklearn.ensemble import RandomForestClassifier\n",
        "rf = RandomForestClassifier(n_estimators=300)\n",
        "scores = cross_val_score(rf, g.ndata['feat'], label, cv=cv, n_jobs=-1)\n",
        "print(np.mean(scores))"
      ],
      "metadata": {
        "colab": {
          "base_uri": "https://localhost:8080/"
        },
        "id": "g007IZlZNLzz",
        "outputId": "e8df5652-45a3-4332-de3a-a37de1497fc0"
      },
      "execution_count": 160,
      "outputs": [
        {
          "output_type": "stream",
          "name": "stdout",
          "text": [
            "0.8558139534883722\n"
          ]
        }
      ]
    },
    {
      "cell_type": "code",
      "source": [
        "from sklearn.ensemble import AdaBoostClassifier\n",
        "ab = AdaBoostClassifier(n_estimators=300)\n",
        "scores = cross_val_score(ab, g.ndata['feat'], label, cv=cv, n_jobs=-1)\n",
        "print(np.mean(scores))"
      ],
      "metadata": {
        "colab": {
          "base_uri": "https://localhost:8080/"
        },
        "id": "sdv41XFHNL2h",
        "outputId": "474fd781-d1fa-4492-cafb-3a44b87697ec"
      },
      "execution_count": 161,
      "outputs": [
        {
          "output_type": "stream",
          "name": "stdout",
          "text": [
            "0.8450317124735729\n"
          ]
        }
      ]
    },
    {
      "cell_type": "code",
      "source": [
        "from sklearn.ensemble import GradientBoostingClassifier\n",
        "gb = GradientBoostingClassifier(n_estimators=300)\n",
        "scores = cross_val_score(gb, g.ndata['feat'], label, cv=cv, n_jobs=-1)\n",
        "print(np.mean(scores))"
      ],
      "metadata": {
        "colab": {
          "base_uri": "https://localhost:8080/"
        },
        "id": "Q_fg6s0jNAR8",
        "outputId": "6d80ce7c-3d22-4af1-bfe3-10385a1f3f83"
      },
      "execution_count": 162,
      "outputs": [
        {
          "output_type": "stream",
          "name": "stdout",
          "text": [
            "0.8553911205073996\n"
          ]
        }
      ]
    },
    {
      "cell_type": "code",
      "source": [
        "import xgboost as xgb\n",
        "xgbc = xgb.XGBClassifier(base_score=0.5, booster='gbtree', colsample_bylevel=1,\n",
        "              colsample_bynode=1, colsample_bytree=1, \n",
        "              gamma=0,  importance_type='gain',\n",
        "              interaction_constraints='', learning_rate=0.300000012,\n",
        "              max_delta_step=0, max_depth=6, min_child_weight=1, \n",
        "             n_estimators=200, n_jobs=16,\n",
        "              num_parallel_tree=1, random_state=0,\n",
        "              reg_alpha=0, reg_lambda=1, subsample=1,\n",
        "              tree_method='exact', use_label_encoder=False\n",
        "              )\n",
        "scores = cross_val_score(xgbc, g.ndata['feat'], label, cv=cv, n_jobs=-1)\n",
        "print(np.mean(scores))"
      ],
      "metadata": {
        "colab": {
          "base_uri": "https://localhost:8080/"
        },
        "id": "F4fTHJstNhQx",
        "outputId": "e7c11292-9988-4ce6-b2ad-c2099a73adcc"
      },
      "execution_count": 163,
      "outputs": [
        {
          "output_type": "stream",
          "name": "stdout",
          "text": [
            "0.86553911205074\n"
          ]
        }
      ]
    },
    {
      "cell_type": "code",
      "source": [
        "# Contruct a two-layer GNN model\n",
        "import dgl.nn as dglnn\n",
        "import torch.nn as nn\n",
        "import torch.nn.functional as F\n",
        "class SAGE(nn.Module):\n",
        "    def __init__(self, in_feats, hid_feats, out_feats):\n",
        "        super().__init__()\n",
        "        self.conv1 = dglnn.SAGEConv(\n",
        "            in_feats=in_feats, out_feats=hid_feats, aggregator_type='mean')\n",
        "        self.conv2 = dglnn.SAGEConv(\n",
        "            in_feats=hid_feats, out_feats=out_feats, aggregator_type='mean')\n",
        "\n",
        "    def forward(self, graph, inputs):\n",
        "        # inputs are features of nodes\n",
        "        h = self.conv1(graph, inputs)\n",
        "        h = F.relu(h)\n",
        "        h = self.conv2(graph, h)\n",
        "        return h"
      ],
      "metadata": {
        "id": "loFwUeF55eRu"
      },
      "execution_count": 164,
      "outputs": []
    },
    {
      "cell_type": "code",
      "source": [
        "node_features = g.ndata['feat'].float()\n",
        "node_labels = g.ndata['label']\n",
        "train_mask = g.ndata['train_mask']\n",
        "valid_mask = g.ndata['val_mask']\n",
        "test_mask = g.ndata['test_mask']\n",
        "n_features = node_features.shape[1]\n",
        "n_labels = int(node_labels.max().item() + 1)"
      ],
      "metadata": {
        "id": "2evPH8TQ5eU9"
      },
      "execution_count": 165,
      "outputs": []
    },
    {
      "cell_type": "code",
      "source": [
        "node_features"
      ],
      "metadata": {
        "colab": {
          "base_uri": "https://localhost:8080/"
        },
        "id": "5WImXqoT7fJR",
        "outputId": "a6a05524-f5c2-444b-cb9d-1d805694b617"
      },
      "execution_count": 166,
      "outputs": [
        {
          "output_type": "execute_result",
          "data": {
            "text/plain": [
              "tensor([[0.0000, 0.0000, 0.0000,  ..., 0.0000, 0.0000, 0.0000],\n",
              "        [0.0000, 0.0000, 0.0000,  ..., 0.0000, 0.0000, 0.0000],\n",
              "        [0.0000, 0.0000, 0.0000,  ..., 0.0000, 0.0000, 0.0000],\n",
              "        ...,\n",
              "        [0.0000, 0.0000, 0.0000,  ..., 0.0000, 0.0000, 0.0000],\n",
              "        [0.0577, 0.0000, 0.0000,  ..., 0.0587, 0.0549, 0.0000],\n",
              "        [0.0000, 0.0000, 0.0000,  ..., 0.0000, 0.0504, 0.0000]])"
            ]
          },
          "metadata": {},
          "execution_count": 166
        }
      ]
    },
    {
      "cell_type": "code",
      "source": [
        "def evaluate(model, g, features, labels, mask):\n",
        "    model.eval()\n",
        "    with torch.no_grad():\n",
        "        logits = model(g, features)\n",
        "        logits = logits[mask]\n",
        "        labels = labels[mask]\n",
        "        _, indices = torch.max(logits, dim=1)\n",
        "        correct = torch.sum(indices == labels)\n",
        "        return correct.item() * 1.0 / len(labels)"
      ],
      "metadata": {
        "id": "1I3QmqAo5eYF"
      },
      "execution_count": 167,
      "outputs": []
    },
    {
      "cell_type": "code",
      "source": [
        "model = SAGE(in_feats=n_features, hid_feats=100, out_feats=n_labels)\n",
        "opt = torch.optim.Adam(model.parameters())\n",
        "\n",
        "for epoch in range(50):\n",
        "    model.train()\n",
        "    # forward propagation by using all nodes\n",
        "    logits = model(g, node_features)\n",
        "    # compute loss\n",
        "    loss = F.cross_entropy(logits[train_mask], node_labels[train_mask])\n",
        "    # compute validation accuracy\n",
        "    acc = evaluate(model, g, node_features, node_labels, test_mask)\n",
        "    print(acc)\n",
        "    # backward propagation\n",
        "    opt.zero_grad()\n",
        "    loss.backward()\n",
        "    opt.step()\n",
        "    #print(loss.item())\n",
        "\n",
        "    # Save model if necessary.  Omitted in this example."
      ],
      "metadata": {
        "colab": {
          "base_uri": "https://localhost:8080/"
        },
        "id": "g9NZBq095ea9",
        "outputId": "de262e8f-bc30-4527-fc76-3c5029a3329f"
      },
      "execution_count": 168,
      "outputs": [
        {
          "output_type": "stream",
          "name": "stdout",
          "text": [
            "0.4334038054968288\n"
          ]
        },
        {
          "output_type": "stream",
          "name": "stderr",
          "text": [
            "/usr/local/lib/python3.7/dist-packages/torch/amp/autocast_mode.py:198: UserWarning: User provided device_type of 'cuda', but CUDA is not available. Disabling\n",
            "  warnings.warn('User provided device_type of \\'cuda\\', but CUDA is not available. Disabling')\n"
          ]
        },
        {
          "output_type": "stream",
          "name": "stdout",
          "text": [
            "0.5169133192389006\n",
            "0.6342494714587738\n",
            "0.7241014799154334\n",
            "0.806553911205074\n",
            "0.8583509513742071\n",
            "0.8847780126849895\n",
            "0.8932346723044398\n",
            "0.9038054968287527\n",
            "0.919661733615222\n",
            "0.9302325581395349\n",
            "0.9344608879492601\n",
            "0.9408033826638478\n",
            "0.9418604651162791\n",
            "0.9418604651162791\n",
            "0.9439746300211417\n",
            "0.9471458773784355\n",
            "0.9482029598308668\n",
            "0.9482029598308668\n",
            "0.9503171247357294\n",
            "0.9534883720930233\n",
            "0.9534883720930233\n",
            "0.9566596194503171\n",
            "0.959830866807611\n",
            "0.9608879492600423\n",
            "0.9608879492600423\n",
            "0.9619450317124736\n",
            "0.9630021141649049\n",
            "0.9640591966173362\n",
            "0.9651162790697675\n",
            "0.9661733615221987\n",
            "0.9661733615221987\n",
            "0.96723044397463\n",
            "0.96723044397463\n",
            "0.9682875264270613\n",
            "0.9704016913319239\n",
            "0.9704016913319239\n",
            "0.9704016913319239\n",
            "0.9704016913319239\n",
            "0.9704016913319239\n",
            "0.9704016913319239\n",
            "0.9704016913319239\n",
            "0.9704016913319239\n",
            "0.9704016913319239\n",
            "0.9704016913319239\n",
            "0.9704016913319239\n",
            "0.9704016913319239\n",
            "0.9704016913319239\n",
            "0.9704016913319239\n",
            "0.9704016913319239\n"
          ]
        }
      ]
    }
  ],
  "metadata": {
    "colab": {
      "provenance": [],
      "collapsed_sections": []
    },
    "kernelspec": {
      "display_name": "Python 3",
      "language": "python",
      "name": "python3"
    },
    "language_info": {
      "codemirror_mode": {
        "name": "ipython",
        "version": 3
      },
      "file_extension": ".py",
      "mimetype": "text/x-python",
      "name": "python",
      "nbconvert_exporter": "python",
      "pygments_lexer": "ipython3",
      "version": "3.6.8"
    },
    "accelerator": "GPU"
  },
  "nbformat": 4,
  "nbformat_minor": 0
}